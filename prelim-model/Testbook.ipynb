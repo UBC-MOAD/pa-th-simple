{
 "metadata": {
  "name": "",
  "signature": "sha256:1334826a7e7b87b5ff2ca7212c39bed9d15055c4e9e05e385da5dad5aadb2f41"
 },
 "nbformat": 3,
 "nbformat_minor": 0,
 "worksheets": [
  {
   "cells": [
    {
     "cell_type": "code",
     "collapsed": false,
     "input": [
      "from __future__ import division\n",
      "import numpy\n",
      "import pylab\n",
      "import math\n",
      "import matplotlib.pyplot as plt\n",
      "from math import pi\n",
      "import ThPa2D\n",
      "import profile_plots as pp\n",
      "%matplotlib inline"
     ],
     "language": "python",
     "metadata": {},
     "outputs": [],
     "prompt_number": 1
    },
    {
     "cell_type": "code",
     "collapsed": false,
     "input": [],
     "language": "python",
     "metadata": {},
     "outputs": []
    }
   ],
   "metadata": {}
  }
 ]
}