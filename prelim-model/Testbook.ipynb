{
 "metadata": {
  "name": "",
  "signature": "sha256:d52826f074cf0092a18aada532645c95c1a60d0e44d2c225742e1bd3b48489d4"
 },
 "nbformat": 3,
 "nbformat_minor": 0,
 "worksheets": [
  {
   "cells": [
    {
     "cell_type": "code",
     "collapsed": false,
     "input": [
      "from __future__ import division\n",
      "import numpy as np\n",
      "import pylab as plb\n",
      "import math\n",
      "import copy\n",
      "import matplotlib.pyplot as plt\n",
      "from math import pi\n",
      "import ThPa2D\n",
      "import flow\n",
      "import plot\n",
      "import profile_plots as pp\n",
      "%matplotlib inline"
     ],
     "language": "python",
     "metadata": {},
     "outputs": [],
     "prompt_number": 1
    },
    {
     "cell_type": "code",
     "collapsed": false,
     "input": [
      "# setup function adflow for Th \n",
      "reload(ThPa2D)\n",
      "reload(plot)\n",
      "reload(flow)\n",
      "tmax = (0, 0.1, 2, 3, 5, 10, 20, 60, 100)\n",
      "t = tmax[0]\n",
      "T = tmax[1]\n",
      "V = 0.02/1000*365.*86400.\n",
      "xmin = 0\n",
      "xmax = 1e6\n",
      "zmin = 0\n",
      "zmax = 5e3\n",
      "nz = 20\n",
      "nx = 30\n",
      "ng = 1\n",
      "g = ThPa2D.Fgrid(nx, nz, ng)\n",
      "h = ThPa2D.Fgrid(nx, nz, ng)\n",
      "# chemistry\n",
      "k_ad, k_de, Q = ThPa2D.k_sorp('Pa', zmin, zmax, nx, nz)\n",
      "# velocity\n",
      "u = flow.onecell_cen(xmin, xmax, zmin, zmax, nx, nz, V)\n",
      "# initial profile\n",
      "init = plot.init(g.a, h.a, u, xmin, xmax, zmin, zmax, nx, nz, 'Th')\n",
      "# Th loop\n",
      "g, h = ThPa2D.adflow(g, h, t, T, u, k_ad, k_de, Q, ThPa2D.TVD)\n",
      "#plot results\n",
      "meshTh = plot.prof(g, h, xmin, xmax, zmin, zmax, nx, nz, T, 'Th')\n",
      "# store results\n",
      "DPa0vel = {}\n",
      "PPa0vel = {}\n",
      "DPa0vel['1tmax'] = copy.copy(g.a)\n",
      "PPa0vel['1tmax'] = copy.copy(h.a)"
     ],
     "language": "python",
     "metadata": {},
     "outputs": []
    },
    {
     "cell_type": "code",
     "collapsed": false,
     "input": [],
     "language": "python",
     "metadata": {},
     "outputs": []
    }
   ],
   "metadata": {}
  }
 ]
}