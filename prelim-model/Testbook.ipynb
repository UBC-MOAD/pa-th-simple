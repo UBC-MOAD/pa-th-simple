{
 "metadata": {
  "name": "",
  "signature": "sha256:1cdbd0ffcc53f226be69fa04a1f0ba156a592caec3400361d0506753e2cc3c4f"
 },
 "nbformat": 3,
 "nbformat_minor": 0,
 "worksheets": [
  {
   "cells": [
    {
     "cell_type": "code",
     "collapsed": false,
     "input": [
      "from __future__ import division\n",
      "import numpy\n",
      "import pylab\n",
      "import math\n",
      "import matplotlib.pyplot as plt\n",
      "from math import pi\n",
      "import ThPa2D\n",
      "import profile_plots as pp\n",
      "%matplotlib inline"
     ],
     "language": "python",
     "metadata": {},
     "outputs": [],
     "prompt_number": 2
    },
    {
     "cell_type": "code",
     "collapsed": false,
     "input": [
      "reload(ThPa2D)"
     ],
     "language": "python",
     "metadata": {},
     "outputs": [
      {
       "metadata": {},
       "output_type": "pyout",
       "prompt_number": 37,
       "text": [
        "<module 'ThPa2D' from 'ThPa2D.py'>"
       ]
      }
     ],
     "prompt_number": 37
    },
    {
     "cell_type": "code",
     "collapsed": false,
     "input": [
      "# vectorize\n",
      "def upwind(g, h, t, T, u, k_ad, k_de, Q, S, dt):\n",
      "\n",
      "\t# extract the velocities\n",
      "\tuz = u[:, :, 0]\n",
      "\tux = u[:, :, 1]\n",
      "\n",
      "\t# evolution loop\n",
      "\tanew = g.a\n",
      "\tbnew = h.a\n",
      "\n",
      "\t# define upwind for x, z OUTSIDE loop ONLY while du/dt = 0\n",
      "\tp_upx = numpy.sign(ux)*0.5*( numpy.sign(ux) - 1)\n",
      "\tn_upx = numpy.sign(ux)*0.5*( numpy.sign(ux) + 1)\n",
      "\tp_upz = numpy.sign(uz + S)*0.5*( numpy.sign(uz + S) - 1)\n",
      "\tn_upz = numpy.sign(uz + S)*0.5*( numpy.sign(uz + S) + 1)\n",
      "\n",
      "\twhile (t < T):\n",
      "\n",
      "\t\t# fill the boundary conditions\n",
      "\t\tg.fillBCs()\n",
      "\t\th.fillBCs()\n",
      "\n",
      "\t\t# loop over zones: note since we are periodic and both endpoints\n",
      "\t\t# are on the computational domain boundary, we don't have to\n",
      "\t\t# update both g.ilo and g.ihi -- we could set them equal instead.\n",
      "\t\t# But this is more general\n",
      "\n",
      "\t\ti = g.ilo + 1\n",
      "\n",
      "\t\twhile (i <= g.ihi - 1):\n",
      "\n",
      "\t\t\tj = linspace(g.jlo + 1, g.jhi - 1, (g.jhi - 1) - (g.ilo + 1) + 1 )\n",
      "\n",
      "            # upwind numerical solution\n",
      "\n",
      "            # dissolved:\n",
      "            anew[i, j] = g.a[i, j] + ( Q - k_ad[i, j] * g.a[i, j] + k_de[i, j] * h.a[i, j] +\n",
      "                    ux[i, j] * ( n_upx[i, j]*g.a[i, j - 1] - g.a[i, j] + p_upx[i, j]*g.a[i, j + 1] ) / g.dx + \n",
      "                    uz[i, j] * ( n_upz[i, j]*g.a[i - 1, j] - g.a[i, j] + p_upz[i, j]*g.a[i + 1, j] ) / g.dz ) * dt\n",
      "\n",
      "            # particulate:\n",
      "            bnew[i, j] = h.a[i, j] + ( S * ( n_upz[i, j]*h.a[i - 1, j] - h.a[i, j] + p_upz[i, j]*h.a[i + 1, j]) / h.dz + \n",
      "                          k_ad[i, j] * g.a[i, j] - k_de[i, j] * h.a[i, j] + \n",
      "                    ux[i, j] * ( n_upx[i, j]*h.a[i, j - 1] - h.a[i, j] + p_upx[i, j]*h.a[i, j + 1] ) / h.dx +\n",
      "                    uz[i, j] * ( n_upz[i, j]*h.a[i - 1, j] - h.a[i, j] + p_upz[i, j]*h.a[i + 1, j] ) / h.dz ) * dt\n",
      "\t\t\ti += 1\n",
      "\n",
      "\t\t# store the (time) updated solution\n",
      "\t\tg.a[:] = anew[:]\n",
      "\t\th.a[:] = bnew[:]\n",
      "\t\tt += dt\n",
      "        return g, h\n"
     ],
     "language": "python",
     "metadata": {},
     "outputs": []
    }
   ],
   "metadata": {}
  }
 ]
}