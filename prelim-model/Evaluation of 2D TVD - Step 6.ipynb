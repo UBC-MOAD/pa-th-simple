{
 "metadata": {
  "name": "",
  "signature": "sha256:0d50f16a81c241cafba5b31ba101aa1220fbe820b8223bf4392b793d0366a0b5"
 },
 "nbformat": 3,
 "nbformat_minor": 0,
 "worksheets": [
  {
   "cells": [
    {
     "cell_type": "markdown",
     "metadata": {},
     "source": [
      "Number 6 in a series of notebooks to conscientiously review TVD code."
     ]
    },
    {
     "cell_type": "heading",
     "level": 1,
     "metadata": {},
     "source": [
      "Improve calculation of max/min concentration in neighbourhood:"
     ]
    },
    {
     "cell_type": "code",
     "collapsed": false,
     "input": [
      "from __future__ import division\n",
      "import numpy as np\n",
      "import pylab as plb\n",
      "import math\n",
      "import copy\n",
      "import matplotlib.pyplot as plt\n",
      "from math import pi\n",
      "import ThPa2D\n",
      "import flow\n",
      "import plot\n",
      "import profile_plots as pp\n",
      "%matplotlib inline"
     ],
     "language": "python",
     "metadata": {},
     "outputs": [],
     "prompt_number": 1
    },
    {
     "cell_type": "code",
     "collapsed": false,
     "input": [
      "# setup function adflow for Th \n",
      "reload(ThPa2D)\n",
      "reload(plot)\n",
      "reload(flow)\n",
      "tmax = (0, 1, 2, 3, 5, 10, 20, 60, 100)\n",
      "t = tmax[0]\n",
      "T = tmax[1]\n",
      "V = 0.02/1000*365.*86400.\n",
      "xmin = 0\n",
      "xmax = 1e6\n",
      "zmin = 0\n",
      "zmax = 5e3\n",
      "nz = 20\n",
      "nx = 32\n",
      "ng = 1\n",
      "g = ThPa2D.Fgrid(nx, nz, ng)\n",
      "h = ThPa2D.Fgrid(nx, nz, ng)\n",
      "# chemistry\n",
      "k_ad, k_de, Q = ThPa2D.k_sorp('Pa', zmin, zmax, nx, nz)\n",
      "# velocity\n",
      "u = flow.onecell_cen(xmin, xmax, zmin, zmax, nx, nz, V)\n",
      "# make profile ones to get non-zero advection terms\n",
      "g.a = np.ones((nz, nx))\n",
      "h.a = np.ones((nz, nx))"
     ],
     "language": "python",
     "metadata": {},
     "outputs": [],
     "prompt_number": 42
    },
    {
     "cell_type": "code",
     "collapsed": false,
     "input": [
      "# set up parameters defined in adflow\n",
      "S = 500  \n",
      "gS = (g.zmax - g.zmin)/S\n",
      "t *= gS\n",
      "T *= gS    \n",
      "dt = 0.001\n",
      "# extract the velocities\n",
      "uz = u[0, :, :]\n",
      "ux = u[1, :, :]\n",
      "# upstream factors\n",
      "sign_uz_S = np.sign(uz[:-1, :] + uz[1:, :] + S)\n",
      "sign_uz = np.sign(uz[:-1, :] + uz[1:, :])\n",
      "sign_ux = np.sign(ux[:, :-1] + ux[:, 1:])\n",
      "# define upstream for particulate phase (contains sinking vel.)\n",
      "p_upz_p = sign_uz_S * (sign_uz_S - 1)/2\n",
      "n_upz_p = sign_uz_S * (sign_uz_S + 1)/2\n",
      "# define upstream for dissolved phase\n",
      "p_upz_d = sign_uz * (sign_uz - 1)/2\n",
      "n_upz_d = sign_uz * (sign_uz + 1)/2\n",
      "# define upstream in x\n",
      "p_upx = sign_ux * (sign_ux - 1)/2\n",
      "n_upx = sign_ux * (sign_ux + 1)/2\n",
      "# decide whether to test particulate or dissolved phase\n",
      "conc = h\n",
      "p_upz = p_upz_p\n",
      "n_upz = n_upz_p\n",
      "sinkrate = S"
     ],
     "language": "python",
     "metadata": {},
     "outputs": [],
     "prompt_number": 47
    },
    {
     "cell_type": "code",
     "collapsed": false,
     "input": [
      "# upstream flux: C m/s\n",
      "fluxx_up = np.zeros((nz, nx))      \n",
      "fluxz_up = np.zeros((nz, nx)) \n",
      "# define entries 0:nx-2 inclusive using n_upz etc.\n",
      "fluxx_up[:, 0:nx-1] = ux[:, 0:nx-1]*conc.a[:, 0:nx-1] * n_upx[:, 0:nx-1] + ux[:, 1:nx]*conc.a[:, 1:nx] * p_upx[:, 0:nx-1]     # C m/s\n",
      "fluxz_up[0:nz-1, :] = (sinkrate + uz[0:nz-1, :])*conc.a[0:nz-1, :] * n_upz[0:nz-1, :] + (sinkrate + uz[1:nz, :])*conc.a[1:nz, :] * p_upz[0:nz-1, :]    # C m/s\n",
      "# simlulate settling in the bottom boundary (should be >0)\n",
      "fluxz_up[nz-1, :] = 2*fluxz_up[nz-2, :] - fluxz_up[nz-3, :]\n",
      "\n",
      "# d(conc)/dt according to upstream scheme (on the grid points)\n",
      "dtau_up_dt = np.zeros((nz, nx)) \n",
      "dtau_up_dt[1:nz, 1:nx] = (fluxx_up[1:nz, 0:nx-1] - fluxx_up[1:nz, 1:nx]) * conc.dx_i + (fluxz_up[0:nz-1, 1:nx] - fluxz_up[1:nz, 1:nx])  * conc.dz_i \n",
      "dtau_up_dt[0, 1:nx] = (fluxx_up[0, 0:nx-1] - fluxx_up[0, 1:nx]) * conc.dx_i - fluxz_up[0, 1:nx]  * conc.dz_i\n",
      "dtau_up_dt[1:nz, 0] = -fluxx_up[1:nz, 0] * conc.dx_i + (fluxz_up[0:nz-1, 0] - fluxz_up[1:nz, 0])  * conc.dz_i\n",
      "dtau_up_dt[0, 0] = - fluxx_up[0, 0] * conc.dx_i - fluxz_up[0, 0]  * conc.dz_i\n",
      "# new concentration based on upstream scheme\n",
      "tau_up = conc.a + dtau_up_dt * dt\n",
      "\n",
      "# centred flux\n",
      "fluxx_cen = np.zeros((nz, nx))        \n",
      "fluxz_cen = np.zeros((nz, nx))\n",
      "fluxx_cen[:, 0:nx-1] = 0.5 * ( conc.a[:, 0:nx-1]*ux[:, 0:nx-1] + conc.a[:, 1:nx]*ux[:, 1:nx] ) \n",
      "fluxz_cen[0:nz-1, :] = 0.5 * ( conc.a[0:nz-1, :]*(sinkrate + uz[0:nz-1, :]) + conc.a[1:nz, :]*(sinkrate + uz[1:nz, :] ))\n",
      "# flux at bottom boundary\n",
      "fluxz_cen[nz-1, :] = 2*fluxz_cen[nz-2, :] - fluxz_cen[nz-3, :]\n",
      "# anti-diffusive flux\n",
      "adfx = fluxx_cen - fluxx_up                     # conc*velocity\n",
      "adfz = fluxz_cen - fluxz_up\n"
     ],
     "language": "python",
     "metadata": {},
     "outputs": [],
     "prompt_number": 48
    },
    {
     "cell_type": "code",
     "collapsed": false,
     "input": [
      "tau_up1 = copy.copy(tau_up)"
     ],
     "language": "python",
     "metadata": {},
     "outputs": [],
     "prompt_number": 57
    },
    {
     "cell_type": "heading",
     "level": 4,
     "metadata": {},
     "source": [
      "On the open domain:"
     ]
    },
    {
     "cell_type": "code",
     "collapsed": false,
     "input": [
      "%%timeit\n",
      "# max and min concentrations in region\n",
      "conc_up = np.empty_like(conc.a)\n",
      "conc_do = np.empty_like(conc.a)\n",
      "# max/min in middle domain\n",
      "for j in range(1, nx - 1):\n",
      "                for i in range(1, nz - 1):\n",
      "                        conc_up[i, j] = max( np.max(conc.a[i-1:i+2, j-1:j+2]), np.max(tau_up[i-1:i+2, j-1:j+2]) ) \n",
      "                        conc_do[i, j] = min( np.min(conc.a[i-1:i+2, j-1:j+2]), np.min(tau_up[i-1:i+2, j-1:j+2]) )\n"
     ],
     "language": "python",
     "metadata": {},
     "outputs": [
      {
       "output_type": "stream",
       "stream": "stdout",
       "text": [
        "10 loops, best of 3: 23.5 ms per loop\n"
       ]
      }
     ],
     "prompt_number": 29
    },
    {
     "cell_type": "markdown",
     "metadata": {},
     "source": [
      "for loop is super slow, try using while:"
     ]
    },
    {
     "cell_type": "code",
     "collapsed": false,
     "input": [
      "%%timeit\n",
      "# max and min concentrations in region\n",
      "conc_up = np.empty_like(conc.a)\n",
      "conc_do = np.empty_like(conc.a)\n",
      "# max/min in middle domain\n",
      "j = 1\n",
      "while j < nx - 1:\n",
      "    i = 1\n",
      "    while i < nz - 1:\n",
      "        conc_up[i, j] = max( np.max(conc.a[i-1:i+2, j-1:j+2]), np.max(tau_up[i-1:i+2, j-1:j+2]) ) \n",
      "        conc_do[i, j] = min( np.min(conc.a[i-1:i+2, j-1:j+2]), np.min(tau_up[i-1:i+2, j-1:j+2]) )\n",
      "        i += 1\n",
      "    j += 1\n",
      "# 28 times faster than previous cell\n",
      "# while loops are only faster than for loops in nested sequences"
     ],
     "language": "python",
     "metadata": {},
     "outputs": [
      {
       "output_type": "stream",
       "stream": "stdout",
       "text": [
        "10 loops, best of 3: 23.3 ms per loop\n"
       ]
      }
     ],
     "prompt_number": 30
    },
    {
     "cell_type": "markdown",
     "metadata": {},
     "source": [
      "No improvement."
     ]
    },
    {
     "cell_type": "code",
     "collapsed": false,
     "input": [
      "%%timeit\n",
      "# max and min concentrations in t-shaped region\n",
      "conc_up = np.empty_like(conc.a)\n",
      "conc_do = np.empty_like(conc.a)\n",
      "conc_up[1:nz-1, 1:nx-1] = np.maximum( np.maximum( np.maximum( conc.a[1:nz-1, 0:nx-2], conc.a[1:nz-1, 2:nx] ), np.maximum( tau_up[1:nz-1, 0:nx-2], tau_up[1:nz-1, 2:nx] ) ), np.maximum( np.maximum( conc.a[0:nz-2, 1:nx-1], conc.a[1:nz-1, 1:nx-1], conc.a[2:nz, 1:nx-1] ), np.maximum( tau_up[0:nz-2, 1:nx-1], tau_up[1:nz-1, 1:nx-1], tau_up[2:nz, 1:nx-1] )) ) \n",
      "conc_do[1:nz-1, 1:nx-1] = np.minimum( np.minimum( np.minimum( conc.a[1:nz-1, 0:nx-2], conc.a[1:nz-1, 2:nx] ), np.minimum( tau_up[1:nz-1, 0:nx-2], tau_up[1:nz-1, 2:nx] ) ), np.minimum( np.minimum( conc.a[0:nz-2, 1:nx-1], conc.a[1:nz-1, 1:nx-1], conc.a[2:nz, 1:nx-1] ), np.minimum( tau_up[0:nz-2, 1:nx-1], tau_up[1:nz-1, 1:nx-1], tau_up[2:nz, 1:nx-1] )) ) \n"
     ],
     "language": "python",
     "metadata": {},
     "outputs": [
      {
       "output_type": "stream",
       "stream": "stdout",
       "text": [
        "10000 loops, best of 3: 111 \u00b5s per loop\n"
       ]
      }
     ],
     "prompt_number": 43
    },
    {
     "cell_type": "markdown",
     "metadata": {},
     "source": [
      "Sped up open domain calc. by factor of 212.\n",
      "\n",
      "*This ^ calculation runs through neighbours in a t-shape surrounding self.*"
     ]
    },
    {
     "cell_type": "code",
     "collapsed": false,
     "input": [
      "%%timeit\n",
      "# try rewriting the calculation of conc_up in matrix method:\n",
      "# max and min concentrations in 3x3 region\n",
      "conc_up = np.empty_like(conc.a)\n",
      "conc_do = np.empty_like(conc.a)\n",
      "# points to left and right \n",
      "conc_up[1:nz-1, 1:nx-1] = np.maximum(np.maximum( np.maximum( conc.a[0:nz-2, 0:nx-2], conc.a[0:nz-2, 1:nx-1], conc.a[0:nz-2, 2:nx] ), np.maximum( tau_up[0:nz-2, 0:nx-2], tau_up[0:nz-2, 1:nx-1], tau_up[0:nz-2, 2:nx] ) ), np.maximum( np.maximum( conc.a[1:nz-1, 0:nx-2], conc.a[1:nz-1, 1:nx-1], conc.a[1:nz-1, 2:nx] ), np.maximum( tau_up[1:nz-1, 0:nx-2], tau_up[1:nz-1, 1:nx-1], tau_up[1:nz-1, 2:nx] ) ), np.maximum( np.maximum( conc.a[2:nz, 0:nx-2], conc.a[2:nz, 1:nx-1], conc.a[2:nz, 2:nx]       ), np.maximum( tau_up[2:nz, 0:nx-2], tau_up[2:nz, 1:nx-1], tau_up[2:nz, 2:nx]       ) ) )\n",
      "conc_do[1:nz-1, 1:nx-1] = np.minimum(np.minimum( np.minimum( conc.a[0:nz-2, 0:nx-2], conc.a[0:nz-2, 1:nx-1], conc.a[0:nz-2, 2:nx] ), np.minimum( tau_up[0:nz-2, 0:nx-2], tau_up[0:nz-2, 1:nx-1], tau_up[0:nz-2, 2:nx] ) ), np.minimum( np.minimum( conc.a[1:nz-1, 0:nx-2], conc.a[1:nz-1, 1:nx-1], conc.a[1:nz-1, 2:nx] ), np.minimum( tau_up[1:nz-1, 0:nx-2], tau_up[1:nz-1, 1:nx-1], tau_up[1:nz-1, 2:nx] ) ), np.minimum( np.minimum( conc.a[2:nz, 0:nx-2], conc.a[2:nz, 1:nx-1], conc.a[2:nz, 2:nx]       ), np.minimum( tau_up[2:nz, 0:nx-2], tau_up[2:nz, 1:nx-1], tau_up[2:nz, 2:nx]       ) ) )\n"
     ],
     "language": "python",
     "metadata": {},
     "outputs": [
      {
       "output_type": "stream",
       "stream": "stdout",
       "text": [
        "10000 loops, best of 3: 172 \u00b5s per loop\n"
       ]
      }
     ],
     "prompt_number": 44
    },
    {
     "cell_type": "markdown",
     "metadata": {},
     "source": [
      "*This calculation runs through a 3x3 grid surrounding self.*"
     ]
    },
    {
     "cell_type": "heading",
     "level": 3,
     "metadata": {},
     "source": [
      "Plot and compare max/min calculation on open domain:"
     ]
    },
    {
     "cell_type": "heading",
     "level": 4,
     "metadata": {},
     "source": [
      "Loop method"
     ]
    },
    {
     "cell_type": "code",
     "collapsed": false,
     "input": [
      "%%timeit\n",
      "\n",
      "# max and min concentrations in region\n",
      "conc_up = np.zeros((nz, nx))\n",
      "conc_do = np.zeros((nz, nx))\n",
      "# max/min in open domain\n",
      "for j in range(1, nx):\n",
      "    for i in range(1, nz):\n",
      "        conc_up[i, j] = max( np.max(conc.a[i-1:i+2, j-1:j+2]), np.max(tau_up[i-1:i+2, j-1:j+2]) )\n",
      "        conc_do[i, j] = min( np.min(conc.a[i-1:i+2, j-1:j+2]), np.min(tau_up[i-1:i+2, j-1:j+2]) )\n",
      "               \n",
      "\n"
     ],
     "language": "python",
     "metadata": {},
     "outputs": [
      {
       "output_type": "stream",
       "stream": "stdout",
       "text": [
        "10 loops, best of 3: 25.8 ms per loop\n"
       ]
      }
     ],
     "prompt_number": 29
    },
    {
     "cell_type": "code",
     "collapsed": false,
     "input": [
      "%%timeit\n",
      "\n",
      "conc3=np.zeros((5,nz,nx)); tau3=np.zeros((5,nz,nx))\n",
      "\n",
      "conc3[0,1:nz-1,1:nx-1] = conc.a[1:nz-1,0:nx-2]\n",
      "conc3[1,1:nz-1,1:nx-1] = conc.a[1:nz-1,1:nx-1]\n",
      "conc3[2,1:nz-1,1:nx-1] = conc.a[1:nz-1,2:nx]\n",
      "conc3[3,1:nz-1,1:nx-1] = conc.a[0:nz-2,1:nx-1]\n",
      "conc3[4,1:nz-1,1:nx-1] = conc.a[2:nz,1:nx-1]\n",
      "tau3[0,1:nz-1,1:nx-1] = tau_up[1:nz-1,0:nx-2]\n",
      "tau3[1,1:nz-1,1:nx-1] = tau_up[1:nz-1,1:nx-1]\n",
      "tau3[2,1:nz-1,1:nx-1] = tau_up[1:nz-1,2:nx]\n",
      "tau3[3,1:nz-1,1:nx-1] = tau_up[0:nz-2,1:nx-1]\n",
      "tau3[4,1:nz-1,1:nx-1] = tau_up[2:nz,1:nx-1]   # C\n",
      "\n",
      "# on bounds\n",
      "# x = 0\n",
      "conc3[0,1:nz-1, 0] = conc.a[0:nz-2, 0]\n",
      "conc3[1,1:nz-1, 0] = conc.a[1:nz-1, 0]\n",
      "conc3[2,1:nz-1, 0] = conc.a[2:nz, 0]\n",
      "conc3[3,1:nz-1, 0] = conc.a[1:nz-1, 1]\n",
      "conc3[4,1:nz-1, 0] = conc.a[1:nz-1, 1]\n",
      "tau3[0,1:nz-1, 0] = tau_up[0:nz-2, 0]\n",
      "tau3[1,1:nz-1, 0] = tau_up[1:nz-1, 0]\n",
      "tau3[2,1:nz-1, 0] = tau_up[2:nz, 0]\n",
      "tau3[3,1:nz-1, 0] = tau_up[1:nz-1, 1]\n",
      "tau3[4,1:nz-1, 0] = tau_up[1:nz-1, 1]\n",
      "\n",
      "# x = xmax\n",
      "conc3[0,1:nz-1, nx-1] = conc.a[0:nz-2, nx-1]\n",
      "conc3[1,1:nz-1, nx-1] = conc.a[1:nz-1, nx-1]\n",
      "conc3[2,1:nz-1, nx-1] = conc.a[2:nz, nx-1]\n",
      "conc3[3,1:nz-1, nx-1] = conc.a[1:nz-1, nx-2]\n",
      "conc3[4,1:nz-1, nx-1] = conc.a[1:nz-1, nx-2]\n",
      "tau3[0,1:nz-1, nx-1] = tau_up[0:nz-2, nx-1]\n",
      "tau3[1,1:nz-1, nx-1] = tau_up[1:nz-1, nx-1]\n",
      "tau3[2,1:nz-1, nx-1] = tau_up[2:nz, nx-1]\n",
      "tau3[3,1:nz-1, nx-1] = tau_up[1:nz-1, nx-2]\n",
      "tau3[4,1:nz-1, nx-1] = tau_up[1:nz-1, nx-2]\n",
      "\n",
      "# z = 0\n",
      "conc3[0,0,1:nx-1] = conc.a[0,0:nx-2]\n",
      "conc3[1,0,1:nx-1] = conc.a[0,1:nx-1]\n",
      "conc3[2,0,1:nx-1] = conc.a[0,2:nx]\n",
      "conc3[3,0,1:nx-1] = conc.a[1,1:nx-1]\n",
      "conc3[4,0,1:nx-1] = conc.a[1,1:nx-1]\n",
      "tau3[0,0,1:nx-1] = tau_up[0,0:nx-2]\n",
      "tau3[1,0,1:nx-1] = tau_up[0,1:nx-1]\n",
      "tau3[2,0,1:nx-1] = tau_up[0,2:nx]\n",
      "tau3[3,0,1:nx-1] = tau_up[1,1:nx-1]\n",
      "tau3[4,0,1:nx-1] = tau_up[1,1:nx-1]\n",
      "\n",
      "# z = zmax\n",
      "conc3[0,nz-1,1:nx-1] = conc.a[nz-1,0:nx-2]\n",
      "conc3[1,nz-1,1:nx-1] = conc.a[nz-1,1:nx-1]\n",
      "conc3[2,nz-1,1:nx-1] = conc.a[nz-1,2:nx]\n",
      "conc3[3,nz-1,1:nx-1] = conc.a[nz-2,1:nx-1]\n",
      "conc3[4,nz-1,1:nx-1] = conc.a[nz-2,1:nx-1]\n",
      "tau3[0,nz-1,1:nx-1] = tau_up[nz-1,0:nx-2]\n",
      "tau3[1,nz-1,1:nx-1] = tau_up[nz-1,1:nx-1]\n",
      "tau3[2,nz-1,1:nx-1] = tau_up[nz-1,2:nx]\n",
      "tau3[3,nz-1,1:nx-1] = tau_up[nz-2,1:nx-1]\n",
      "tau3[4,nz-1,1:nx-1] = tau_up[nz-2,1:nx-1]\n",
      "\n",
      "# top left\n",
      "conc3[0,0,0] = conc.a[0,0]\n",
      "conc3[1,0,0] = conc.a[0,1]\n",
      "conc3[2,0,0] = conc.a[1,0]\n",
      "conc3[3,0,0] = conc.a[1,0]\n",
      "conc3[4,0,0] = conc.a[1,0]\n",
      "tau3[0,0,0] = tau_up[0,0]\n",
      "tau3[1,0,0] = tau_up[0,1]\n",
      "tau3[2,0,0] = tau_up[1,0]\n",
      "tau3[3,0,0] = tau_up[1,0]\n",
      "tau3[4,0,0] = tau_up[1,0]\n",
      "\n",
      "# top right\n",
      "conc3[0,0,nx-1] = conc.a[0,nx-1]\n",
      "conc3[1,0,nx-1] = conc.a[0,nx-2]\n",
      "conc3[2,0,nx-1] = conc.a[1,nx-1]\n",
      "conc3[3,0,nx-1] = conc.a[1,nx-1]\n",
      "conc3[4,0,nx-1] = conc.a[1,nx-1]\n",
      "tau3[0,0,nx-1] = tau_up[0,nx-1]\n",
      "tau3[1,0,nx-1] = tau_up[0,nx-2]\n",
      "tau3[2,0,nx-1] = tau_up[1,nx-1]\n",
      "tau3[3,0,nx-1] = tau_up[1,nx-1]\n",
      "tau3[4,0,nx-1] = tau_up[1,nx-1]\n",
      "# bottom left\n",
      "conc3[0,nz-1,0] = conc.a[nz-1,0]\n",
      "conc3[1,nz-1,0] = conc.a[nz-1,1]\n",
      "conc3[2,nz-1,0] = conc.a[nz-2,0]\n",
      "conc3[3,nz-1,0] = conc.a[nz-2,0]\n",
      "conc3[4,nz-1,0] = conc.a[nz-2,0]\n",
      "tau3[0,nz-1,0] = tau_up[nz-1,0]\n",
      "tau3[1,nz-1,0] = tau_up[nz-1,1]\n",
      "tau3[2,nz-1,0] = tau_up[nz-2,0]\n",
      "tau3[3,nz-1,0] = tau_up[nz-2,0]\n",
      "tau3[4,nz-1,0] = tau_up[nz-2,0]\n",
      "# bottom right\n",
      "conc3[0,nz-1,nx-1] = conc.a[nz-1,nx-1]\n",
      "conc3[1,nz-1,nx-1] = conc.a[nz-1,nx-2]\n",
      "conc3[2,nz-1,nx-1] = conc.a[nz-2,nx-1]\n",
      "conc3[3,nz-1,nx-1] = conc.a[nz-2,nx-1]\n",
      "conc3[4,nz-1,nx-1] = conc.a[nz-2,nx-1]\n",
      "tau3[0,nz-1,nx-1] = tau_up[nz-1,nx-1]\n",
      "tau3[1,nz-1,nx-1] = tau_up[nz-1,nx-2]\n",
      "tau3[2,nz-1,nx-1] = tau_up[nz-2,nx-1]\n",
      "tau3[3,nz-1,nx-1] = tau_up[nz-2,nx-1]\n",
      "tau3[4,nz-1,nx-1] = tau_up[nz-2,nx-1]\n",
      "\n",
      "conc_up = np.maximum(np.amax(conc3,axis=0),np.amax(tau3,axis=0))   # C\n",
      "conc_do = np.minimum(np.amin(conc3,axis=0),np.amin(tau3,axis=0))   # C"
     ],
     "language": "python",
     "metadata": {},
     "outputs": [
      {
       "output_type": "stream",
       "stream": "stdout",
       "text": [
        "1000 loops, best of 3: 288 \u00b5s per loop\n"
       ]
      }
     ],
     "prompt_number": 65
    },
    {
     "cell_type": "code",
     "collapsed": false,
     "input": [
      "plt.subplots(1,2,figsize = (20, 5))\n",
      "plt.subplot(121)\n",
      "loop1 = plt.pcolormesh(conc_up)\n",
      "plt.colorbar(loop1)\n",
      "plt.title('maximum in region')\n",
      "plt.subplot(122)\n",
      "loop = plt.pcolormesh(conc_do)\n",
      "plt.colorbar(loop)\n",
      "plt.title('minimum in region')"
     ],
     "language": "python",
     "metadata": {},
     "outputs": [
      {
       "metadata": {},
       "output_type": "pyout",
       "prompt_number": 63,
       "text": [
        "<matplotlib.text.Text at 0xbf2e750>"
       ]
      },
      {
       "metadata": {},
       "output_type": "display_data",
       "png": "[encoded data removed]",
       "text": [
        "<matplotlib.figure.Figure at 0x6506450>"
       ]
      }
     ],
     "prompt_number": 63
    },
    {
     "cell_type": "heading",
     "level": 4,
     "metadata": {},
     "source": [
      "Matrix method:"
     ]
    },
    {
     "cell_type": "code",
     "collapsed": false,
     "input": [
      "# upstream flux: C m/s\n",
      "fluxx_up = np.zeros((nz, nx))      \n",
      "fluxz_up = np.zeros((nz, nx)) \n",
      "# define entries 0:nx-2 inclusive using n_upz etc.\n",
      "fluxx_up[:, 0:nx-1] = ux[:, 0:nx-1]*conc.a[:, 0:nx-1] * n_upx[:, 0:nx-1] + ux[:, 1:nx]*conc.a[:, 1:nx] * p_upx[:, 0:nx-1]     # C m/s\n",
      "fluxz_up[0:nz-1, :] = (sinkrate + uz[0:nz-1, :])*conc.a[0:nz-1, :] * n_upz[0:nz-1, :] + (sinkrate + uz[1:nz, :])*conc.a[1:nz, :] * p_upz[0:nz-1, :]    # C m/s\n",
      "# simlulate settling in the bottom boundary (should be >0)\n",
      "fluxz_up[nz-1, :] = 2*fluxz_up[nz-2, :] - fluxz_up[nz-3, :]\n",
      "\n",
      "# d(conc)/dt according to upstream scheme (on the grid points)\n",
      "dtau_up_dt = np.zeros((nz, nx)) \n",
      "dtau_up_dt[1:nz, 1:nx] = (fluxx_up[1:nz, 0:nx-1] - fluxx_up[1:nz, 1:nx]) * conc.dx_i + (fluxz_up[0:nz-1, 1:nx] - fluxz_up[1:nz, 1:nx])  * conc.dz_i \n",
      "dtau_up_dt[0, 1:nx] = (fluxx_up[0, 0:nx-1] - fluxx_up[0, 1:nx]) * conc.dx_i - fluxz_up[0, 1:nx]  * conc.dz_i\n",
      "dtau_up_dt[1:nz, 0] = -fluxx_up[1:nz, 0] * conc.dx_i + (fluxz_up[0:nz-1, 0] - fluxz_up[1:nz, 0])  * conc.dz_i\n",
      "dtau_up_dt[0, 0] = - fluxx_up[0, 0] * conc.dx_i - fluxz_up[0, 0]  * conc.dz_i\n",
      "dtau_up_dt1 = copy.copy(dtau_up_dt)\n",
      "# new concentration based on upstream scheme\n",
      "tau_up = conc.a + dtau_up_dt * dt\n",
      "tau_up1 = copy.copy(tau_up)\n",
      "\n",
      "# max and min concentrations in 3x3 region\n",
      "conc_up = np.zeros((nz, nx))\n",
      "conc_do = np.zeros((nz, nx))\n",
      "conc_up[1:nz-1, 1:nx-1] = np.amax( np.amax( np.amax( conc.a[0:nz-2, 0:nx-2], conc.a[0:nz-2, 1:nx-1], conc.a[0:nz-2, 2:nx] ), np.amax( tau_up1[0:nz-2, 0:nx-2], tau_up1[0:nz-2, 1:nx-1], tau_up1[0:nz-2, 2:nx] ) ), np.amax( np.amax( conc.a[1:nz-1, 0:nx-2], conc.a[1:nz-1, 1:nx-1], conc.a[1:nz-1, 2:nx] ), np.amax( tau_up1[1:nz-1, 0:nx-2], tau_up1[1:nz-1, 1:nx-1], tau_up1[1:nz-1, 2:nx] ) ), np.amax( np.amax( conc.a[2:nz, 0:nx-2], conc.a[2:nz, 1:nx-1], conc.a[2:nz, 2:nx] ), np.amax( tau_up1[2:nz, 0:nx-2], tau_up1[2:nz, 1:nx-1], tau_up1[2:nz, 2:nx] ) ) )\n",
      "conc_do[1:nz-1, 1:nx-1] = np.amin( np.amin( np.amin( conc.a[0:nz-2, 0:nx-2], conc.a[0:nz-2, 1:nx-1], conc.a[0:nz-2, 2:nx] ), np.amin( tau_up1[0:nz-2, 0:nx-2], tau_up1[0:nz-2, 1:nx-1], tau_up1[0:nz-2, 2:nx] ) ), np.amin( np.amin( conc.a[1:nz-1, 0:nx-2], conc.a[1:nz-1, 1:nx-1], conc.a[1:nz-1, 2:nx] ), np.amin( tau_up1[1:nz-1, 0:nx-2], tau_up1[1:nz-1, 1:nx-1], tau_up1[1:nz-1, 2:nx] ) ), np.amin( np.amin( conc.a[2:nz, 0:nx-2], conc.a[2:nz, 1:nx-1], conc.a[2:nz, 2:nx] ), np.amin( tau_up1[2:nz, 0:nx-2], tau_up1[2:nz, 1:nx-1], tau_up1[2:nz, 2:nx] ) ) )\n",
      "\n",
      "plt.subplots(1,2,figsize = (20, 5))\n",
      "plt.subplot(121)\n",
      "loop = plt.pcolormesh(conc_up[1:nz-1, 1:nx-1])\n",
      "plt.colorbar(loop)\n",
      "plt.title('maximum in region')\n",
      "plt.subplot(122)\n",
      "loop = plt.pcolormesh(conc_do[1:nz-1, 1:nx-1])\n",
      "plt.colorbar(loop)\n",
      "plt.title('minimum in region')\n"
     ],
     "language": "python",
     "metadata": {},
     "outputs": [
      {
       "ename": "TypeError",
       "evalue": "only length-1 arrays can be converted to Python scalars",
       "output_type": "pyerr",
       "traceback": [
        "\u001b[1;31m---------------------------------------------------------------------------\u001b[0m\n\u001b[1;31mTypeError\u001b[0m                                 Traceback (most recent call last)",
        "\u001b[1;32m<ipython-input-22-1e601be59573>\u001b[0m in \u001b[0;36m<module>\u001b[1;34m()\u001b[0m\n\u001b[0;32m     22\u001b[0m \u001b[0mconc_up\u001b[0m \u001b[1;33m=\u001b[0m \u001b[0mnp\u001b[0m\u001b[1;33m.\u001b[0m\u001b[0mzeros\u001b[0m\u001b[1;33m(\u001b[0m\u001b[1;33m(\u001b[0m\u001b[0mnz\u001b[0m\u001b[1;33m,\u001b[0m \u001b[0mnx\u001b[0m\u001b[1;33m)\u001b[0m\u001b[1;33m)\u001b[0m\u001b[1;33m\u001b[0m\u001b[0m\n\u001b[0;32m     23\u001b[0m \u001b[0mconc_do\u001b[0m \u001b[1;33m=\u001b[0m \u001b[0mnp\u001b[0m\u001b[1;33m.\u001b[0m\u001b[0mzeros\u001b[0m\u001b[1;33m(\u001b[0m\u001b[1;33m(\u001b[0m\u001b[0mnz\u001b[0m\u001b[1;33m,\u001b[0m \u001b[0mnx\u001b[0m\u001b[1;33m)\u001b[0m\u001b[1;33m)\u001b[0m\u001b[1;33m\u001b[0m\u001b[0m\n\u001b[1;32m---> 24\u001b[1;33m \u001b[0mconc_up\u001b[0m\u001b[1;33m[\u001b[0m\u001b[1;36m1\u001b[0m\u001b[1;33m:\u001b[0m\u001b[0mnz\u001b[0m\u001b[1;33m-\u001b[0m\u001b[1;36m1\u001b[0m\u001b[1;33m,\u001b[0m \u001b[1;36m1\u001b[0m\u001b[1;33m:\u001b[0m\u001b[0mnx\u001b[0m\u001b[1;33m-\u001b[0m\u001b[1;36m1\u001b[0m\u001b[1;33m]\u001b[0m \u001b[1;33m=\u001b[0m \u001b[0mnp\u001b[0m\u001b[1;33m.\u001b[0m\u001b[0mamax\u001b[0m\u001b[1;33m(\u001b[0m \u001b[0mnp\u001b[0m\u001b[1;33m.\u001b[0m\u001b[0mamax\u001b[0m\u001b[1;33m(\u001b[0m \u001b[0mnp\u001b[0m\u001b[1;33m.\u001b[0m\u001b[0mamax\u001b[0m\u001b[1;33m(\u001b[0m \u001b[0mconc\u001b[0m\u001b[1;33m.\u001b[0m\u001b[0ma\u001b[0m\u001b[1;33m[\u001b[0m\u001b[1;36m0\u001b[0m\u001b[1;33m:\u001b[0m\u001b[0mnz\u001b[0m\u001b[1;33m-\u001b[0m\u001b[1;36m2\u001b[0m\u001b[1;33m,\u001b[0m \u001b[1;36m0\u001b[0m\u001b[1;33m:\u001b[0m\u001b[0mnx\u001b[0m\u001b[1;33m-\u001b[0m\u001b[1;36m2\u001b[0m\u001b[1;33m]\u001b[0m\u001b[1;33m,\u001b[0m \u001b[0mconc\u001b[0m\u001b[1;33m.\u001b[0m\u001b[0ma\u001b[0m\u001b[1;33m[\u001b[0m\u001b[1;36m0\u001b[0m\u001b[1;33m:\u001b[0m\u001b[0mnz\u001b[0m\u001b[1;33m-\u001b[0m\u001b[1;36m2\u001b[0m\u001b[1;33m,\u001b[0m \u001b[1;36m1\u001b[0m\u001b[1;33m:\u001b[0m\u001b[0mnx\u001b[0m\u001b[1;33m-\u001b[0m\u001b[1;36m1\u001b[0m\u001b[1;33m]\u001b[0m\u001b[1;33m,\u001b[0m \u001b[0mconc\u001b[0m\u001b[1;33m.\u001b[0m\u001b[0ma\u001b[0m\u001b[1;33m[\u001b[0m\u001b[1;36m0\u001b[0m\u001b[1;33m:\u001b[0m\u001b[0mnz\u001b[0m\u001b[1;33m-\u001b[0m\u001b[1;36m2\u001b[0m\u001b[1;33m,\u001b[0m \u001b[1;36m2\u001b[0m\u001b[1;33m:\u001b[0m\u001b[0mnx\u001b[0m\u001b[1;33m]\u001b[0m \u001b[1;33m)\u001b[0m\u001b[1;33m,\u001b[0m \u001b[0mnp\u001b[0m\u001b[1;33m.\u001b[0m\u001b[0mamax\u001b[0m\u001b[1;33m(\u001b[0m \u001b[0mtau_up1\u001b[0m\u001b[1;33m[\u001b[0m\u001b[1;36m0\u001b[0m\u001b[1;33m:\u001b[0m\u001b[0mnz\u001b[0m\u001b[1;33m-\u001b[0m\u001b[1;36m2\u001b[0m\u001b[1;33m,\u001b[0m \u001b[1;36m0\u001b[0m\u001b[1;33m:\u001b[0m\u001b[0mnx\u001b[0m\u001b[1;33m-\u001b[0m\u001b[1;36m2\u001b[0m\u001b[1;33m]\u001b[0m\u001b[1;33m,\u001b[0m \u001b[0mtau_up1\u001b[0m\u001b[1;33m[\u001b[0m\u001b[1;36m0\u001b[0m\u001b[1;33m:\u001b[0m\u001b[0mnz\u001b[0m\u001b[1;33m-\u001b[0m\u001b[1;36m2\u001b[0m\u001b[1;33m,\u001b[0m \u001b[1;36m1\u001b[0m\u001b[1;33m:\u001b[0m\u001b[0mnx\u001b[0m\u001b[1;33m-\u001b[0m\u001b[1;36m1\u001b[0m\u001b[1;33m]\u001b[0m\u001b[1;33m,\u001b[0m \u001b[0mtau_up1\u001b[0m\u001b[1;33m[\u001b[0m\u001b[1;36m0\u001b[0m\u001b[1;33m:\u001b[0m\u001b[0mnz\u001b[0m\u001b[1;33m-\u001b[0m\u001b[1;36m2\u001b[0m\u001b[1;33m,\u001b[0m \u001b[1;36m2\u001b[0m\u001b[1;33m:\u001b[0m\u001b[0mnx\u001b[0m\u001b[1;33m]\u001b[0m \u001b[1;33m)\u001b[0m \u001b[1;33m)\u001b[0m\u001b[1;33m,\u001b[0m \u001b[0mnp\u001b[0m\u001b[1;33m.\u001b[0m\u001b[0mamax\u001b[0m\u001b[1;33m(\u001b[0m \u001b[0mnp\u001b[0m\u001b[1;33m.\u001b[0m\u001b[0mamax\u001b[0m\u001b[1;33m(\u001b[0m \u001b[0mconc\u001b[0m\u001b[1;33m.\u001b[0m\u001b[0ma\u001b[0m\u001b[1;33m[\u001b[0m\u001b[1;36m1\u001b[0m\u001b[1;33m:\u001b[0m\u001b[0mnz\u001b[0m\u001b[1;33m-\u001b[0m\u001b[1;36m1\u001b[0m\u001b[1;33m,\u001b[0m \u001b[1;36m0\u001b[0m\u001b[1;33m:\u001b[0m\u001b[0mnx\u001b[0m\u001b[1;33m-\u001b[0m\u001b[1;36m2\u001b[0m\u001b[1;33m]\u001b[0m\u001b[1;33m,\u001b[0m \u001b[0mconc\u001b[0m\u001b[1;33m.\u001b[0m\u001b[0ma\u001b[0m\u001b[1;33m[\u001b[0m\u001b[1;36m1\u001b[0m\u001b[1;33m:\u001b[0m\u001b[0mnz\u001b[0m\u001b[1;33m-\u001b[0m\u001b[1;36m1\u001b[0m\u001b[1;33m,\u001b[0m \u001b[1;36m1\u001b[0m\u001b[1;33m:\u001b[0m\u001b[0mnx\u001b[0m\u001b[1;33m-\u001b[0m\u001b[1;36m1\u001b[0m\u001b[1;33m]\u001b[0m\u001b[1;33m,\u001b[0m \u001b[0mconc\u001b[0m\u001b[1;33m.\u001b[0m\u001b[0ma\u001b[0m\u001b[1;33m[\u001b[0m\u001b[1;36m1\u001b[0m\u001b[1;33m:\u001b[0m\u001b[0mnz\u001b[0m\u001b[1;33m-\u001b[0m\u001b[1;36m1\u001b[0m\u001b[1;33m,\u001b[0m \u001b[1;36m2\u001b[0m\u001b[1;33m:\u001b[0m\u001b[0mnx\u001b[0m\u001b[1;33m]\u001b[0m \u001b[1;33m)\u001b[0m\u001b[1;33m,\u001b[0m \u001b[0mnp\u001b[0m\u001b[1;33m.\u001b[0m\u001b[0mamax\u001b[0m\u001b[1;33m(\u001b[0m \u001b[0mtau_up1\u001b[0m\u001b[1;33m[\u001b[0m\u001b[1;36m1\u001b[0m\u001b[1;33m:\u001b[0m\u001b[0mnz\u001b[0m\u001b[1;33m-\u001b[0m\u001b[1;36m1\u001b[0m\u001b[1;33m,\u001b[0m \u001b[1;36m0\u001b[0m\u001b[1;33m:\u001b[0m\u001b[0mnx\u001b[0m\u001b[1;33m-\u001b[0m\u001b[1;36m2\u001b[0m\u001b[1;33m]\u001b[0m\u001b[1;33m,\u001b[0m \u001b[0mtau_up1\u001b[0m\u001b[1;33m[\u001b[0m\u001b[1;36m1\u001b[0m\u001b[1;33m:\u001b[0m\u001b[0mnz\u001b[0m\u001b[1;33m-\u001b[0m\u001b[1;36m1\u001b[0m\u001b[1;33m,\u001b[0m \u001b[1;36m1\u001b[0m\u001b[1;33m:\u001b[0m\u001b[0mnx\u001b[0m\u001b[1;33m-\u001b[0m\u001b[1;36m1\u001b[0m\u001b[1;33m]\u001b[0m\u001b[1;33m,\u001b[0m \u001b[0mtau_up1\u001b[0m\u001b[1;33m[\u001b[0m\u001b[1;36m1\u001b[0m\u001b[1;33m:\u001b[0m\u001b[0mnz\u001b[0m\u001b[1;33m-\u001b[0m\u001b[1;36m1\u001b[0m\u001b[1;33m,\u001b[0m \u001b[1;36m2\u001b[0m\u001b[1;33m:\u001b[0m\u001b[0mnx\u001b[0m\u001b[1;33m]\u001b[0m \u001b[1;33m)\u001b[0m \u001b[1;33m)\u001b[0m\u001b[1;33m,\u001b[0m \u001b[0mnp\u001b[0m\u001b[1;33m.\u001b[0m\u001b[0mamax\u001b[0m\u001b[1;33m(\u001b[0m \u001b[0mnp\u001b[0m\u001b[1;33m.\u001b[0m\u001b[0mamax\u001b[0m\u001b[1;33m(\u001b[0m \u001b[0mconc\u001b[0m\u001b[1;33m.\u001b[0m\u001b[0ma\u001b[0m\u001b[1;33m[\u001b[0m\u001b[1;36m2\u001b[0m\u001b[1;33m:\u001b[0m\u001b[0mnz\u001b[0m\u001b[1;33m,\u001b[0m \u001b[1;36m0\u001b[0m\u001b[1;33m:\u001b[0m\u001b[0mnx\u001b[0m\u001b[1;33m-\u001b[0m\u001b[1;36m2\u001b[0m\u001b[1;33m]\u001b[0m\u001b[1;33m,\u001b[0m \u001b[0mconc\u001b[0m\u001b[1;33m.\u001b[0m\u001b[0ma\u001b[0m\u001b[1;33m[\u001b[0m\u001b[1;36m2\u001b[0m\u001b[1;33m:\u001b[0m\u001b[0mnz\u001b[0m\u001b[1;33m,\u001b[0m \u001b[1;36m1\u001b[0m\u001b[1;33m:\u001b[0m\u001b[0mnx\u001b[0m\u001b[1;33m-\u001b[0m\u001b[1;36m1\u001b[0m\u001b[1;33m]\u001b[0m\u001b[1;33m,\u001b[0m \u001b[0mconc\u001b[0m\u001b[1;33m.\u001b[0m\u001b[0ma\u001b[0m\u001b[1;33m[\u001b[0m\u001b[1;36m2\u001b[0m\u001b[1;33m:\u001b[0m\u001b[0mnz\u001b[0m\u001b[1;33m,\u001b[0m \u001b[1;36m2\u001b[0m\u001b[1;33m:\u001b[0m\u001b[0mnx\u001b[0m\u001b[1;33m]\u001b[0m \u001b[1;33m)\u001b[0m\u001b[1;33m,\u001b[0m \u001b[0mnp\u001b[0m\u001b[1;33m.\u001b[0m\u001b[0mamax\u001b[0m\u001b[1;33m(\u001b[0m \u001b[0mtau_up1\u001b[0m\u001b[1;33m[\u001b[0m\u001b[1;36m2\u001b[0m\u001b[1;33m:\u001b[0m\u001b[0mnz\u001b[0m\u001b[1;33m,\u001b[0m \u001b[1;36m0\u001b[0m\u001b[1;33m:\u001b[0m\u001b[0mnx\u001b[0m\u001b[1;33m-\u001b[0m\u001b[1;36m2\u001b[0m\u001b[1;33m]\u001b[0m\u001b[1;33m,\u001b[0m \u001b[0mtau_up1\u001b[0m\u001b[1;33m[\u001b[0m\u001b[1;36m2\u001b[0m\u001b[1;33m:\u001b[0m\u001b[0mnz\u001b[0m\u001b[1;33m,\u001b[0m \u001b[1;36m1\u001b[0m\u001b[1;33m:\u001b[0m\u001b[0mnx\u001b[0m\u001b[1;33m-\u001b[0m\u001b[1;36m1\u001b[0m\u001b[1;33m]\u001b[0m\u001b[1;33m,\u001b[0m \u001b[0mtau_up1\u001b[0m\u001b[1;33m[\u001b[0m\u001b[1;36m2\u001b[0m\u001b[1;33m:\u001b[0m\u001b[0mnz\u001b[0m\u001b[1;33m,\u001b[0m \u001b[1;36m2\u001b[0m\u001b[1;33m:\u001b[0m\u001b[0mnx\u001b[0m\u001b[1;33m]\u001b[0m \u001b[1;33m)\u001b[0m \u001b[1;33m)\u001b[0m \u001b[1;33m)\u001b[0m\u001b[1;33m\u001b[0m\u001b[0m\n\u001b[0m\u001b[0;32m     25\u001b[0m \u001b[0mconc_do\u001b[0m\u001b[1;33m[\u001b[0m\u001b[1;36m1\u001b[0m\u001b[1;33m:\u001b[0m\u001b[0mnz\u001b[0m\u001b[1;33m-\u001b[0m\u001b[1;36m1\u001b[0m\u001b[1;33m,\u001b[0m \u001b[1;36m1\u001b[0m\u001b[1;33m:\u001b[0m\u001b[0mnx\u001b[0m\u001b[1;33m-\u001b[0m\u001b[1;36m1\u001b[0m\u001b[1;33m]\u001b[0m \u001b[1;33m=\u001b[0m \u001b[0mnp\u001b[0m\u001b[1;33m.\u001b[0m\u001b[0mamin\u001b[0m\u001b[1;33m(\u001b[0m \u001b[0mnp\u001b[0m\u001b[1;33m.\u001b[0m\u001b[0mamin\u001b[0m\u001b[1;33m(\u001b[0m \u001b[0mnp\u001b[0m\u001b[1;33m.\u001b[0m\u001b[0mamin\u001b[0m\u001b[1;33m(\u001b[0m \u001b[0mconc\u001b[0m\u001b[1;33m.\u001b[0m\u001b[0ma\u001b[0m\u001b[1;33m[\u001b[0m\u001b[1;36m0\u001b[0m\u001b[1;33m:\u001b[0m\u001b[0mnz\u001b[0m\u001b[1;33m-\u001b[0m\u001b[1;36m2\u001b[0m\u001b[1;33m,\u001b[0m \u001b[1;36m0\u001b[0m\u001b[1;33m:\u001b[0m\u001b[0mnx\u001b[0m\u001b[1;33m-\u001b[0m\u001b[1;36m2\u001b[0m\u001b[1;33m]\u001b[0m\u001b[1;33m,\u001b[0m \u001b[0mconc\u001b[0m\u001b[1;33m.\u001b[0m\u001b[0ma\u001b[0m\u001b[1;33m[\u001b[0m\u001b[1;36m0\u001b[0m\u001b[1;33m:\u001b[0m\u001b[0mnz\u001b[0m\u001b[1;33m-\u001b[0m\u001b[1;36m2\u001b[0m\u001b[1;33m,\u001b[0m \u001b[1;36m1\u001b[0m\u001b[1;33m:\u001b[0m\u001b[0mnx\u001b[0m\u001b[1;33m-\u001b[0m\u001b[1;36m1\u001b[0m\u001b[1;33m]\u001b[0m\u001b[1;33m,\u001b[0m \u001b[0mconc\u001b[0m\u001b[1;33m.\u001b[0m\u001b[0ma\u001b[0m\u001b[1;33m[\u001b[0m\u001b[1;36m0\u001b[0m\u001b[1;33m:\u001b[0m\u001b[0mnz\u001b[0m\u001b[1;33m-\u001b[0m\u001b[1;36m2\u001b[0m\u001b[1;33m,\u001b[0m \u001b[1;36m2\u001b[0m\u001b[1;33m:\u001b[0m\u001b[0mnx\u001b[0m\u001b[1;33m]\u001b[0m \u001b[1;33m)\u001b[0m\u001b[1;33m,\u001b[0m \u001b[0mnp\u001b[0m\u001b[1;33m.\u001b[0m\u001b[0mamin\u001b[0m\u001b[1;33m(\u001b[0m \u001b[0mtau_up1\u001b[0m\u001b[1;33m[\u001b[0m\u001b[1;36m0\u001b[0m\u001b[1;33m:\u001b[0m\u001b[0mnz\u001b[0m\u001b[1;33m-\u001b[0m\u001b[1;36m2\u001b[0m\u001b[1;33m,\u001b[0m \u001b[1;36m0\u001b[0m\u001b[1;33m:\u001b[0m\u001b[0mnx\u001b[0m\u001b[1;33m-\u001b[0m\u001b[1;36m2\u001b[0m\u001b[1;33m]\u001b[0m\u001b[1;33m,\u001b[0m \u001b[0mtau_up1\u001b[0m\u001b[1;33m[\u001b[0m\u001b[1;36m0\u001b[0m\u001b[1;33m:\u001b[0m\u001b[0mnz\u001b[0m\u001b[1;33m-\u001b[0m\u001b[1;36m2\u001b[0m\u001b[1;33m,\u001b[0m \u001b[1;36m1\u001b[0m\u001b[1;33m:\u001b[0m\u001b[0mnx\u001b[0m\u001b[1;33m-\u001b[0m\u001b[1;36m1\u001b[0m\u001b[1;33m]\u001b[0m\u001b[1;33m,\u001b[0m \u001b[0mtau_up1\u001b[0m\u001b[1;33m[\u001b[0m\u001b[1;36m0\u001b[0m\u001b[1;33m:\u001b[0m\u001b[0mnz\u001b[0m\u001b[1;33m-\u001b[0m\u001b[1;36m2\u001b[0m\u001b[1;33m,\u001b[0m \u001b[1;36m2\u001b[0m\u001b[1;33m:\u001b[0m\u001b[0mnx\u001b[0m\u001b[1;33m]\u001b[0m \u001b[1;33m)\u001b[0m \u001b[1;33m)\u001b[0m\u001b[1;33m,\u001b[0m \u001b[0mnp\u001b[0m\u001b[1;33m.\u001b[0m\u001b[0mamin\u001b[0m\u001b[1;33m(\u001b[0m \u001b[0mnp\u001b[0m\u001b[1;33m.\u001b[0m\u001b[0mamin\u001b[0m\u001b[1;33m(\u001b[0m \u001b[0mconc\u001b[0m\u001b[1;33m.\u001b[0m\u001b[0ma\u001b[0m\u001b[1;33m[\u001b[0m\u001b[1;36m1\u001b[0m\u001b[1;33m:\u001b[0m\u001b[0mnz\u001b[0m\u001b[1;33m-\u001b[0m\u001b[1;36m1\u001b[0m\u001b[1;33m,\u001b[0m \u001b[1;36m0\u001b[0m\u001b[1;33m:\u001b[0m\u001b[0mnx\u001b[0m\u001b[1;33m-\u001b[0m\u001b[1;36m2\u001b[0m\u001b[1;33m]\u001b[0m\u001b[1;33m,\u001b[0m \u001b[0mconc\u001b[0m\u001b[1;33m.\u001b[0m\u001b[0ma\u001b[0m\u001b[1;33m[\u001b[0m\u001b[1;36m1\u001b[0m\u001b[1;33m:\u001b[0m\u001b[0mnz\u001b[0m\u001b[1;33m-\u001b[0m\u001b[1;36m1\u001b[0m\u001b[1;33m,\u001b[0m \u001b[1;36m1\u001b[0m\u001b[1;33m:\u001b[0m\u001b[0mnx\u001b[0m\u001b[1;33m-\u001b[0m\u001b[1;36m1\u001b[0m\u001b[1;33m]\u001b[0m\u001b[1;33m,\u001b[0m \u001b[0mconc\u001b[0m\u001b[1;33m.\u001b[0m\u001b[0ma\u001b[0m\u001b[1;33m[\u001b[0m\u001b[1;36m1\u001b[0m\u001b[1;33m:\u001b[0m\u001b[0mnz\u001b[0m\u001b[1;33m-\u001b[0m\u001b[1;36m1\u001b[0m\u001b[1;33m,\u001b[0m \u001b[1;36m2\u001b[0m\u001b[1;33m:\u001b[0m\u001b[0mnx\u001b[0m\u001b[1;33m]\u001b[0m \u001b[1;33m)\u001b[0m\u001b[1;33m,\u001b[0m \u001b[0mnp\u001b[0m\u001b[1;33m.\u001b[0m\u001b[0mamin\u001b[0m\u001b[1;33m(\u001b[0m \u001b[0mtau_up1\u001b[0m\u001b[1;33m[\u001b[0m\u001b[1;36m1\u001b[0m\u001b[1;33m:\u001b[0m\u001b[0mnz\u001b[0m\u001b[1;33m-\u001b[0m\u001b[1;36m1\u001b[0m\u001b[1;33m,\u001b[0m \u001b[1;36m0\u001b[0m\u001b[1;33m:\u001b[0m\u001b[0mnx\u001b[0m\u001b[1;33m-\u001b[0m\u001b[1;36m2\u001b[0m\u001b[1;33m]\u001b[0m\u001b[1;33m,\u001b[0m \u001b[0mtau_up1\u001b[0m\u001b[1;33m[\u001b[0m\u001b[1;36m1\u001b[0m\u001b[1;33m:\u001b[0m\u001b[0mnz\u001b[0m\u001b[1;33m-\u001b[0m\u001b[1;36m1\u001b[0m\u001b[1;33m,\u001b[0m \u001b[1;36m1\u001b[0m\u001b[1;33m:\u001b[0m\u001b[0mnx\u001b[0m\u001b[1;33m-\u001b[0m\u001b[1;36m1\u001b[0m\u001b[1;33m]\u001b[0m\u001b[1;33m,\u001b[0m \u001b[0mtau_up1\u001b[0m\u001b[1;33m[\u001b[0m\u001b[1;36m1\u001b[0m\u001b[1;33m:\u001b[0m\u001b[0mnz\u001b[0m\u001b[1;33m-\u001b[0m\u001b[1;36m1\u001b[0m\u001b[1;33m,\u001b[0m \u001b[1;36m2\u001b[0m\u001b[1;33m:\u001b[0m\u001b[0mnx\u001b[0m\u001b[1;33m]\u001b[0m \u001b[1;33m)\u001b[0m \u001b[1;33m)\u001b[0m\u001b[1;33m,\u001b[0m \u001b[0mnp\u001b[0m\u001b[1;33m.\u001b[0m\u001b[0mamin\u001b[0m\u001b[1;33m(\u001b[0m \u001b[0mnp\u001b[0m\u001b[1;33m.\u001b[0m\u001b[0mamin\u001b[0m\u001b[1;33m(\u001b[0m \u001b[0mconc\u001b[0m\u001b[1;33m.\u001b[0m\u001b[0ma\u001b[0m\u001b[1;33m[\u001b[0m\u001b[1;36m2\u001b[0m\u001b[1;33m:\u001b[0m\u001b[0mnz\u001b[0m\u001b[1;33m,\u001b[0m \u001b[1;36m0\u001b[0m\u001b[1;33m:\u001b[0m\u001b[0mnx\u001b[0m\u001b[1;33m-\u001b[0m\u001b[1;36m2\u001b[0m\u001b[1;33m]\u001b[0m\u001b[1;33m,\u001b[0m \u001b[0mconc\u001b[0m\u001b[1;33m.\u001b[0m\u001b[0ma\u001b[0m\u001b[1;33m[\u001b[0m\u001b[1;36m2\u001b[0m\u001b[1;33m:\u001b[0m\u001b[0mnz\u001b[0m\u001b[1;33m,\u001b[0m \u001b[1;36m1\u001b[0m\u001b[1;33m:\u001b[0m\u001b[0mnx\u001b[0m\u001b[1;33m-\u001b[0m\u001b[1;36m1\u001b[0m\u001b[1;33m]\u001b[0m\u001b[1;33m,\u001b[0m \u001b[0mconc\u001b[0m\u001b[1;33m.\u001b[0m\u001b[0ma\u001b[0m\u001b[1;33m[\u001b[0m\u001b[1;36m2\u001b[0m\u001b[1;33m:\u001b[0m\u001b[0mnz\u001b[0m\u001b[1;33m,\u001b[0m \u001b[1;36m2\u001b[0m\u001b[1;33m:\u001b[0m\u001b[0mnx\u001b[0m\u001b[1;33m]\u001b[0m \u001b[1;33m)\u001b[0m\u001b[1;33m,\u001b[0m \u001b[0mnp\u001b[0m\u001b[1;33m.\u001b[0m\u001b[0mamin\u001b[0m\u001b[1;33m(\u001b[0m \u001b[0mtau_up1\u001b[0m\u001b[1;33m[\u001b[0m\u001b[1;36m2\u001b[0m\u001b[1;33m:\u001b[0m\u001b[0mnz\u001b[0m\u001b[1;33m,\u001b[0m \u001b[1;36m0\u001b[0m\u001b[1;33m:\u001b[0m\u001b[0mnx\u001b[0m\u001b[1;33m-\u001b[0m\u001b[1;36m2\u001b[0m\u001b[1;33m]\u001b[0m\u001b[1;33m,\u001b[0m \u001b[0mtau_up1\u001b[0m\u001b[1;33m[\u001b[0m\u001b[1;36m2\u001b[0m\u001b[1;33m:\u001b[0m\u001b[0mnz\u001b[0m\u001b[1;33m,\u001b[0m \u001b[1;36m1\u001b[0m\u001b[1;33m:\u001b[0m\u001b[0mnx\u001b[0m\u001b[1;33m-\u001b[0m\u001b[1;36m1\u001b[0m\u001b[1;33m]\u001b[0m\u001b[1;33m,\u001b[0m \u001b[0mtau_up1\u001b[0m\u001b[1;33m[\u001b[0m\u001b[1;36m2\u001b[0m\u001b[1;33m:\u001b[0m\u001b[0mnz\u001b[0m\u001b[1;33m,\u001b[0m \u001b[1;36m2\u001b[0m\u001b[1;33m:\u001b[0m\u001b[0mnx\u001b[0m\u001b[1;33m]\u001b[0m \u001b[1;33m)\u001b[0m \u001b[1;33m)\u001b[0m \u001b[1;33m)\u001b[0m\u001b[1;33m\u001b[0m\u001b[0m\n\u001b[0;32m     26\u001b[0m \u001b[1;33m\u001b[0m\u001b[0m\n",
        "\u001b[1;32m/home/abellas/anaconda/lib/python2.7/site-packages/numpy/core/fromnumeric.pyc\u001b[0m in \u001b[0;36mamax\u001b[1;34m(a, axis, out, keepdims)\u001b[0m\n\u001b[0;32m   2128\u001b[0m     \u001b[1;32melse\u001b[0m\u001b[1;33m:\u001b[0m\u001b[1;33m\u001b[0m\u001b[0m\n\u001b[0;32m   2129\u001b[0m         return _methods._amax(a, axis=axis,\n\u001b[1;32m-> 2130\u001b[1;33m                             out=out, keepdims=keepdims)\n\u001b[0m\u001b[0;32m   2131\u001b[0m \u001b[1;33m\u001b[0m\u001b[0m\n\u001b[0;32m   2132\u001b[0m \u001b[1;32mdef\u001b[0m \u001b[0mamin\u001b[0m\u001b[1;33m(\u001b[0m\u001b[0ma\u001b[0m\u001b[1;33m,\u001b[0m \u001b[0maxis\u001b[0m\u001b[1;33m=\u001b[0m\u001b[0mNone\u001b[0m\u001b[1;33m,\u001b[0m \u001b[0mout\u001b[0m\u001b[1;33m=\u001b[0m\u001b[0mNone\u001b[0m\u001b[1;33m,\u001b[0m \u001b[0mkeepdims\u001b[0m\u001b[1;33m=\u001b[0m\u001b[0mFalse\u001b[0m\u001b[1;33m)\u001b[0m\u001b[1;33m:\u001b[0m\u001b[1;33m\u001b[0m\u001b[0m\n",
        "\u001b[1;32m/home/abellas/anaconda/lib/python2.7/site-packages/numpy/core/_methods.pyc\u001b[0m in \u001b[0;36m_amax\u001b[1;34m(a, axis, out, keepdims)\u001b[0m\n\u001b[0;32m     15\u001b[0m \u001b[1;32mdef\u001b[0m \u001b[0m_amax\u001b[0m\u001b[1;33m(\u001b[0m\u001b[0ma\u001b[0m\u001b[1;33m,\u001b[0m \u001b[0maxis\u001b[0m\u001b[1;33m=\u001b[0m\u001b[0mNone\u001b[0m\u001b[1;33m,\u001b[0m \u001b[0mout\u001b[0m\u001b[1;33m=\u001b[0m\u001b[0mNone\u001b[0m\u001b[1;33m,\u001b[0m \u001b[0mkeepdims\u001b[0m\u001b[1;33m=\u001b[0m\u001b[0mFalse\u001b[0m\u001b[1;33m)\u001b[0m\u001b[1;33m:\u001b[0m\u001b[1;33m\u001b[0m\u001b[0m\n\u001b[0;32m     16\u001b[0m     return um.maximum.reduce(a, axis=axis,\n\u001b[1;32m---> 17\u001b[1;33m                             out=out, keepdims=keepdims)\n\u001b[0m\u001b[0;32m     18\u001b[0m \u001b[1;33m\u001b[0m\u001b[0m\n\u001b[0;32m     19\u001b[0m \u001b[1;32mdef\u001b[0m \u001b[0m_amin\u001b[0m\u001b[1;33m(\u001b[0m\u001b[0ma\u001b[0m\u001b[1;33m,\u001b[0m \u001b[0maxis\u001b[0m\u001b[1;33m=\u001b[0m\u001b[0mNone\u001b[0m\u001b[1;33m,\u001b[0m \u001b[0mout\u001b[0m\u001b[1;33m=\u001b[0m\u001b[0mNone\u001b[0m\u001b[1;33m,\u001b[0m \u001b[0mkeepdims\u001b[0m\u001b[1;33m=\u001b[0m\u001b[0mFalse\u001b[0m\u001b[1;33m)\u001b[0m\u001b[1;33m:\u001b[0m\u001b[1;33m\u001b[0m\u001b[0m\n",
        "\u001b[1;31mTypeError\u001b[0m: only length-1 arrays can be converted to Python scalars"
       ]
      }
     ],
     "prompt_number": 22
    },
    {
     "cell_type": "code",
     "collapsed": false,
     "input": [
      "dtau = plt.pcolormesh(tau_up - tau_up1)\n",
      "plt.colorbar(dtau)\n",
      "print(640 - sum(sum(tau_up == tau_up1)))\n",
      "print(640 - sum(sum(dtau_up_dt == dtau_up_dt1)))"
     ],
     "language": "python",
     "metadata": {},
     "outputs": [
      {
       "output_type": "stream",
       "stream": "stdout",
       "text": [
        "505\n",
        "0\n"
       ]
      },
      {
       "metadata": {},
       "output_type": "display_data",
       "png": "[encoded data removed]",
       "text": [
        "<matplotlib.figure.Figure at 0x33e93d0>"
       ]
      }
     ],
     "prompt_number": 5
    },
    {
     "cell_type": "markdown",
     "metadata": {},
     "source": [
      "This cell changes every time it is run. It also changes the value of tau_up. Tried using copy function to avoid overwriting tau_up, but with no success. "
     ]
    },
    {
     "cell_type": "heading",
     "level": 4,
     "metadata": {},
     "source": [
      "On the boundary:"
     ]
    },
    {
     "cell_type": "code",
     "collapsed": false,
     "input": [
      "%%timeit\n",
      "# max/min on x-bounds\n",
      "# max and min concentrations in region\n",
      "conc_up = np.empty_like(conc.a)\n",
      "conc_do = np.empty_like(conc.a)\n",
      "for i in range(1, nz - 1):\n",
      "        conc_up[i, 0] = max( np.max(conc.a[i-1:i+2, 0:2]), np.max(tau_up[i-1:i+2, 0:2]))\n",
      "        conc_up[i, nx-1] = max( np.max(conc.a[i-1:i+2, nx-2:nx]), np.max(tau_up[i-1:i+2, nx-2:nx]))\n",
      "        conc_do[i, 0] = min( np.min(conc.a[i-1:i+2, 0:2]), np.min(tau_up[i-1:i+2, 0:2]))\n",
      "        conc_do[i, nx-1] = min( np.min(conc.a[i-1:i+2, nx-2:nx]), np.min(tau_up[i-1:i+2, nx-2:nx]))\n",
      "\n",
      "for j in range(1, nx - 1):\n",
      "        conc_up[0, j] = max( np.max(conc.a[0:2, j-1:j+2]), np.max(tau_up[0:2, j-1:j+2]))\n",
      "        conc_up[nz-1, j] = max( np.max(conc.a[nz-2:nz, j-1:j+2]), np.max(tau_up[nz-2:nz, j-1:j+2]))\n",
      "        conc_do[0, j] = min( np.min(conc.a[0:2, j-1:j+2]), np.min(tau_up[0:2, j-1:j+2]))\n",
      "        conc_do[nz-1, j] = min( np.min(conc.a[nz-2:nz, j-1:j+2]), np.min(tau_up[nz-2:nz, j-1:j+2]))"
     ],
     "language": "python",
     "metadata": {},
     "outputs": [
      {
       "output_type": "stream",
       "stream": "stdout",
       "text": [
        "100 loops, best of 3: 4.27 ms per loop\n"
       ]
      }
     ],
     "prompt_number": 97
    },
    {
     "cell_type": "code",
     "collapsed": false,
     "input": [
      "%%timeit\n",
      "# try rewriting the first line in previous cell using maximum function:\n",
      "# max in region of x = 0\n",
      "conc_up_test = np.empty_like(conc.a)\n",
      "conc_up_test[1:nz-1, 0] = np.maximum( np.maximum(conc.a[0:nz-2, 0],conc.a[1:nz-1, 0],conc.a[2:nz, 0]), np.maximum(tau_up[0:nz-2, 0],tau_up[1:nz-1, 0],tau_up[2:nz, 0]))\n",
      "conc_up_test[1:nz-1, 1] = np.maximum( np.maximum(conc.a[0:nz-2, 1],conc.a[1:nz-1, 1],conc.a[2:nz, 1]), np.maximum(tau_up[0:nz-2, 1],tau_up[1:nz-1, 1],tau_up[2:nz, 1]))\n",
      "conc_up_test[1:nz-1, 0] = np.maximum( conc_up_test[1:nz-1, 0], conc_up_test[1:nz-1, 1])\n"
     ],
     "language": "python",
     "metadata": {},
     "outputs": [
      {
       "output_type": "stream",
       "stream": "stdout",
       "text": [
        "10000 loops, best of 3: 37.3 \u00b5s per loop\n"
       ]
      }
     ],
     "prompt_number": 98
    },
    {
     "cell_type": "markdown",
     "metadata": {},
     "source": [
      "matrix-method is much faster than 'for i in range' method!"
     ]
    },
    {
     "cell_type": "code",
     "collapsed": false,
     "input": [
      "# check it works the same way as the loop method:\n",
      "print(conc_up[1:nz-1, 0]) \n",
      "print(conc_up_test[1:nz-1, 0])"
     ],
     "language": "python",
     "metadata": {},
     "outputs": [
      {
       "output_type": "stream",
       "stream": "stdout",
       "text": [
        "[ 1.  1.  1.  1.  1.  1.  1.  1.  1.  1.  1.  1.  1.  1.  1.  1.  1.  1.]\n",
        "[ 1.  1.  1.  1.  1.  1.  1.  1.  1.  1.  1.  1.  1.  1.  1.  1.  1.  1.]\n"
       ]
      }
     ],
     "prompt_number": 96
    },
    {
     "cell_type": "code",
     "collapsed": false,
     "input": [
      "# look at values along x = 0 and x = 1 to be sure\n",
      "print(conc.a[:, 0])\n",
      "print(conc.a[:, 1])\n",
      "print(tau_up[:, 0])\n",
      "print(tau_up[:, 1])"
     ],
     "language": "python",
     "metadata": {},
     "outputs": [
      {
       "output_type": "stream",
       "stream": "stdout",
       "text": [
        "[ 1.  1.  1.  1.  1.  1.  1.  1.  1.  1.  1.  1.  1.  1.  1.  1.  1.  1.\n",
        "  1.  1.]\n",
        "[ 1.  1.  1.  1.  1.  1.  1.  1.  1.  1.  1.  1.  1.  1.  1.  1.  1.  1.\n",
        "  1.  1.]\n",
        "[ 0.9981  1.      1.      1.      1.      1.      1.      1.      1.      1.\n",
        "  1.      1.      1.      1.      1.      1.      1.      1.      1.      1.    ]\n",
        "[ 0.9981  1.      1.      1.      1.      1.      1.      1.      1.      1.\n",
        "  1.      1.      1.      1.      1.      1.      1.      1.      1.      1.    ]\n"
       ]
      }
     ],
     "prompt_number": 99
    },
    {
     "cell_type": "markdown",
     "metadata": {},
     "source": [
      "Write code to compute max/min values on bounds using matrices:"
     ]
    },
    {
     "cell_type": "code",
     "collapsed": false,
     "input": [
      "#%%timeit\n",
      "# max&min values on bounds\n",
      "\n",
      "# x = 0\n",
      "conc_up[1:nz-1, 0] = np.maximum( np.maximum( np.maximum(conc.a[0:nz-2, 0],conc.a[1:nz-1, 0],conc.a[2:nz, 0]), np.maximum(tau_up[0:nz-2, 0],tau_up[1:nz-1, 0],tau_up[2:nz, 0])), np.maximum( np.maximum(conc.a[0:nz-2, 1],conc.a[1:nz-1, 1],conc.a[2:nz, 1]), np.maximum(tau_up[0:nz-2, 1],tau_up[1:nz-1, 1],tau_up[2:nz, 1])) )\n",
      "\n",
      "conc_do[1:nz-1, 0] = np.minimum(np.minimum( np.minimum(conc.a[0:nz-2, 0],conc.a[1:nz-1, 0],conc.a[2:nz, 0]), np.minimum(tau_up[0:nz-2, 0],tau_up[1:nz-1, 0],tau_up[2:nz, 0])), np.minimum( np.minimum(conc.a[0:nz-2, 1],conc.a[1:nz-1, 1],conc.a[2:nz, 1]), np.minimum(tau_up[0:nz-2, 1],tau_up[1:nz-1, 1],tau_up[2:nz, 1])) )\n",
      "\n",
      "\n",
      "# x = xmax\n",
      "conc_up[1:nz-1, nx-1] = np.maximum(np.maximum( np.maximum(conc.a[0:nz-2, nx-1],conc.a[1:nz-1, nx-1],conc.a[2:nz, nx-1]), np.maximum(tau_up[0:nz-2, nx-1],tau_up[1:nz-1, nx-1],tau_up[2:nz, nx-1])), np.maximum( np.maximum(conc.a[0:nz-2, nx-2],conc.a[1:nz-1, nx-2],conc.a[2:nz, nx-2]), np.maximum(tau_up[0:nz-2, nx-2],tau_up[1:nz-1, nx-2],tau_up[2:nz, nx-2])) )\n",
      "\n",
      "conc_do[1:nz-1, nx-1] = np.minimum(np.minimum( np.minimum(conc.a[0:nz-2, nx-1],conc.a[1:nz-1, nx-1],conc.a[2:nz, nx-1]), np.minimum(tau_up[0:nz-2, nx-1],tau_up[1:nz-1, nx-1],tau_up[2:nz, nx-1])), np.minimum( np.minimum(conc.a[0:nz-2, nx-2],conc.a[1:nz-1, nx-2],conc.a[2:nz, nx-2]), np.minimum(tau_up[0:nz-2, nx-2],tau_up[1:nz-1, nx-2],tau_up[2:nz, nx-2])) )\n",
      "\n",
      "# z = 0\n",
      "\n",
      "conc_up[0, 1:nx-1] = np.maximum(np.maximum( np.maximum(conc.a[0, 0:nx-2],conc.a[0, 1:nx-1],conc.a[0, 2:nx]), np.maximum(tau_up[0, 0:nx-2],tau_up[0, 1:nx-1],tau_up[0, 2:nx])), np.maximum( np.maximum(conc.a[1, 0:nx-2],conc.a[1, 1:nx-1],conc.a[1, 2:nx]), np.maximum(tau_up[1, 0:nx-2],tau_up[1, 1:nx-1],tau_up[1, 2:nx])) )\n",
      "\n",
      "conc_do[0, 1:nx-1] = np.minimum(np.minimum( np.minimum(conc.a[0, 0:nx-2],conc.a[0, 1:nx-1],conc.a[0, 2:nx]), np.minimum(tau_up[0, 0:nx-2],tau_up[0, 1:nx-1],tau_up[0, 2:nx])), np.minimum( np.minimum(conc.a[1, 0:nx-2],conc.a[1, 1:nx-1],conc.a[1, 2:nx]), np.minimum(tau_up[1, 0:nx-2],tau_up[1, 1:nx-1],tau_up[1, 2:nx])) )\n",
      "\n",
      "\n",
      "# z = zmax\n",
      "conc_up[nz-1, 1:nx-1] = np.maximum(np.maximum( np.maximum(conc.a[nz-1, 0:nx-2],conc.a[nz-1, 1:nx-1],conc.a[nz-1, 2:nx]), np.maximum(tau_up[nz-1, 0:nx-2],tau_up[nz-1, 1:nx-1],tau_up[nz-1, 2:nx])),np.maximum( np.maximum(conc.a[nz-2, 0:nx-2],conc.a[nz-2, 1:nx-1],conc.a[nz-2, 2:nx]), np.maximum(tau_up[nz-2, 0:nx-2],tau_up[nz-2, 1:nx-1],tau_up[nz-2, 2:nx])) )\n",
      "\n",
      "conc_do[nz-1, 1:nx-1] = np.minimum(np.minimum( np.minimum(conc.a[nz-1, 0:nx-2],conc.a[nz-1, 1:nx-1],conc.a[nz-1, 2:nx]), np.minimum(tau_up[nz-1, 0:nx-2],tau_up[nz-1, 1:nx-1],tau_up[nz-1, 2:nx])), np.minimum( np.minimum(conc.a[nz-2, 0:nx-2],conc.a[nz-2, 1:nx-1],conc.a[nz-2, 2:nx]), np.minimum(tau_up[nz-2, 0:nx-2],tau_up[nz-2, 1:nx-1],tau_up[nz-2, 2:nx])) )\n",
      "\n",
      "\n"
     ],
     "language": "python",
     "metadata": {},
     "outputs": [],
     "prompt_number": 14
    },
    {
     "cell_type": "code",
     "collapsed": false,
     "input": [
      "dtau = plt.pcolormesh(tau_up - tau_up1)\n",
      "plt.colorbar(dtau)\n",
      "# print out number of points in tau that have changed\n",
      "print(640 - sum(sum(tau_up == tau_up1)))"
     ],
     "language": "python",
     "metadata": {},
     "outputs": [
      {
       "output_type": "stream",
       "stream": "stdout",
       "text": [
        "150\n"
       ]
      },
      {
       "metadata": {},
       "output_type": "display_data",
       "png": "[encoded data removed]",
       "text": [
        "<matplotlib.figure.Figure at 0x5e8a4d0>"
       ]
      }
     ],
     "prompt_number": 15
    },
    {
     "cell_type": "code",
     "collapsed": false,
     "input": [],
     "language": "python",
     "metadata": {},
     "outputs": []
    }
   ],
   "metadata": {}
  }
 ]
}