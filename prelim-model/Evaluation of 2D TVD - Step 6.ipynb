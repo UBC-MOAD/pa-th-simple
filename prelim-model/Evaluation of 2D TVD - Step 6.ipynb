{
 "metadata": {
  "name": "",
  "signature": "sha256:a286fafd1dd03b0da47e9d01d769b4ea23b8bbb8008d300c602d668e618720c0"
 },
 "nbformat": 3,
 "nbformat_minor": 0,
 "worksheets": [
  {
   "cells": [
    {
     "cell_type": "markdown",
     "metadata": {},
     "source": [
      "Number 6 in a series of notebooks to conscientiously review TVD code."
     ]
    },
    {
     "cell_type": "heading",
     "level": 1,
     "metadata": {},
     "source": [
      "Improve calculation of max/min concentration in neighbourhood:"
     ]
    },
    {
     "cell_type": "code",
     "collapsed": false,
     "input": [
      "from __future__ import division\n",
      "import numpy as np\n",
      "import pylab as plb\n",
      "import math\n",
      "import copy\n",
      "import matplotlib.pyplot as plt\n",
      "from math import pi\n",
      "import ThPa2D\n",
      "import flow\n",
      "import plot\n",
      "import profile_plots as pp\n",
      "%matplotlib inline"
     ],
     "language": "python",
     "metadata": {},
     "outputs": [],
     "prompt_number": 38
    },
    {
     "cell_type": "code",
     "collapsed": false,
     "input": [
      "# setup function adflow for Th \n",
      "reload(ThPa2D);reload(plot);reload(flow)\n",
      "tmax = (0, 1, 2, 3, 5, 10, 20, 60, 100);t = tmax[0];T = tmax[1];dt = 0.01\n",
      "xmin = 0;xmax = 1e6;zmin = 0;zmax = 5e3;nz = 20;nx = 32;ng = 1\n",
      "g = ThPa2D.Fgrid(nx, nz, ng, dt);h = ThPa2D.Fgrid(nx, nz, ng, dt)\n",
      "# chemistry\n",
      "k_ad, k_de, Q = ThPa2D.k_sorp('Pa', zmin, zmax, nx, nz)\n",
      "# velocity\n",
      "V = 0.02/1000*365.*86400.\n",
      "u = flow.onecell_cen(xmin, xmax, zmin, zmax, nx, nz, V)\n",
      "# make profile ones to get non-zero advection terms\n",
      "g.a = np.ones((nz, nx));h.a = np.ones((nz, nx))"
     ],
     "language": "python",
     "metadata": {},
     "outputs": [],
     "prompt_number": 41
    },
    {
     "cell_type": "code",
     "collapsed": false,
     "input": [
      "# set up parameters defined in adflow\n",
      "S = 500  \n",
      "gS = (g.zmax - g.zmin)/S\n",
      "t *= gS\n",
      "T *= gS    \n",
      "dt = 0.001\n",
      "# extract the velocities\n",
      "uz = u[0, :, :]\n",
      "ux = u[1, :, :]\n",
      "# upstream factors\n",
      "sign_uz_S = np.sign(uz[:-1, :] + uz[1:, :] + S)\n",
      "sign_uz = np.sign(uz[:-1, :] + uz[1:, :])\n",
      "sign_ux = np.sign(ux[:, :-1] + ux[:, 1:])\n",
      "# define upstream for particulate phase (contains sinking vel.)\n",
      "p_upz_p = sign_uz_S * (sign_uz_S - 1)/2\n",
      "n_upz_p = sign_uz_S * (sign_uz_S + 1)/2\n",
      "# define upstream for dissolved phase\n",
      "p_upz_d = sign_uz * (sign_uz - 1)/2\n",
      "n_upz_d = sign_uz * (sign_uz + 1)/2\n",
      "# define upstream in x\n",
      "p_upx = sign_ux * (sign_ux - 1)/2\n",
      "n_upx = sign_ux * (sign_ux + 1)/2\n",
      "# decide whether to test particulate or dissolved phase\n",
      "conc = g\n",
      "p_upz = p_upz_d\n",
      "n_upz = n_upz_d\n",
      "sinkrate = 0"
     ],
     "language": "python",
     "metadata": {},
     "outputs": [],
     "prompt_number": 42
    },
    {
     "cell_type": "code",
     "collapsed": false,
     "input": [
      "# upstream flux: C m/s\n",
      "fluxx_up = np.zeros((nz, nx))      \n",
      "fluxz_up = np.zeros((nz, nx)) \n",
      "# define entries 0:nx-2 inclusive using n_upz etc.\n",
      "fluxx_up[:, 0:nx-1] = ux[:, 0:nx-1]*conc.a[:, 0:nx-1] * n_upx[:, 0:nx-1] + ux[:, 1:nx]*conc.a[:, 1:nx] * p_upx[:, 0:nx-1]     # C m/s\n",
      "fluxz_up[0:nz-1, :] = (sinkrate + uz[0:nz-1, :])*conc.a[0:nz-1, :] * n_upz[0:nz-1, :] + (sinkrate + uz[1:nz, :])*conc.a[1:nz, :] * p_upz[0:nz-1, :]    # C m/s\n",
      "# simlulate settling in the bottom boundary (should be >0)\n",
      "fluxz_up[nz-1, :] = 2*fluxz_up[nz-2, :] - fluxz_up[nz-3, :]\n",
      "\n",
      "# d(conc)/dt according to upstream scheme (on the grid points)\n",
      "dtau_up_dt = np.zeros((nz, nx)) \n",
      "dtau_up_dt[1:nz, 1:nx] = (fluxx_up[1:nz, 0:nx-1] - fluxx_up[1:nz, 1:nx]) * conc.dx_i + (fluxz_up[0:nz-1, 1:nx] - fluxz_up[1:nz, 1:nx])  * conc.dz_i \n",
      "dtau_up_dt[0, 1:nx] = (fluxx_up[0, 0:nx-1] - fluxx_up[0, 1:nx]) * conc.dx_i - fluxz_up[0, 1:nx]  * conc.dz_i\n",
      "dtau_up_dt[1:nz, 0] = -fluxx_up[1:nz, 0] * conc.dx_i + (fluxz_up[0:nz-1, 0] - fluxz_up[1:nz, 0])  * conc.dz_i\n",
      "dtau_up_dt[0, 0] = - fluxx_up[0, 0] * conc.dx_i - fluxz_up[0, 0]  * conc.dz_i\n",
      "# new concentration based on upstream scheme\n",
      "tau_up = conc.a + dtau_up_dt * dt\n",
      "\n",
      "# centred flux\n",
      "fluxx_cen = np.zeros((nz, nx))        \n",
      "fluxz_cen = np.zeros((nz, nx))\n",
      "fluxx_cen[:, 0:nx-1] = 0.5 * ( conc.a[:, 0:nx-1]*ux[:, 0:nx-1] + conc.a[:, 1:nx]*ux[:, 1:nx] ) \n",
      "fluxz_cen[0:nz-1, :] = 0.5 * ( conc.a[0:nz-1, :]*(sinkrate + uz[0:nz-1, :]) + conc.a[1:nz, :]*(sinkrate + uz[1:nz, :] ))\n",
      "# flux at bottom boundary\n",
      "fluxz_cen[nz-1, :] = 2*fluxz_cen[nz-2, :] - fluxz_cen[nz-3, :]\n",
      "# anti-diffusive flux\n",
      "adfx = fluxx_cen - fluxx_up                     # conc*velocity\n",
      "adfz = fluxz_cen - fluxz_up\n"
     ],
     "language": "python",
     "metadata": {},
     "outputs": [],
     "prompt_number": 43
    },
    {
     "cell_type": "heading",
     "level": 4,
     "metadata": {},
     "source": [
      "On the open domain:"
     ]
    },
    {
     "cell_type": "code",
     "collapsed": false,
     "input": [
      "%%timeit\n",
      "# max and min concentrations in region\n",
      "conc_up = np.empty_like(conc.a)\n",
      "conc_do = np.empty_like(conc.a)\n",
      "# max/min in middle domain\n",
      "for j in range(1, nx - 1):\n",
      "                for i in range(1, nz - 1):\n",
      "                        conc_up[i, j] = max( np.max(conc.a[i-1:i+2, j-1:j+2]), np.max(tau_up[i-1:i+2, j-1:j+2]) ) \n",
      "                        conc_do[i, j] = min( np.min(conc.a[i-1:i+2, j-1:j+2]), np.min(tau_up[i-1:i+2, j-1:j+2]) )"
     ],
     "language": "python",
     "metadata": {},
     "outputs": [
      {
       "output_type": "stream",
       "stream": "stdout",
       "text": [
        "10 loops, best of 3: 22.9 ms per loop\n"
       ]
      }
     ],
     "prompt_number": 22
    },
    {
     "cell_type": "markdown",
     "metadata": {},
     "source": [
      "for loop is super slow, try using while:"
     ]
    },
    {
     "cell_type": "code",
     "collapsed": false,
     "input": [
      "%%timeit\n",
      "# max and min concentrations in region\n",
      "conc_up = np.empty_like(conc.a)\n",
      "conc_do = np.empty_like(conc.a)\n",
      "# max/min in middle domain\n",
      "j = 1\n",
      "while j < nx - 1:\n",
      "    i = 1\n",
      "    while i < nz - 1:\n",
      "        conc_up[i, j] = max( np.max(conc.a[i-1:i+2, j-1:j+2]), np.max(tau_up[i-1:i+2, j-1:j+2]) ) \n",
      "        conc_do[i, j] = min( np.min(conc.a[i-1:i+2, j-1:j+2]), np.min(tau_up[i-1:i+2, j-1:j+2]) )\n",
      "        i += 1\n",
      "    j += 1\n",
      "# 28 times faster than previous cell\n",
      "# while loops are only faster than for loops in nested sequences"
     ],
     "language": "python",
     "metadata": {},
     "outputs": [
      {
       "output_type": "stream",
       "stream": "stdout",
       "text": [
        "10 loops, best of 3: 23.2 ms per loop\n"
       ]
      }
     ],
     "prompt_number": 23
    },
    {
     "cell_type": "markdown",
     "metadata": {},
     "source": [
      "No improvement."
     ]
    },
    {
     "cell_type": "code",
     "collapsed": false,
     "input": [
      "%%timeit\n",
      "# max and min concentrations in t-shaped region\n",
      "conc_up = np.empty_like(conc.a)\n",
      "conc_do = np.empty_like(conc.a)\n",
      "conc_up[1:nz-1, 1:nx-1] = np.maximum( np.maximum( np.maximum( conc.a[1:nz-1, 0:nx-2], conc.a[1:nz-1, 2:nx] ), np.maximum( tau_up[1:nz-1, 0:nx-2], tau_up[1:nz-1, 2:nx] ) ), np.maximum( np.maximum( conc.a[0:nz-2, 1:nx-1], conc.a[1:nz-1, 1:nx-1], conc.a[2:nz, 1:nx-1] ), np.maximum( tau_up[0:nz-2, 1:nx-1], tau_up[1:nz-1, 1:nx-1], tau_up[2:nz, 1:nx-1] )) ) \n",
      "conc_do[1:nz-1, 1:nx-1] = np.minimum( np.minimum( np.minimum( conc.a[1:nz-1, 0:nx-2], conc.a[1:nz-1, 2:nx] ), np.minimum( tau_up[1:nz-1, 0:nx-2], tau_up[1:nz-1, 2:nx] ) ), np.minimum( np.minimum( conc.a[0:nz-2, 1:nx-1], conc.a[1:nz-1, 1:nx-1], conc.a[2:nz, 1:nx-1] ), np.minimum( tau_up[0:nz-2, 1:nx-1], tau_up[1:nz-1, 1:nx-1], tau_up[2:nz, 1:nx-1] )) ) \n"
     ],
     "language": "python",
     "metadata": {},
     "outputs": [
      {
       "output_type": "stream",
       "stream": "stdout",
       "text": [
        "10000 loops, best of 3: 111 \u00b5s per loop\n"
       ]
      }
     ],
     "prompt_number": 43
    },
    {
     "cell_type": "markdown",
     "metadata": {},
     "source": [
      "This calculation runs through neighbours in a **t-shape** surrounding self."
     ]
    },
    {
     "cell_type": "code",
     "collapsed": false,
     "input": [
      "%%timeit\n",
      "# max and min concentrations in 3x3 region\n",
      "conc_up = np.empty_like(conc.a)\n",
      "conc_do = np.empty_like(conc.a)\n",
      "conc_up[1:nz-1, 1:nx-1] = np.maximum(np.maximum( np.maximum( conc.a[0:nz-2, 0:nx-2], conc.a[0:nz-2, 1:nx-1], conc.a[0:nz-2, 2:nx] ), np.maximum( tau_up[0:nz-2, 0:nx-2], tau_up[0:nz-2, 1:nx-1], tau_up[0:nz-2, 2:nx] ) ), np.maximum( np.maximum( conc.a[1:nz-1, 0:nx-2], conc.a[1:nz-1, 1:nx-1], conc.a[1:nz-1, 2:nx] ), np.maximum( tau_up[1:nz-1, 0:nx-2], tau_up[1:nz-1, 1:nx-1], tau_up[1:nz-1, 2:nx] ) ), np.maximum( np.maximum( conc.a[2:nz, 0:nx-2], conc.a[2:nz, 1:nx-1], conc.a[2:nz, 2:nx]       ), np.maximum( tau_up[2:nz, 0:nx-2], tau_up[2:nz, 1:nx-1], tau_up[2:nz, 2:nx]       ) ) )\n",
      "conc_do[1:nz-1, 1:nx-1] = np.minimum(np.minimum( np.minimum( conc.a[0:nz-2, 0:nx-2], conc.a[0:nz-2, 1:nx-1], conc.a[0:nz-2, 2:nx] ), np.minimum( tau_up[0:nz-2, 0:nx-2], tau_up[0:nz-2, 1:nx-1], tau_up[0:nz-2, 2:nx] ) ), np.minimum( np.minimum( conc.a[1:nz-1, 0:nx-2], conc.a[1:nz-1, 1:nx-1], conc.a[1:nz-1, 2:nx] ), np.minimum( tau_up[1:nz-1, 0:nx-2], tau_up[1:nz-1, 1:nx-1], tau_up[1:nz-1, 2:nx] ) ), np.minimum( np.minimum( conc.a[2:nz, 0:nx-2], conc.a[2:nz, 1:nx-1], conc.a[2:nz, 2:nx]       ), np.minimum( tau_up[2:nz, 0:nx-2], tau_up[2:nz, 1:nx-1], tau_up[2:nz, 2:nx]       ) ) )\n"
     ],
     "language": "python",
     "metadata": {},
     "outputs": [
      {
       "output_type": "stream",
       "stream": "stdout",
       "text": [
        "10000 loops, best of 3: 176 \u00b5s per loop\n"
       ]
      }
     ],
     "prompt_number": 7
    },
    {
     "cell_type": "markdown",
     "metadata": {},
     "source": [
      "This calculation runs through a **3x3 grid** surrounding self."
     ]
    },
    {
     "cell_type": "heading",
     "level": 3,
     "metadata": {},
     "source": [
      "Plot and compare max/min calculation on open domain:"
     ]
    },
    {
     "cell_type": "heading",
     "level": 4,
     "metadata": {},
     "source": [
      "Loop method"
     ]
    },
    {
     "cell_type": "code",
     "collapsed": false,
     "input": [
      "# max and min concentrations in region\n",
      "conc_up = np.empty_like(conc.a)\n",
      "conc_do = np.empty_like(conc.a)\n",
      "# max/min in open domain\n",
      "for j in range(1, nx):\n",
      "    for i in range(1, nz):\n",
      "        conc_up[i, j] = max( np.max(conc.a[i-1:i+2, j-1:j+2]), np.max(tau_up[i-1:i+2, j-1:j+2]) )\n",
      "        conc_do[i, j] = min( np.min(conc.a[i-1:i+2, j-1:j+2]), np.min(tau_up[i-1:i+2, j-1:j+2]) )\n",
      "               \n",
      "plt.subplots(1,2,figsize = (20, 5))\n",
      "plt.subplot(121)\n",
      "loop1 = plt.pcolormesh(conc_up[1:nz-1, 1:nx-1])\n",
      "plt.colorbar(loop1)\n",
      "plt.title('maximum in region')\n",
      "plt.subplot(122)\n",
      "loop = plt.pcolormesh(conc_do[1:nz-1, 1:nx-1])\n",
      "plt.colorbar(loop)\n",
      "plt.title('minimum in region')\n"
     ],
     "language": "python",
     "metadata": {},
     "outputs": [
      {
       "metadata": {},
       "output_type": "pyout",
       "prompt_number": 44,
       "text": [
        "<matplotlib.text.Text at 0x8399f90>"
       ]
      },
      {
       "metadata": {},
       "output_type": "display_data",
       "png": "[encoded data removed]",
       "text": [
        "<matplotlib.figure.Figure at 0x7152d10>"
       ]
      }
     ],
     "prompt_number": 44
    },
    {
     "cell_type": "heading",
     "level": 4,
     "metadata": {},
     "source": [
      "Matrix method:"
     ]
    },
    {
     "cell_type": "code",
     "collapsed": false,
     "input": [
      "# max and min concentrations in 3x3 region\n",
      "conc_up = np.empty_like(conc.a)\n",
      "conc_do = np.empty_like(conc.a)\n",
      "conc_up[1:nz-1, 1:nx-1] = np.maximum(np.maximum( np.maximum( conc.a[0:nz-2, 0:nx-2], conc.a[0:nz-2, 1:nx-1], conc.a[0:nz-2, 2:nx] ), np.maximum( tau_up[0:nz-2, 0:nx-2], tau_up[0:nz-2, 1:nx-1], tau_up[0:nz-2, 2:nx] ) ), np.maximum( np.maximum( conc.a[1:nz-1, 0:nx-2], conc.a[1:nz-1, 1:nx-1], conc.a[1:nz-1, 2:nx] ), np.maximum( tau_up[1:nz-1, 0:nx-2], tau_up[1:nz-1, 1:nx-1], tau_up[1:nz-1, 2:nx] ) ), np.maximum( np.maximum( conc.a[2:nz, 0:nx-2], conc.a[2:nz, 1:nx-1], conc.a[2:nz, 2:nx]       ), np.maximum( tau_up[2:nz, 0:nx-2], tau_up[2:nz, 1:nx-1], tau_up[2:nz, 2:nx]       ) ) )\n",
      "conc_do[1:nz-1, 1:nx-1] = np.minimum(np.minimum( np.minimum( conc.a[0:nz-2, 0:nx-2], conc.a[0:nz-2, 1:nx-1], conc.a[0:nz-2, 2:nx] ), np.minimum( tau_up[0:nz-2, 0:nx-2], tau_up[0:nz-2, 1:nx-1], tau_up[0:nz-2, 2:nx] ) ), np.minimum( np.minimum( conc.a[1:nz-1, 0:nx-2], conc.a[1:nz-1, 1:nx-1], conc.a[1:nz-1, 2:nx] ), np.minimum( tau_up[1:nz-1, 0:nx-2], tau_up[1:nz-1, 1:nx-1], tau_up[1:nz-1, 2:nx] ) ), np.minimum( np.minimum( conc.a[2:nz, 0:nx-2], conc.a[2:nz, 1:nx-1], conc.a[2:nz, 2:nx]       ), np.minimum( tau_up[2:nz, 0:nx-2], tau_up[2:nz, 1:nx-1], tau_up[2:nz, 2:nx]       ) ) )\n",
      "\n",
      "plt.subplots(1,2,figsize = (20, 5))\n",
      "plt.subplot(121)\n",
      "loop = plt.pcolormesh(conc_up[1:nz-1, 1:nx-1])\n",
      "plt.colorbar(loop)\n",
      "plt.title('maximum in region')\n",
      "plt.subplot(122)\n",
      "loop = plt.pcolormesh(conc_do[1:nz-1, 1:nx-1])\n",
      "plt.colorbar(loop)\n",
      "plt.title('minimum in region')\n"
     ],
     "language": "python",
     "metadata": {},
     "outputs": [
      {
       "metadata": {},
       "output_type": "pyout",
       "prompt_number": 25,
       "text": [
        "<matplotlib.text.Text at 0x6433ad0>"
       ]
      },
      {
       "metadata": {},
       "output_type": "display_data",
       "png": "[encoded data removed]",
       "text": [
        "<matplotlib.figure.Figure at 0x5920050>"
       ]
      }
     ],
     "prompt_number": 25
    },
    {
     "cell_type": "markdown",
     "metadata": {},
     "source": [
      "This result should be identical to the loop method, but it is not."
     ]
    },
    {
     "cell_type": "markdown",
     "metadata": {},
     "source": [
      "This cell changes every time it is run because it changes the value of tau_up. Tried using copy function to avoid overwriting tau_up, but with no success. \n",
      "\n",
      "The method which assigns a new value to conc_up directly from conc.a and tau_up \n",
      "\n",
      "a.) produces a spatially scewed result\n",
      "\n",
      "b.) changes the values in tau_up every time it is run\n",
      "\n",
      "I could not figure out why this problem occurs, but it can be resolved by creating a dummy varible as in the preceeding cell."
     ]
    },
    {
     "cell_type": "heading",
     "level": 2,
     "metadata": {},
     "source": [
      "Try a method that takes the minimum of a dummy variable:"
     ]
    },
    {
     "cell_type": "code",
     "collapsed": false,
     "input": [
      "%%timeit\n",
      "conc3=np.empty((5,nz,nx)); tau3=np.empty((5,nz,nx))\n",
      "# open domain\n",
      "conc3[0,1:nz-1,1:nx-1] = conc.a[1:nz-1,0:nx-2]\n",
      "conc3[1,1:nz-1,1:nx-1] = conc.a[1:nz-1,1:nx-1]\n",
      "conc3[2,1:nz-1,1:nx-1] = conc.a[1:nz-1,2:nx]\n",
      "conc3[3,1:nz-1,1:nx-1] = conc.a[0:nz-2,1:nx-1]\n",
      "conc3[4,1:nz-1,1:nx-1] = conc.a[2:nz,1:nx-1]\n",
      "tau3[0,1:nz-1,1:nx-1] = tau_up[1:nz-1,0:nx-2]\n",
      "tau3[1,1:nz-1,1:nx-1] = tau_up[1:nz-1,1:nx-1]\n",
      "tau3[2,1:nz-1,1:nx-1] = tau_up[1:nz-1,2:nx]\n",
      "tau3[3,1:nz-1,1:nx-1] = tau_up[0:nz-2,1:nx-1]\n",
      "tau3[4,1:nz-1,1:nx-1] = tau_up[2:nz,1:nx-1]   # C\n",
      "# on bounds\n",
      "# x = 0\n",
      "conc3[0,1:nz-1, 0] = conc.a[0:nz-2, 0]\n",
      "conc3[1,1:nz-1, 0] = conc.a[1:nz-1, 0]\n",
      "conc3[2,1:nz-1, 0] = conc.a[2:nz, 0]\n",
      "conc3[3,1:nz-1, 0] = conc.a[1:nz-1, 1]\n",
      "conc3[4,1:nz-1, 0] = conc.a[1:nz-1, 1]\n",
      "tau3[0,1:nz-1, 0] = tau_up[0:nz-2, 0]\n",
      "tau3[1,1:nz-1, 0] = tau_up[1:nz-1, 0]\n",
      "tau3[2,1:nz-1, 0] = tau_up[2:nz, 0]\n",
      "tau3[3,1:nz-1, 0] = tau_up[1:nz-1, 1]\n",
      "tau3[4,1:nz-1, 0] = tau_up[1:nz-1, 1]\n",
      "# x = xmax\n",
      "conc3[0,1:nz-1, nx-1] = conc.a[0:nz-2, nx-1]\n",
      "conc3[1,1:nz-1, nx-1] = conc.a[1:nz-1, nx-1]\n",
      "conc3[2,1:nz-1, nx-1] = conc.a[2:nz, nx-1]\n",
      "conc3[3,1:nz-1, nx-1] = conc.a[1:nz-1, nx-2]\n",
      "conc3[4,1:nz-1, nx-1] = conc.a[1:nz-1, nx-2]\n",
      "tau3[0,1:nz-1, nx-1] = tau_up[0:nz-2, nx-1]\n",
      "tau3[1,1:nz-1, nx-1] = tau_up[1:nz-1, nx-1]\n",
      "tau3[2,1:nz-1, nx-1] = tau_up[2:nz, nx-1]\n",
      "tau3[3,1:nz-1, nx-1] = tau_up[1:nz-1, nx-2]\n",
      "tau3[4,1:nz-1, nx-1] = tau_up[1:nz-1, nx-2]\n",
      "# z = 0\n",
      "conc3[0,0,1:nx-1] = conc.a[0,0:nx-2]\n",
      "conc3[1,0,1:nx-1] = conc.a[0,1:nx-1]\n",
      "conc3[2,0,1:nx-1] = conc.a[0,2:nx]\n",
      "conc3[3,0,1:nx-1] = conc.a[1,1:nx-1]\n",
      "conc3[4,0,1:nx-1] = conc.a[1,1:nx-1]\n",
      "tau3[0,0,1:nx-1] = tau_up[0,0:nx-2]\n",
      "tau3[1,0,1:nx-1] = tau_up[0,1:nx-1]\n",
      "tau3[2,0,1:nx-1] = tau_up[0,2:nx]\n",
      "tau3[3,0,1:nx-1] = tau_up[1,1:nx-1]\n",
      "tau3[4,0,1:nx-1] = tau_up[1,1:nx-1]\n",
      "# z = zmax\n",
      "conc3[0,nz-1,1:nx-1] = conc.a[nz-1,0:nx-2]\n",
      "conc3[1,nz-1,1:nx-1] = conc.a[nz-1,1:nx-1]\n",
      "conc3[2,nz-1,1:nx-1] = conc.a[nz-1,2:nx]\n",
      "conc3[3,nz-1,1:nx-1] = conc.a[nz-2,1:nx-1]\n",
      "conc3[4,nz-1,1:nx-1] = conc.a[nz-2,1:nx-1]\n",
      "tau3[0,nz-1,1:nx-1] = tau_up[nz-1,0:nx-2]\n",
      "tau3[1,nz-1,1:nx-1] = tau_up[nz-1,1:nx-1]\n",
      "tau3[2,nz-1,1:nx-1] = tau_up[nz-1,2:nx]\n",
      "tau3[3,nz-1,1:nx-1] = tau_up[nz-2,1:nx-1]\n",
      "tau3[4,nz-1,1:nx-1] = tau_up[nz-2,1:nx-1]\n",
      "# top left\n",
      "conc3[0,0,0] = conc.a[0,0]\n",
      "conc3[1,0,0] = conc.a[0,1]\n",
      "conc3[2,0,0] = conc.a[1,0]\n",
      "conc3[3,0,0] = conc.a[1,0]\n",
      "conc3[4,0,0] = conc.a[1,0]\n",
      "tau3[0,0,0] = tau_up[0,0]\n",
      "tau3[1,0,0] = tau_up[0,1]\n",
      "tau3[2,0,0] = tau_up[1,0]\n",
      "tau3[3,0,0] = tau_up[1,0]\n",
      "tau3[4,0,0] = tau_up[1,0]\n",
      "# top right\n",
      "conc3[0,0,nx-1] = conc.a[0,nx-1]\n",
      "conc3[1,0,nx-1] = conc.a[0,nx-2]\n",
      "conc3[2,0,nx-1] = conc.a[1,nx-1]\n",
      "conc3[3,0,nx-1] = conc.a[1,nx-1]\n",
      "conc3[4,0,nx-1] = conc.a[1,nx-1]\n",
      "tau3[0,0,nx-1] = tau_up[0,nx-1]\n",
      "tau3[1,0,nx-1] = tau_up[0,nx-2]\n",
      "tau3[2,0,nx-1] = tau_up[1,nx-1]\n",
      "tau3[3,0,nx-1] = tau_up[1,nx-1]\n",
      "tau3[4,0,nx-1] = tau_up[1,nx-1]\n",
      "# bottom left\n",
      "conc3[0,nz-1,0] = conc.a[nz-1,0]\n",
      "conc3[1,nz-1,0] = conc.a[nz-1,1]\n",
      "conc3[2,nz-1,0] = conc.a[nz-2,0]\n",
      "conc3[3,nz-1,0] = conc.a[nz-2,0]\n",
      "conc3[4,nz-1,0] = conc.a[nz-2,0]\n",
      "tau3[0,nz-1,0] = tau_up[nz-1,0]\n",
      "tau3[1,nz-1,0] = tau_up[nz-1,1]\n",
      "tau3[2,nz-1,0] = tau_up[nz-2,0]\n",
      "tau3[3,nz-1,0] = tau_up[nz-2,0]\n",
      "tau3[4,nz-1,0] = tau_up[nz-2,0]\n",
      "# bottom right\n",
      "conc3[0,nz-1,nx-1] = conc.a[nz-1,nx-1]\n",
      "conc3[1,nz-1,nx-1] = conc.a[nz-1,nx-2]\n",
      "conc3[2,nz-1,nx-1] = conc.a[nz-2,nx-1]\n",
      "conc3[3,nz-1,nx-1] = conc.a[nz-2,nx-1]\n",
      "conc3[4,nz-1,nx-1] = conc.a[nz-2,nx-1]\n",
      "tau3[0,nz-1,nx-1] = tau_up[nz-1,nx-1]\n",
      "tau3[1,nz-1,nx-1] = tau_up[nz-1,nx-2]\n",
      "tau3[2,nz-1,nx-1] = tau_up[nz-2,nx-1]\n",
      "tau3[3,nz-1,nx-1] = tau_up[nz-2,nx-1]\n",
      "tau3[4,nz-1,nx-1] = tau_up[nz-2,nx-1]\n",
      "# take minimum along 0-axis\n",
      "conc_up = np.maximum(np.amax(conc3,axis=0),np.amax(tau3,axis=0))   # C\n",
      "conc_do = np.minimum(np.amin(conc3,axis=0),np.amin(tau3,axis=0))   # C"
     ],
     "language": "python",
     "metadata": {},
     "outputs": [
      {
       "output_type": "stream",
       "stream": "stdout",
       "text": [
        "1000 loops, best of 3: 282 \u00b5s per loop\n"
       ]
      }
     ],
     "prompt_number": 60
    },
    {
     "cell_type": "markdown",
     "metadata": {},
     "source": [
      "No difference in speed between np.zeros and np.empty"
     ]
    },
    {
     "cell_type": "code",
     "collapsed": false,
     "input": [
      "# and plot it\n",
      "plt.subplots(1,2,figsize = (20, 5))\n",
      "plt.subplot(121)\n",
      "loop1 = plt.pcolormesh(conc_up)\n",
      "plt.colorbar(loop1)\n",
      "plt.title('maximum in region')\n",
      "plt.subplot(122)\n",
      "loop = plt.pcolormesh(conc_do)\n",
      "plt.colorbar(loop)\n",
      "plt.title('minimum in region')"
     ],
     "language": "python",
     "metadata": {},
     "outputs": [
      {
       "metadata": {},
       "output_type": "pyout",
       "prompt_number": 59,
       "text": [
        "<matplotlib.text.Text at 0x98aad50>"
       ]
      },
      {
       "metadata": {},
       "output_type": "display_data",
       "png": "[encoded data removed]",
       "text": [
        "<matplotlib.figure.Figure at 0x8c1dd10>"
       ]
      }
     ],
     "prompt_number": 59
    },
    {
     "cell_type": "markdown",
     "metadata": {},
     "source": [
      "Fast, and produces a sensible result without changin the value of the independent variables!\n",
      "\n",
      "Produces similar results to loop method in both particulate and dissolved phase cases."
     ]
    },
    {
     "cell_type": "markdown",
     "metadata": {},
     "source": [
      "Most important thing learned in this notebook: only put dummy vars in np.maximum or np.minimum function."
     ]
    },
    {
     "cell_type": "code",
     "collapsed": false,
     "input": [],
     "language": "python",
     "metadata": {},
     "outputs": []
    }
   ],
   "metadata": {}
  }
 ]
}