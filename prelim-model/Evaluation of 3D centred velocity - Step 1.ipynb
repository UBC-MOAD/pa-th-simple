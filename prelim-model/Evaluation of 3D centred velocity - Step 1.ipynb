{
 "metadata": {
  "name": "",
  "signature": "sha256:a2c61aadf8be34033d2a403e14938c46c883d2bbeb4462c7d50f7144707204de"
 },
 "nbformat": 3,
 "nbformat_minor": 0,
 "worksheets": [
  {
   "cells": [
    {
     "cell_type": "markdown",
     "metadata": {},
     "source": [
      "The first in a series of notebooks to turn 2D centred velocity to 3D."
     ]
    },
    {
     "cell_type": "code",
     "collapsed": false,
     "input": [],
     "language": "python",
     "metadata": {},
     "outputs": []
    }
   ],
   "metadata": {}
  }
 ]
}