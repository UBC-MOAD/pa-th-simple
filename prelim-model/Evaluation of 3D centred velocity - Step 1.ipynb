{
 "metadata": {
  "name": "",
  "signature": "sha256:4b2721464bdca74fca2bfdd55ee12af19b0f857ce958e057d6efc1a56aba64f8"
 },
 "nbformat": 3,
 "nbformat_minor": 0,
 "worksheets": [
  {
   "cells": [
    {
     "cell_type": "markdown",
     "metadata": {},
     "source": [
      "The first in a series of notebooks to turn 2D centred velocity to 3D."
     ]
    },
    {
     "cell_type": "code",
     "collapsed": false,
     "input": [
      "from __future__ import division\n",
      "import numpy as np\n",
      "import math\n",
      "import copy\n",
      "import matplotlib.pyplot as plt\n",
      "from math import pi\n",
      "import ThPa2D\n",
      "import flow\n",
      "import plot\n",
      "import profile_plots as pp\n",
      "%matplotlib inline"
     ],
     "language": "python",
     "metadata": {},
     "outputs": []
    }
   ],
   "metadata": {}
  }
 ]
}