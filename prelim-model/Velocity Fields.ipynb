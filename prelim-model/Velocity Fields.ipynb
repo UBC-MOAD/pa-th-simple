{
 "metadata": {
  "name": "",
  "signature": "sha256:fd8fb1f150bbfd8ca4f7247bdb07b0975a238c0180d4b8218476d5fa8b50c68b"
 },
 "nbformat": 3,
 "nbformat_minor": 0,
 "worksheets": [
  {
   "cells": [
    {
     "cell_type": "raw",
     "metadata": {},
     "source": [
      "I want this to show up as descrptive text beneath the nb veiwer link!"
     ]
    }
   ],
   "metadata": {}
  }
 ]
}