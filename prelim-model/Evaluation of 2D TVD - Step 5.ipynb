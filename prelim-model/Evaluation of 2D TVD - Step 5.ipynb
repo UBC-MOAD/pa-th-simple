{
 "metadata": {
  "name": "",
  "signature": "sha256:5e37ad2f1a326a04dfa0160c99bc98f9703591a3f945eb39f80688d9db3c9d4b"
 },
 "nbformat": 3,
 "nbformat_minor": 0,
 "worksheets": [
  {
   "cells": [
    {
     "cell_type": "markdown",
     "metadata": {},
     "source": [
      "Number 5 in a series of notebooks to carefully improve TVD code."
     ]
    },
    {
     "cell_type": "code",
     "collapsed": false,
     "input": [
      "from __future__ import division\n",
      "import numpy as np\n",
      "import pylab as plb\n",
      "import math\n",
      "import copy\n",
      "import matplotlib.pyplot as plt\n",
      "from math import pi\n",
      "import ThPa2D\n",
      "import flow\n",
      "import plot\n",
      "import profile_plots as pp\n",
      "%matplotlib inline"
     ],
     "language": "python",
     "metadata": {},
     "outputs": [],
     "prompt_number": 30
    },
    {
     "cell_type": "code",
     "collapsed": false,
     "input": [
      "# setup function adflow for Th \n",
      "reload(ThPa2D)\n",
      "reload(plot)\n",
      "reload(flow)\n",
      "tmax = (0, 1, 2, 3, 5, 10, 20, 60, 100)\n",
      "t = tmax[0]\n",
      "T = tmax[1]\n",
      "V = 0.02/1000*365.*86400.\n",
      "xmin = 0\n",
      "xmax = 1e6\n",
      "zmin = 0\n",
      "zmax = 5e3\n",
      "nz = 20\n",
      "nx = 32\n",
      "ng = 1\n",
      "g = ThPa2D.Fgrid(nx, nz, ng)\n",
      "h = ThPa2D.Fgrid(nx, nz, ng)\n",
      "# chemistry\n",
      "k_ad, k_de, Q = ThPa2D.k_sorp('Pa', zmin, zmax, nx, nz)\n",
      "# velocity\n",
      "u = flow.twocell_cen(xmin, xmax, zmin, zmax, nx, nz, V)\n",
      "# make profile ones to get non-zero advection terms\n",
      "g.a = np.ones((nz, nx))\n",
      "h.a = np.ones((nz, nx))\n",
      "conc = g"
     ],
     "language": "python",
     "metadata": {},
     "outputs": [],
     "prompt_number": 31
    },
    {
     "cell_type": "code",
     "collapsed": false,
     "input": [
      "# set up parameters defined in adflow\n",
      "S = 500  \n",
      "gS = (g.zmax - g.zmin)/S\n",
      "t *= gS\n",
      "T *= gS    \n",
      "# extract the velocities\n",
      "uz = u[0, :, :]\n",
      "ux = u[1, :, :]\n",
      "# upstream factors\n",
      "sign_uz_S = np.sign(uz[:-1, :] + uz[1:, :] + S)\n",
      "sign_uz = np.sign(uz[:-1, :] + uz[1:, :])\n",
      "sign_ux = np.sign(ux[:, :-1] + ux[:, 1:])\n",
      "# define upstream for particulate phase (contains sinking vel.)\n",
      "p_upz_p = sign_uz_S * (sign_uz_S - 1)/2\n",
      "n_upz_p = sign_uz_S * (sign_uz_S + 1)/2\n",
      "# define upstream for dissolved phase\n",
      "p_upz_d = sign_uz * (sign_uz - 1)/2\n",
      "n_upz_d = sign_uz * (sign_uz + 1)/2\n",
      "# define upstream in x\n",
      "p_upx = sign_ux * (sign_ux - 1)/2\n",
      "n_upx = sign_ux * (sign_ux + 1)/2\n",
      "# decide whether to test particulate or dissolved phase\n",
      "conc = h\n",
      "p_upz = p_upz_p\n",
      "n_upz = n_upz_p\n",
      "sinkrate = S\n",
      "# TVD code - check dissolved calculation\n",
      "# grid\n",
      "# set conc.a = tau_up to simulate next time step\n",
      "#conc.a = copy.copy(tau_up)\n",
      "nz = conc.nz\n",
      "nx = conc.nx\n",
      "dt = 0.001\n",
      "# extract velocity\n",
      "uz = u[0,:,:]\n",
      "ux = u[1,:,:]\n"
     ],
     "language": "python",
     "metadata": {},
     "outputs": [],
     "prompt_number": 32
    },
    {
     "cell_type": "code",
     "collapsed": false,
     "input": [
      "%%timeit\n",
      "# upstream flux: C m/s\n",
      "fluxx_up = np.empty_like(conc.a)       \n",
      "fluxz_up = np.empty_like(conc.a)\n",
      "# define entries 0:nx-2 inclusive using n_upz etc.\n",
      "fluxx_up[:, 0:nx-1] = ux[:, 0:nx-1]*conc.a[:, 0:nx-1] * n_upx[:, 0:nx-1] + ux[:, 1:nx]*conc.a[:, 1:nx] * p_upx[:, 0:nx-1]     # C m/s\n",
      "fluxz_up[0:nz-1, :] = (sinkrate + uz[0:nz-1, :])*conc.a[0:nz-1, :] * n_upz[0:nz-1, :] + (sinkrate + uz[1:nz, :])*conc.a[1:nz, :] * p_upz[0:nz-1, :]    # C m/s\n",
      "# simlulate settling in the bottom boundary (should be >0)\n",
      "fluxz_up[nz-1, :] = 2*fluxz_up[nz-2, :] - fluxz_up[nz-3, :]\n",
      "\n",
      "# d(conc)/dt according to upstream scheme (on the grid points)\n",
      "dtau_up_dt = np.empty_like(conc.a)\n",
      "dtau_up_dt[1:nz, 1:nx] = (fluxx_up[1:nz, 0:nx-1] - fluxx_up[1:nz, 1:nx]) * conc.dx_i + (fluxz_up[0:nz-1, 1:nx] - fluxz_up[1:nz, 1:nx])  * conc.dz_i \n",
      "dtau_up_dt[0, 1:nx] = (fluxx_up[0, 0:nx-1] - fluxx_up[0, 1:nx]) * conc.dx_i - fluxz_up[0, 1:nx]  * conc.dz_i\n",
      "dtau_up_dt[1:nz, 0] = -fluxx_up[1:nz, 0] * conc.dx_i + (fluxz_up[0:nz-1, 0] - fluxz_up[1:nz, 0])  * conc.dz_i\n",
      "dtau_up_dt[0, 0] = - fluxx_up[0, 0] * conc.dx_i - fluxz_up[0, 0]  * conc.dz_i\n",
      "# new concentration based on upstream scheme\n",
      "tau_up = conc.a + dtau_up_dt * dt\n",
      "\n",
      "# centred flux\n",
      "fluxx_cen = np.empty_like(conc.a)        \n",
      "fluxz_cen = np.zeros((nz, nx))\n",
      "fluxx_cen[:, 0:nx-1] = 0.5 * ( conc.a[:, 0:nx-1]*ux[:, 0:nx-1] + conc.a[:, 1:nx]*ux[:, 1:nx] ) \n",
      "fluxz_cen[0:nz-1, :] = 0.5 * ( conc.a[0:nz-1, :]*(sinkrate + uz[0:nz-1, :]) + conc.a[1:nz, :]*(sinkrate + uz[1:nz, :] ))\n",
      "# flux at bottom boundary\n",
      "fluxz_cen[nz-1, :] = 2*fluxz_cen[nz-2, :] - fluxz_cen[nz-3, :]\n",
      "# anti-diffusive flux\n",
      "adfx = fluxx_cen - fluxx_up                     # conc*velocity\n",
      "adfz = fluxz_cen - fluxz_up\n"
     ],
     "language": "python",
     "metadata": {},
     "outputs": [
      {
       "output_type": "stream",
       "stream": "stdout",
       "text": [
        "1000 loops, best of 3: 240 \u00b5s per loop\n"
       ]
      }
     ],
     "prompt_number": 148
    },
    {
     "cell_type": "code",
     "collapsed": false,
     "input": [
      "%%timeit\n",
      "# max and min concentrations in region\n",
      "conc_up = np.empty_like(conc.a)\n",
      "xdo = np.empty_like(conc.a)\n",
      "conc_do = np.empty_like(conc.a)\n",
      "zdo = np.empty_like(conc.a)\n",
      "# max/min in middle domain\n",
      "for j in range(1, nx - 1):\n",
      "                for i in range(1, nz - 1):\n",
      "                        conc_up[i, j] = max( np.max(conc.a[i-1:i+2, j-1:j+2]), np.max(tau_up[i-1:i+2, j-1:j+2]) ) \n",
      "                        conc_do[i, j] = min( np.min(conc.a[i-1:i+2, j-1:j+2]), np.min(tau_up[i-1:i+2, j-1:j+2]) )\n"
     ],
     "language": "python",
     "metadata": {},
     "outputs": [
      {
       "output_type": "stream",
       "stream": "stdout",
       "text": [
        "10 loops, best of 3: 23.2 ms per loop\n"
       ]
      }
     ],
     "prompt_number": 134
    },
    {
     "cell_type": "code",
     "collapsed": false,
     "input": [
      "%%timeit\n",
      "# max and min concentrations in region\n",
      "conc_up = np.empty_like(conc.a)\n",
      "xdo = np.empty_like(conc.a)\n",
      "conc_do = np.empty_like(conc.a)\n",
      "zdo = np.empty_like(conc.a)\n",
      "# max/min in middle domain\n",
      "j = 1\n",
      "i = 1\n",
      "while j <=nx - 1:\n",
      "    while i <= nz - 1:\n",
      "        conc_up[i, j] = max( np.max(conc.a[i-1:i+2, j-1:j+2]), np.max(tau_up[i-1:i+2, j-1:j+2]) ) \n",
      "        conc_do[i, j] = min( np.min(conc.a[i-1:i+2, j-1:j+2]), np.min(tau_up[i-1:i+2, j-1:j+2]) )\n",
      "        i += 1\n",
      "    j += 1\n",
      "# 28 times faster than previous cell"
     ],
     "language": "python",
     "metadata": {},
     "outputs": [
      {
       "output_type": "stream",
       "stream": "stdout",
       "text": [
        "1000 loops, best of 3: 835 \u00b5s per loop\n"
       ]
      }
     ],
     "prompt_number": 135
    },
    {
     "cell_type": "code",
     "collapsed": false,
     "input": [
      "%%timeit\n",
      "# max/min on x-bounds\n",
      "for i in range(1, nz - 1):\n",
      "        conc_up[i, 0] = max( np.max(conc.a[i-1:i+2, 0:2]), np.max(tau_up[i-1:i+2, 0:2]))\n",
      "        conc_up[i, nx-1] = max( np.max(conc.a[i-1:i+2, nx-2:nx]), np.max(tau_up[i-1:i+2, nx-2:nx]))\n",
      "        conc_do[i, 0] = min( np.min(conc.a[i-1:i+2, 0:2]), np.min(tau_up[i-1:i+2, 0:2]))\n",
      "        conc_do[i, nx-1] = min( np.min(conc.a[i-1:i+2, nx-2:nx]), np.min(tau_up[i-1:i+2, nx-2:nx]))\n",
      "\n",
      "for j in range(1, nx - 1):\n",
      "        conc_up[0, j] = max( np.max(conc.a[0:2, j-1:j+2]), np.max(tau_up[0:2, j-1:j+2]))\n",
      "        conc_up[nz-1, j] = max( np.max(conc.a[nz-2:nz, j-1:j+2]), np.max(tau_up[nz-2:nz, j-1:j+2]))\n",
      "        conc_do[0, j] = min( np.min(conc.a[0:2, j-1:j+2]), np.min(tau_up[0:2, j-1:j+2]))\n",
      "        conc_do[nz-1, j] = min( np.min(conc.a[nz-2:nz, j-1:j+2]), np.min(tau_up[nz-2:nz, j-1:j+2]))"
     ],
     "language": "python",
     "metadata": {},
     "outputs": [
      {
       "output_type": "stream",
       "stream": "stdout",
       "text": [
        "100 loops, best of 3: 4.1 ms per loop\n"
       ]
      }
     ],
     "prompt_number": 150
    },
    {
     "cell_type": "code",
     "collapsed": false,
     "input": [
      "%%timeit\n",
      "# max/min on x-bounds\n",
      "i = 1\n",
      "j = 1\n",
      "k = nx-1\n",
      "while i < nz - 1:\n",
      "    conc_up[i, 0] = max( np.max(conc.a[i-1:i+2, j-1:j+1]), np.max(tau_up[i-1:i+2, j-1:j+1]))\n",
      "    conc_do[i, 0] = min( np.min(conc.a[i-1:i+2, j-1:j+1]), np.min(tau_up[i-1:i+2, j-1:j+1]))\n",
      "    conc_do[i, k] = min( np.min(conc.a[i-1:i+2, k-1:k+1]), np.min(tau_up[i-1:i+2, k-1:k+1]))\n",
      "    conc_up[i, k] = max( np.max(conc.a[i-1:i+2, k-1:k+1]), np.max(tau_up[i-1:i+2, k-1:k+1]))\n",
      "    i +=1\n",
      "    \n",
      "j = 1\n",
      "i = 1\n",
      "k = nz-1\n",
      "while j < nx - 1:\n",
      "    conc_up[0, j] = max( np.max(conc.a[i-1:i+2, j-1:j+2]), np.max(tau_up[i-1:i+2, j-1:j+2]))\n",
      "    conc_up[k, j] = max( np.max(conc.a[k-1:k+1, j-1:j+2]), np.max(tau_up[k-1:k+1, j-1:j+2]))\n",
      "    conc_do[0, j] = min( np.min(conc.a[i-1:i+2, j-1:j+2]), np.min(tau_up[i-1:i+2, j-1:j+2]))\n",
      "    conc_do[k, j] = min( np.min(conc.a[k-1:k+1, j-1:j+2]), np.min(tau_up[k-1:k+1, j-1:j+2]))\n",
      "    j+=1"
     ],
     "language": "python",
     "metadata": {},
     "outputs": [
      {
       "output_type": "stream",
       "stream": "stdout",
       "text": [
        "100 loops, best of 3: 4.1 ms per loop\n"
       ]
      }
     ],
     "prompt_number": 149
    },
    {
     "cell_type": "code",
     "collapsed": false,
     "input": [
      "%%timeit\n",
      "conc_up[0, 0] = max( np.max(conc.a[0:2, 0:2]), np.max(tau_up[0:2, 0:2]))\n",
      "conc_up[0, nx-1] = max( np.max(conc.a[0:2, nx-2:nx]), np.max(tau_up[0:2, nx-2:nx]))\n",
      "conc_up[nz-1, 0] = max( np.max(conc.a[nz-2:nz, 0:2]), np.max(tau_up[nz-2:nz, 0:2]))\n",
      "conc_up[nz-1, nx-1] = max( np.max(conc.a[nz-2:nz, nx-2:nx]), np.max(tau_up[nz-2:nz, nx-2:nx]))\n",
      "\n",
      "conc_do[0, 0] = min( np.min(conc.a[0:2, 0:2]), np.min(tau_up[0:2, 0:2]))\n",
      "conc_do[0, nx-1] = min( np.min(conc.a[0:2, nx-2:nx]), np.min(tau_up[0:2, nx-2:nx]))\n",
      "conc_do[nz-1, 0] = min( np.min(conc.a[nz-2:nz, 0:2]), np.min(tau_up[nz-2:nz, 0:2]))\n",
      "conc_do[nz-1, nx-1] = min( np.min(conc.a[nz-2:nz, nx-2:nx]), np.min(tau_up[nz-2:nz, nx-2:nx]))"
     ],
     "language": "python",
     "metadata": {},
     "outputs": [
      {
       "output_type": "stream",
       "stream": "stdout",
       "text": [
        "10000 loops, best of 3: 165 \u00b5s per loop\n"
       ]
      }
     ],
     "prompt_number": 103
    },
    {
     "cell_type": "code",
     "collapsed": false,
     "input": [
      "%%timeit\n",
      "# +/- adfx\n",
      "xpos = np.empty_like(conc.a)\n",
      "xneg = np.empty_like(conc.a) \n",
      "nfluxx = np.sign(adfx)*0.5*(np.sign(adfx) - 1)                                          # dimensionless\n",
      "pfluxx = np.sign(adfx)*0.5*(np.sign(adfx) + 1)\n",
      "xpos[:, 1:nx] = pfluxx[:, 0:nx-1] * adfx[:, 0:nx-1] - nfluxx[:, 1:] * adfx[:, 1:]   # conc*velocity\n",
      "xpos[:, 0] = - nfluxx[:, 0] * adfx[:, 0]\n",
      "xneg[:, 1:] = pfluxx[:, 1:] * adfx[:, 1:] - nfluxx[:, 0:nx-1] * adfx[:, 0:nx-1]\n",
      "xneg[:, 0] = pfluxx[:, 0] * adfx[:, 0] \n",
      "# +/- adfz\n",
      "zpos = np.empty_like(conc.a) \n",
      "zneg = np.empty_like(conc.a)\n",
      "nfluxz = np.sign(adfz)*0.5*(np.sign(adfz) - 1)\n",
      "pfluxz = np.sign(adfz)*0.5*(np.sign(adfz) + 1)\n",
      "zpos[1:, :] = pfluxz[0:nz-1, :] * adfz[0:nz-1, :] - nfluxz[1:, :] * adfz[1:, :]   # conc*velocity\n",
      "zpos[0, :] = - nfluxz[0, :] * adfz[0, :]\n",
      "zneg[1:, :] = pfluxz[1:, :] * adfz[1:, :] - nfluxz[0:nz-1, :] * adfz[0:nz-1, :]\n",
      "zneg[0, :] = pfluxz[0, :] * adfz[0, :]\n",
      "# +/- adf\n",
      "fpos = xpos/conc.dx + zpos/conc.dz                                                      # units: concentration/time\n",
      "fneg = xneg/conc.dx + zneg/conc.dz\n",
      "#improved by 15 ms"
     ],
     "language": "python",
     "metadata": {},
     "outputs": [
      {
       "output_type": "stream",
       "stream": "stdout",
       "text": [
        "1000 loops, best of 3: 217 \u00b5s per loop\n"
       ]
      }
     ],
     "prompt_number": 98
    },
    {
     "cell_type": "code",
     "collapsed": false,
     "input": [
      "%%timeit\n",
      "# non dimensional Zalesak parameter \n",
      "vsmall = 1e-12\n",
      "# = (max_conc - upstream_conc) / influx\n",
      "fpos_i = fpos*dt + vsmall\n",
      "betaup = (conc_up - tau_up) * fpos_i\n",
      "# = (upstream_conc - min_conc) / outflux\n",
      "fneg_i = fneg*dt + vsmall\n",
      "betado = (tau_up - conc_do) * fneg_i"
     ],
     "language": "python",
     "metadata": {},
     "outputs": [
      {
       "output_type": "stream",
       "stream": "stdout",
       "text": [
        "100000 loops, best of 3: 19 \u00b5s per loop\n"
       ]
      }
     ],
     "prompt_number": 99
    },
    {
     "cell_type": "code",
     "collapsed": false,
     "input": [
      "%%timeit\n",
      "# flux limiters\n",
      "zaux = np.zeros((nz,nx))\n",
      "zaux[:,0:nx-1] = np.minimum(np.ones(nx-1), np.minimum(betado[:,:nx-1], betaup[:,1:]))\n",
      "zbux = np.zeros((nz,nx))\n",
      "zbux[:,0:nx-1] = np.minimum(np.ones(nx-1), np.minimum(betaup[:,:nx-1], betado[:,1:]))\n",
      "zcux = (0.5 + 0.5*np.sign(adfx))\n",
      "zauz = np.zeros((nz,nx))\n",
      "zauz[0:nz-1,:] = np.minimum(np.ones((nz-1, nx)),np.minimum(betado[0:nz-1,:], betaup[1:,:]))\n",
      "zbuz = np.zeros((nz,nx))\n",
      "zbuz[0:nz-1,:] = np.minimum(np.ones((nz-1, nx)),np.minimum(betaup[0:nz-1,:], betado[1:,:]))\n",
      "zcuz = (0.5 + 0.5*np.sign(adfz))"
     ],
     "language": "python",
     "metadata": {},
     "outputs": [
      {
       "output_type": "stream",
       "stream": "stdout",
       "text": [
        "10000 loops, best of 3: 129 \u00b5s per loop\n"
       ]
      }
     ],
     "prompt_number": 75
    },
    {
     "cell_type": "code",
     "collapsed": false,
     "input": [
      "%%timeit\n",
      "# calculate TVD flux in x and z\n",
      "aaz = adfz * (zcuz * zauz + (1-zcuz)*zbuz)                                                   # C m/s on flux points\n",
      "aax = adfx * (zcux * zaux + (1-zcux)*zbux)\n",
      "\n",
      "# final sol.\n",
      "adv = np.zeros((nz, nx))\n",
      "adv[1:nz, 1:nx] = dtau_up_dt[1:nz, 1:nx] +  (aax[1:nz, 0:nx-1] - aax[1:nz, 1:nx]) * conc.dx_i + (aaz[0:nz-1, 1:nx] - aaz[1:nz, 1:nx]) * conc.dz_i\n",
      "\n",
      "\n"
     ],
     "language": "python",
     "metadata": {},
     "outputs": [
      {
       "output_type": "stream",
       "stream": "stdout",
       "text": [
        "10000 loops, best of 3: 68.1 \u00b5s per loop\n"
       ]
      }
     ],
     "prompt_number": 74
    },
    {
     "cell_type": "markdown",
     "metadata": {},
     "source": [
      "All cells are measured in micro seconds except for the cell which calculates the max/min value in region."
     ]
    },
    {
     "cell_type": "code",
     "collapsed": false,
     "input": [],
     "language": "python",
     "metadata": {},
     "outputs": []
    }
   ],
   "metadata": {}
  }
 ]
}