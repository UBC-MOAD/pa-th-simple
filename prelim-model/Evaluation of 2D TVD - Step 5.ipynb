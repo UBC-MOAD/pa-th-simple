{
 "metadata": {
  "name": "",
  "signature": "sha256:a2d56acbb663b3918e16b680c140da9f4f0d6deccbfc8fe089a617ae932e947d"
 },
 "nbformat": 3,
 "nbformat_minor": 0,
 "worksheets": [
  {
   "cells": [
    {
     "cell_type": "markdown",
     "metadata": {},
     "source": [
      "Number 5 in a series of notebooks to carefully improve TVD code."
     ]
    },
    {
     "cell_type": "code",
     "collapsed": false,
     "input": [
      "from __future__ import division\n",
      "import numpy as np\n",
      "import pylab as plb\n",
      "import math\n",
      "import copy\n",
      "import matplotlib.pyplot as plt\n",
      "from math import pi\n",
      "import ThPa2D\n",
      "import flow\n",
      "import plot\n",
      "import profile_plots as pp\n",
      "%matplotlib inline"
     ],
     "language": "python",
     "metadata": {},
     "outputs": [],
     "prompt_number": 1
    },
    {
     "cell_type": "code",
     "collapsed": false,
     "input": [
      "# setup function adflow for Th \n",
      "reload(ThPa2D)\n",
      "reload(plot)\n",
      "reload(flow)\n",
      "tmax = (0, 1, 2, 3, 5, 10, 20, 60, 100)\n",
      "t = tmax[0]\n",
      "T = tmax[1]\n",
      "V = 0.02/1000*365.*86400.\n",
      "xmin = 0\n",
      "xmax = 1e6\n",
      "zmin = 0\n",
      "zmax = 5e3\n",
      "nz = 20\n",
      "nx = 32\n",
      "ng = 1\n",
      "g = ThPa2D.Fgrid(nx, nz, ng)\n",
      "h = ThPa2D.Fgrid(nx, nz, ng)\n",
      "# chemistry\n",
      "k_ad, k_de, Q = ThPa2D.k_sorp('Pa', zmin, zmax, nx, nz)\n",
      "# velocity\n",
      "u = flow.twocell_cen(xmin, xmax, zmin, zmax, nx, nz, V)\n",
      "# make profile ones to get non-zero advection terms\n",
      "g.a = np.ones((nz, nx))\n",
      "h.a = np.ones((nz, nx))\n",
      "conc = g"
     ],
     "language": "python",
     "metadata": {},
     "outputs": [],
     "prompt_number": 2
    },
    {
     "cell_type": "code",
     "collapsed": false,
     "input": [
      "# set up parameters defined in adflow\n",
      "S = 500  \n",
      "gS = (g.zmax - g.zmin)/S\n",
      "t *= gS\n",
      "T *= gS    \n",
      "# extract the velocities\n",
      "uz = u[0, :, :]\n",
      "ux = u[1, :, :]\n",
      "# upstream factors\n",
      "sign_uz_S = np.sign(uz[:-1, :] + uz[1:, :] + S)\n",
      "sign_uz = np.sign(uz[:-1, :] + uz[1:, :])\n",
      "sign_ux = np.sign(ux[:, :-1] + ux[:, 1:])\n",
      "# define upstream for particulate phase (contains sinking vel.)\n",
      "p_upz_p = sign_uz_S * (sign_uz_S - 1)/2\n",
      "n_upz_p = sign_uz_S * (sign_uz_S + 1)/2\n",
      "# define upstream for dissolved phase\n",
      "p_upz_d = sign_uz * (sign_uz - 1)/2\n",
      "n_upz_d = sign_uz * (sign_uz + 1)/2\n",
      "# define upstream in x\n",
      "p_upx = sign_ux * (sign_ux - 1)/2\n",
      "n_upx = sign_ux * (sign_ux + 1)/2\n",
      "# decide whether to test particulate or dissolved phase\n",
      "conc = h\n",
      "p_upz = p_upz_p\n",
      "n_upz = n_upz_p\n",
      "sinkrate = S\n",
      "# TVD code - check dissolved calculation\n",
      "# grid\n",
      "# set conc.a = tau_up to simulate next time step\n",
      "#conc.a = copy.copy(tau_up)\n",
      "nz = conc.nz\n",
      "nx = conc.nx\n",
      "dt = 0.001\n",
      "# extract velocity\n",
      "uz = u[0,:,:]\n",
      "ux = u[1,:,:]\n"
     ],
     "language": "python",
     "metadata": {},
     "outputs": [],
     "prompt_number": 3
    },
    {
     "cell_type": "code",
     "collapsed": false,
     "input": [
      "#%%timeit\n",
      "# upstream flux: C m/s\n",
      "fluxx_up = np.empty_like(conc.a)       \n",
      "fluxz_up = np.empty_like(conc.a)\n",
      "# define entries 0:nx-2 inclusive using n_upz etc.\n",
      "fluxx_up[:, 0:nx-1] = ux[:, 0:nx-1]*conc.a[:, 0:nx-1] * n_upx[:, 0:nx-1] + ux[:, 1:nx]*conc.a[:, 1:nx] * p_upx[:, 0:nx-1]     # C m/s\n",
      "fluxz_up[0:nz-1, :] = (sinkrate + uz[0:nz-1, :])*conc.a[0:nz-1, :] * n_upz[0:nz-1, :] + (sinkrate + uz[1:nz, :])*conc.a[1:nz, :] * p_upz[0:nz-1, :]    # C m/s\n",
      "# simlulate settling in the bottom boundary (should be >0)\n",
      "fluxz_up[nz-1, :] = 2*fluxz_up[nz-2, :] - fluxz_up[nz-3, :]\n",
      "\n",
      "# d(conc)/dt according to upstream scheme (on the grid points)\n",
      "dtau_up_dt = np.empty_like(conc.a)\n",
      "dtau_up_dt[1:nz, 1:nx] = (fluxx_up[1:nz, 0:nx-1] - fluxx_up[1:nz, 1:nx]) * conc.dx_i + (fluxz_up[0:nz-1, 1:nx] - fluxz_up[1:nz, 1:nx])  * conc.dz_i \n",
      "dtau_up_dt[0, 1:nx] = (fluxx_up[0, 0:nx-1] - fluxx_up[0, 1:nx]) * conc.dx_i - fluxz_up[0, 1:nx]  * conc.dz_i\n",
      "dtau_up_dt[1:nz, 0] = -fluxx_up[1:nz, 0] * conc.dx_i + (fluxz_up[0:nz-1, 0] - fluxz_up[1:nz, 0])  * conc.dz_i\n",
      "dtau_up_dt[0, 0] = - fluxx_up[0, 0] * conc.dx_i - fluxz_up[0, 0]  * conc.dz_i\n",
      "# new concentration based on upstream scheme\n",
      "tau_up = conc.a + dtau_up_dt * dt\n",
      "\n",
      "# centred flux\n",
      "fluxx_cen = np.empty_like(conc.a)        \n",
      "fluxz_cen = np.zeros((nz, nx))\n",
      "fluxx_cen[:, 0:nx-1] = 0.5 * ( conc.a[:, 0:nx-1]*ux[:, 0:nx-1] + conc.a[:, 1:nx]*ux[:, 1:nx] ) \n",
      "fluxz_cen[0:nz-1, :] = 0.5 * ( conc.a[0:nz-1, :]*(sinkrate + uz[0:nz-1, :]) + conc.a[1:nz, :]*(sinkrate + uz[1:nz, :] ))\n",
      "# flux at bottom boundary\n",
      "fluxz_cen[nz-1, :] = 2*fluxz_cen[nz-2, :] - fluxz_cen[nz-3, :]\n",
      "# anti-diffusive flux\n",
      "adfx = fluxx_cen - fluxx_up                     # conc*velocity\n",
      "adfz = fluxz_cen - fluxz_up\n"
     ],
     "language": "python",
     "metadata": {},
     "outputs": [],
     "prompt_number": 4
    },
    {
     "cell_type": "code",
     "collapsed": false,
     "input": [
      "#%%timeit\n",
      "# max and min concentrations in region\n",
      "conc_up = np.empty_like(conc.a)\n",
      "xdo = np.empty_like(conc.a)\n",
      "conc_do = np.empty_like(conc.a)\n",
      "zdo = np.empty_like(conc.a)\n",
      "# max/min in middle domain\n",
      "for j in range(1, nx - 1):\n",
      "                for i in range(1, nz - 1):\n",
      "                        conc_up[i, j] = max( np.max(conc.a[i-1:i+2, j-1:j+2]), np.max(tau_up[i-1:i+2, j-1:j+2]) ) \n",
      "                        conc_do[i, j] = min( np.min(conc.a[i-1:i+2, j-1:j+2]), np.min(tau_up[i-1:i+2, j-1:j+2]) )\n"
     ],
     "language": "python",
     "metadata": {},
     "outputs": [],
     "prompt_number": 5
    },
    {
     "cell_type": "code",
     "collapsed": false,
     "input": [
      "%%timeit\n",
      "# max and min concentrations in region\n",
      "conc_up = np.empty_like(conc.a)\n",
      "xdo = np.empty_like(conc.a)\n",
      "conc_do = np.empty_like(conc.a)\n",
      "zdo = np.empty_like(conc.a)\n",
      "# max/min in middle domain\n",
      "j = 1\n",
      "i = 1\n",
      "while j < nx - 1:\n",
      "    while i < nz - 1:\n",
      "        conc_up[i, j] = max( np.max(conc.a[i-1:i+2, j-1:j+2]), np.max(tau_up[i-1:i+2, j-1:j+2]) ) \n",
      "        conc_do[i, j] = min( np.min(conc.a[i-1:i+2, j-1:j+2]), np.min(tau_up[i-1:i+2, j-1:j+2]) )\n",
      "        i += 1\n",
      "    j += 1\n",
      "# 28 times faster than previous cell\n",
      "# while loops are only faster than for loops in nested sequences"
     ],
     "language": "python",
     "metadata": {},
     "outputs": [
      {
       "output_type": "stream",
       "stream": "stdout",
       "text": [
        "1000 loops, best of 3: 812 \u00b5s per loop\n"
       ]
      }
     ],
     "prompt_number": 49
    },
    {
     "cell_type": "code",
     "collapsed": false,
     "input": [
      "%%timeit\n",
      "# max/min on x-bounds\n",
      "for i in range(1, nz - 1):\n",
      "        conc_up[i, 0] = max( np.max(conc.a[i-1:i+2, 0:2]), np.max(tau_up[i-1:i+2, 0:2]))\n",
      "        conc_up[i, nx-1] = max( np.max(conc.a[i-1:i+2, nx-2:nx]), np.max(tau_up[i-1:i+2, nx-2:nx]))\n",
      "        conc_do[i, 0] = min( np.min(conc.a[i-1:i+2, 0:2]), np.min(tau_up[i-1:i+2, 0:2]))\n",
      "        conc_do[i, nx-1] = min( np.min(conc.a[i-1:i+2, nx-2:nx]), np.min(tau_up[i-1:i+2, nx-2:nx]))\n",
      "\n",
      "for j in range(1, nx - 1):\n",
      "        conc_up[0, j] = max( np.max(conc.a[0:2, j-1:j+2]), np.max(tau_up[0:2, j-1:j+2]))\n",
      "        conc_up[nz-1, j] = max( np.max(conc.a[nz-2:nz, j-1:j+2]), np.max(tau_up[nz-2:nz, j-1:j+2]))\n",
      "        conc_do[0, j] = min( np.min(conc.a[0:2, j-1:j+2]), np.min(tau_up[0:2, j-1:j+2]))\n",
      "        conc_do[nz-1, j] = min( np.min(conc.a[nz-2:nz, j-1:j+2]), np.min(tau_up[nz-2:nz, j-1:j+2]))"
     ],
     "language": "python",
     "metadata": {},
     "outputs": [],
     "prompt_number": 43
    },
    {
     "cell_type": "code",
     "collapsed": false,
     "input": [
      "%%timeit\n",
      "# max/min on bounds\n",
      "i = 1\n",
      "while i < nz - 1:\n",
      "    conc_up[i, 0] = max( np.max(conc.a[i-1:i+2, 0:2]), np.max(tau_up[i-1:i+2, 0:2]))\n",
      "    conc_do[i, 0] = min( np.min(conc.a[i-1:i+2, 0:2]), np.min(tau_up[i-1:i+2, 0:2]))\n",
      "    conc_do[i, nx-1] = min( np.min(conc.a[i-1:i+2, nx-2:nx]), np.min(tau_up[i-1:i+2, nx-2:nx]))\n",
      "    conc_up[i, nx-1] = max( np.max(conc.a[i-1:i+2, nx-2:nx]), np.max(tau_up[i-1:i+2, nx-2:nx]))\n",
      "    i +=1 \n",
      "j = 1\n",
      "while j < nx - 1:\n",
      "    conc_up[nz-1, j] = max( np.max(conc.a[nz-2:nz, j-1:j+2]), np.max(tau_up[nz-2:nz, j-1:j+2]))\n",
      "    conc_do[nz-1, j] = min( np.min(conc.a[nz-2:nz, j-1:j+2]), np.min(tau_up[nz-2:nz, j-1:j+2]))\n",
      "    conc_do[0, j] = min( np.min(conc.a[0:2, j-1:j+2]), np.min(tau_up[0:2, j-1:j+2]))\n",
      "    conc_up[0, j] = max( np.max(conc.a[0:2, j-1:j+2]), np.max(tau_up[0:2, j-1:j+2]))\n",
      "    j+=1"
     ],
     "language": "python",
     "metadata": {},
     "outputs": [
      {
       "output_type": "stream",
       "stream": "stdout",
       "text": [
        "100 loops, best of 3: 4.15 ms per loop\n"
       ]
      }
     ],
     "prompt_number": 70
    },
    {
     "cell_type": "code",
     "collapsed": false,
     "input": [
      "%%timeit\n",
      "# try rewriting the first line in previous cell using maximum function:\n",
      "\n",
      "conc_up_test = np.empty_like(conc.a)\n",
      "conc_up_test[1:nz-1, 0] = np.maximum( np.maximum(conc.a[0:nz-2, 0],conc.a[1:nz-1, 0],conc.a[2:nz, 0]), np.maximum(tau_up[0:nz-2, 0],tau_up[1:nz-1, 0],tau_up[2:nz, 0]))\n",
      "conc_up_test[1:nz-1, 1] = np.maximum( np.maximum(conc.a[0:nz-2, 1],conc.a[1:nz-1, 1],conc.a[2:nz, 1]), np.maximum(tau_up[0:nz-2, 1],tau_up[1:nz-1, 1],tau_up[2:nz, 1]))\n",
      "conc_up_test[1:nz-1, 0] = np.maximum( conc_up_test[1:nz-1, 0], conc_up_test[1:nz-1, 1])\n",
      "# much faster!\n"
     ],
     "language": "python",
     "metadata": {},
     "outputs": [
      {
       "output_type": "stream",
       "stream": "stdout",
       "text": [
        "10000 loops, best of 3: 38.3 \u00b5s per loop\n"
       ]
      }
     ],
     "prompt_number": 71
    },
    {
     "cell_type": "code",
     "collapsed": false,
     "input": [
      "# check it works the same way as the loop\n",
      "print(conc_up[1:nz-1, 0]) \n",
      "print(conc_up_test[1:nz-1, 0])"
     ],
     "language": "python",
     "metadata": {},
     "outputs": [
      {
       "output_type": "stream",
       "stream": "stdout",
       "text": [
        "[ 1.  1.  1.  1.  1.  1.  1.  1.  1.  1.  1.  1.  1.  1.  1.  1.  1.  1.]\n",
        "[ 1.  1.  1.  1.  1.  1.  1.  1.  1.  1.  1.  1.  1.  1.  1.  1.  1.  1.]\n"
       ]
      }
     ],
     "prompt_number": 44
    },
    {
     "cell_type": "markdown",
     "metadata": {},
     "source": [
      "Same result! good."
     ]
    },
    {
     "cell_type": "code",
     "collapsed": false,
     "input": [
      "print(conc.a[:, 0])\n",
      "print(conc.a[:, 1])\n",
      "print(conc.a[:, 2])\n",
      "print(tau_up[:, 0])\n",
      "print(tau_up[:, 1])\n",
      "print(tau_up[:, 2])"
     ],
     "language": "python",
     "metadata": {},
     "outputs": [
      {
       "output_type": "stream",
       "stream": "stdout",
       "text": [
        "[ 1.  1.  1.  1.  1.  1.  1.  1.  1.  1.  1.  1.  1.  1.  1.  1.  1.  1.\n",
        "  1.  1.]\n",
        "[ 1.  1.  1.  1.  1.  1.  1.  1.  1.  1.  1.  1.  1.  1.  1.  1.  1.  1.\n",
        "  1.  1.]\n",
        "[ 1.  1.  1.  1.  1.  1.  1.  1.  1.  1.  1.  1.  1.  1.  1.  1.  1.  1.\n",
        "  1.  1.]\n",
        "[ 0.9981  1.      1.      1.      1.      1.      1.      1.      1.      1.\n",
        "  1.      1.      1.      1.      1.      1.      1.      1.      1.      1.    ]\n",
        "[ 0.9981  1.      1.      1.      1.      1.      1.      1.      1.      1.\n",
        "  1.      1.      1.      1.      1.      1.      1.      1.      1.      1.    ]\n",
        "[ 0.9981      1.          1.          1.          1.00000048  0.99999999\n",
        "  0.99999964  0.99999974  0.99999987  1.00000002  1.00000002  0.99999987\n",
        "  0.99999974  0.99999964  0.99999999  1.00000048  1.          1.          0.9981\n",
        "  0.9981    ]\n"
       ]
      }
     ],
     "prompt_number": 45
    },
    {
     "cell_type": "markdown",
     "metadata": {},
     "source": [
      "Write full code for computing max value on the bounds using maximum function:"
     ]
    },
    {
     "cell_type": "code",
     "collapsed": false,
     "input": [
      "%%timeit\n",
      "# max&min values on bounds\n",
      "# x = 0\n",
      "conc_up_dummy = np.zeros((nz-2, 2)); conc_do_dummy = np.zeros((nz-2, 2))\n",
      "conc_up_dummy[:, 0] = np.maximum( np.maximum(conc.a[0:nz-2, 0],conc.a[1:nz-1, 0],conc.a[2:nz, 0]), np.maximum(tau_up[0:nz-2, 0],tau_up[1:nz-1, 0],tau_up[2:nz, 0]))\n",
      "conc_up_dummy[:, 1] = np.maximum( np.maximum(conc.a[0:nz-2, 1],conc.a[1:nz-1, 1],conc.a[2:nz, 1]), np.maximum(tau_up[0:nz-2, 1],tau_up[1:nz-1, 1],tau_up[2:nz, 1]))\n",
      "conc_up[1:nz-1, 0] = np.maximum( conc_up_dummy[:, 0], conc_up_dummy[:, 1])\n",
      "conc_do_dummy[:, 0] = np.minimum( np.minimum(conc.a[0:nz-2, 0],conc.a[1:nz-1, 0],conc.a[2:nz, 0]), np.minimum(tau_up[0:nz-2, 0],tau_up[1:nz-1, 0],tau_up[2:nz, 0]))\n",
      "conc_do_dummy[:, 1] = np.minimum( np.minimum(conc.a[0:nz-2, 1],conc.a[1:nz-1, 1],conc.a[2:nz, 1]), np.minimum(tau_up[0:nz-2, 1],tau_up[1:nz-1, 1],tau_up[2:nz, 1]))\n",
      "conc_do[1:nz-1, 0] = np.minimum( conc_up_dummy[:, 0], conc_up_dummy[:, 1])\n",
      "\n",
      "# x = xmax\n",
      "conc_up_dummy[:, 0] = np.maximum( np.maximum(conc.a[0:nz-2, nx-1],conc.a[1:nz-1, nx-1],conc.a[2:nz, nx-1]), np.maximum(tau_up[0:nz-2, nx-1],tau_up[1:nz-1, nx-1],tau_up[2:nz, nx-1]))\n",
      "conc_up_dummy[:, 1] = np.maximum( np.maximum(conc.a[0:nz-2, nx-2],conc.a[1:nz-1, nx-2],conc.a[2:nz, nx-2]), np.maximum(tau_up[0:nz-2, nx-2],tau_up[1:nz-1, nx-2],tau_up[2:nz, nx-2]))\n",
      "conc_up[1:nz-1, nx-1] = np.maximum( conc_up_dummy[:, 0], conc_up_dummy[:, 1])\n",
      "conc_do_dummy[:, 0] = np.minimum( np.minimum(conc.a[0:nz-2, nx-1],conc.a[1:nz-1, nx-1],conc.a[2:nz, nx-1]), np.minimum(tau_up[0:nz-2, nx-1],tau_up[1:nz-1, nx-1],tau_up[2:nz, nx-1]))\n",
      "conc_do_dummy[:, 1] = np.minimum( np.minimum(conc.a[0:nz-2, nx-2],conc.a[1:nz-1, nx-2],conc.a[2:nz, nx-2]), np.minimum(tau_up[0:nz-2, nx-2],tau_up[1:nz-1, nx-2],tau_up[2:nz, nx-2]))\n",
      "conc_do[1:nz-1, nx-1] = np.minimum( conc_up_dummy[:, 0], conc_up_dummy[:, 1])\n",
      "\n",
      "# z = 0\n",
      "conc_up_dummy = np.zeros((2, nx-2)); conc_do_dummy = np.zeros((2, nx-2))\n",
      "conc_up_dummy[0, :] = np.maximum( np.maximum(conc.a[0, 0:nx-2],conc.a[0, 1:nx-1],conc.a[0, 2:nx]), np.maximum(tau_up[0, 0:nx-2],tau_up[0, 1:nx-1],tau_up[0, 2:nx]))\n",
      "conc_up_dummy[1, :] = np.maximum( np.maximum(conc.a[1, 0:nx-2],conc.a[1, 1:nx-1],conc.a[1, 2:nx]), np.maximum(tau_up[1, 0:nx-2],tau_up[1, 1:nx-1],tau_up[1, 2:nx]))\n",
      "conc_up[0, 1:nx-1] = np.maximum( conc_up_dummy[0, :], conc_up_dummy[1, :])\n",
      "conc_do_dummy[0, :] = np.minimum( np.minimum(conc.a[0, 0:nx-2],conc.a[0, 1:nx-1],conc.a[0, 2:nx]), np.minimum(tau_up[0, 0:nx-2],tau_up[0, 1:nx-1],tau_up[0, 2:nx]))\n",
      "conc_do_dummy[1, :] = np.minimum( np.minimum(conc.a[1, 0:nx-2],conc.a[1, 1:nx-1],conc.a[1, 2:nx]), np.minimum(tau_up[1, 0:nx-2],tau_up[1, 1:nx-1],tau_up[1, 2:nx]))\n",
      "conc_do[0, 1:nx-1] = np.minimum( conc_do_dummy[0, :], conc_do_dummy[1, :])\n",
      "\n",
      "# z = zmax\n",
      "conc_up_dummy[0, :] = np.maximum( np.maximum(conc.a[nz-1, 0:nx-2],conc.a[nz-1, 1:nx-1],conc.a[nz-1, 2:nx]), np.maximum(tau_up[nz-1, 0:nx-2],tau_up[nz-1, 1:nx-1],tau_up[nz-1, 2:nx]))\n",
      "conc_up_dummy[1, :] = np.maximum( np.maximum(conc.a[nz-2, 0:nx-2],conc.a[nz-2, 1:nx-1],conc.a[nz-2, 2:nx]), np.maximum(tau_up[nz-2, 0:nx-2],tau_up[nz-2, 1:nx-1],tau_up[nz-2, 2:nx]))\n",
      "conc_up[nz-1, 1:nx-1] = np.maximum( conc_up_dummy[0, :], conc_up_dummy[1, :])\n",
      "conc_do_dummy[0, :] = np.minimum( np.minimum(conc.a[nz-1, 0:nx-2],conc.a[nz-1, 1:nx-1],conc.a[nz-1, 2:nx]), np.minimum(tau_up[nz-1, 0:nx-2],tau_up[nz-1, 1:nx-1],tau_up[nz-1, 2:nx]))\n",
      "conc_do_dummy[1, :] = np.minimum( np.minimum(conc.a[nz-2, 0:nx-2],conc.a[nz-2, 1:nx-1],conc.a[nz-2, 2:nx]), np.minimum(tau_up[nz-2, 0:nx-2],tau_up[nz-2, 1:nx-1],tau_up[nz-2, 2:nx]))\n",
      "conc_do[nz-1, 1:nx-1] = np.minimum( conc_up_dummy[0, :], conc_up_dummy[1, :])\n",
      "\n",
      "# sped up by a factor of 13!\n"
     ],
     "language": "python",
     "metadata": {},
     "outputs": [
      {
       "output_type": "stream",
       "stream": "stdout",
       "text": [
        "1000 loops, best of 3: 311 \u00b5s per loop\n"
       ]
      }
     ],
     "prompt_number": 51
    },
    {
     "cell_type": "code",
     "collapsed": false,
     "input": [
      "%%timeit\n",
      "# max/min on corners\n",
      "conc_up[0, 0] = max( np.max(conc.a[0:2, 0:2]), np.max(tau_up[0:2, 0:2]))\n",
      "conc_up[0, nx-1] = max( np.max(conc.a[0:2, nx-2:nx]), np.max(tau_up[0:2, nx-2:nx]))\n",
      "conc_up[nz-1, 0] = max( np.max(conc.a[nz-2:nz, 0:2]), np.max(tau_up[nz-2:nz, 0:2]))\n",
      "conc_up[nz-1, nx-1] = max( np.max(conc.a[nz-2:nz, nx-2:nx]), np.max(tau_up[nz-2:nz, nx-2:nx]))\n",
      "\n",
      "conc_do[0, 0] = min( np.min(conc.a[0:2, 0:2]), np.min(tau_up[0:2, 0:2]))\n",
      "conc_do[0, nx-1] = min( np.min(conc.a[0:2, nx-2:nx]), np.min(tau_up[0:2, nx-2:nx]))\n",
      "conc_do[nz-1, 0] = min( np.min(conc.a[nz-2:nz, 0:2]), np.min(tau_up[nz-2:nz, 0:2]))\n",
      "conc_do[nz-1, nx-1] = min( np.min(conc.a[nz-2:nz, nx-2:nx]), np.min(tau_up[nz-2:nz, nx-2:nx]))"
     ],
     "language": "python",
     "metadata": {},
     "outputs": [],
     "prompt_number": 74
    },
    {
     "cell_type": "heading",
     "level": 1,
     "metadata": {},
     "source": [
      "Max/min(region) plot"
     ]
    },
    {
     "cell_type": "code",
     "collapsed": false,
     "input": [
      "# max and min concentrations in region\n",
      "conc_up = np.empty_like(conc.a)\n",
      "xdo = np.empty_like(conc.a)\n",
      "conc_do = np.empty_like(conc.a)\n",
      "zdo = np.empty_like(conc.a)\n",
      "# max/min in middle domain\n",
      "j = 1\n",
      "i = 1\n",
      "while j < nx - 1:\n",
      "    while i < nz - 1:\n",
      "        conc_up[i, j] = max( np.max(conc.a[i-1:i+2, j-1:j+2]), np.max(tau_up[i-1:i+2, j-1:j+2]) ) \n",
      "        conc_do[i, j] = min( np.min(conc.a[i-1:i+2, j-1:j+2]), np.min(tau_up[i-1:i+2, j-1:j+2]) )\n",
      "        i += 1\n",
      "    j += 1\n",
      "\n",
      "# max&min values on bounds\n",
      "# x = 0\n",
      "conc_up_dummy = np.zeros((nz-2, 2)); conc_do_dummy = np.zeros((nz-2, 2))\n",
      "conc_up_dummy[:, 0] = np.maximum( np.maximum(conc.a[0:nz-2, 0],conc.a[1:nz-1, 0],conc.a[2:nz, 0]), np.maximum(tau_up[0:nz-2, 0],tau_up[1:nz-1, 0],tau_up[2:nz, 0]))\n",
      "conc_up_dummy[:, 1] = np.maximum( np.maximum(conc.a[0:nz-2, 1],conc.a[1:nz-1, 1],conc.a[2:nz, 1]), np.maximum(tau_up[0:nz-2, 1],tau_up[1:nz-1, 1],tau_up[2:nz, 1]))\n",
      "conc_up[1:nz-1, 0] = np.maximum( conc_up_dummy[:, 0], conc_up_dummy[:, 1])\n",
      "conc_do_dummy[:, 0] = np.minimum( np.minimum(conc.a[0:nz-2, 0],conc.a[1:nz-1, 0],conc.a[2:nz, 0]), np.minimum(tau_up[0:nz-2, 0],tau_up[1:nz-1, 0],tau_up[2:nz, 0]))\n",
      "conc_do_dummy[:, 1] = np.minimum( np.minimum(conc.a[0:nz-2, 1],conc.a[1:nz-1, 1],conc.a[2:nz, 1]), np.minimum(tau_up[0:nz-2, 1],tau_up[1:nz-1, 1],tau_up[2:nz, 1]))\n",
      "conc_do[1:nz-1, 0] = np.minimum( conc_up_dummy[:, 0], conc_up_dummy[:, 1])\n",
      "\n",
      "# x = xmax\n",
      "conc_up_dummy[:, 0] = np.maximum( np.maximum(conc.a[0:nz-2, nx-1],conc.a[1:nz-1, nx-1],conc.a[2:nz, nx-1]), np.maximum(tau_up[0:nz-2, nx-1],tau_up[1:nz-1, nx-1],tau_up[2:nz, nx-1]))\n",
      "conc_up_dummy[:, 1] = np.maximum( np.maximum(conc.a[0:nz-2, nx-2],conc.a[1:nz-1, nx-2],conc.a[2:nz, nx-2]), np.maximum(tau_up[0:nz-2, nx-2],tau_up[1:nz-1, nx-2],tau_up[2:nz, nx-2]))\n",
      "conc_up[1:nz-1, nx-1] = np.maximum( conc_up_dummy[:, 0], conc_up_dummy[:, 1])\n",
      "conc_do_dummy[:, 0] = np.minimum( np.minimum(conc.a[0:nz-2, nx-1],conc.a[1:nz-1, nx-1],conc.a[2:nz, nx-1]), np.minimum(tau_up[0:nz-2, nx-1],tau_up[1:nz-1, nx-1],tau_up[2:nz, nx-1]))\n",
      "conc_do_dummy[:, 1] = np.minimum( np.minimum(conc.a[0:nz-2, nx-2],conc.a[1:nz-1, nx-2],conc.a[2:nz, nx-2]), np.minimum(tau_up[0:nz-2, nx-2],tau_up[1:nz-1, nx-2],tau_up[2:nz, nx-2]))\n",
      "conc_do[1:nz-1, nx-1] = np.minimum( conc_up_dummy[:, 0], conc_up_dummy[:, 1])\n",
      "\n",
      "# z = 0\n",
      "conc_up_dummy = np.zeros((2, nx-2)); conc_do_dummy = np.zeros((2, nx-2))\n",
      "conc_up_dummy[0, :] = np.maximum( np.maximum(conc.a[0, 0:nx-2],conc.a[0, 1:nx-1],conc.a[0, 2:nx]), np.maximum(tau_up[0, 0:nx-2],tau_up[0, 1:nx-1],tau_up[0, 2:nx]))\n",
      "conc_up_dummy[1, :] = np.maximum( np.maximum(conc.a[1, 0:nx-2],conc.a[1, 1:nx-1],conc.a[1, 2:nx]), np.maximum(tau_up[1, 0:nx-2],tau_up[1, 1:nx-1],tau_up[1, 2:nx]))\n",
      "conc_up[0, 1:nx-1] = np.maximum( conc_up_dummy[0, :], conc_up_dummy[1, :])\n",
      "conc_do_dummy[0, :] = np.minimum( np.minimum(conc.a[0, 0:nx-2],conc.a[0, 1:nx-1],conc.a[0, 2:nx]), np.minimum(tau_up[0, 0:nx-2],tau_up[0, 1:nx-1],tau_up[0, 2:nx]))\n",
      "conc_do_dummy[1, :] = np.minimum( np.minimum(conc.a[1, 0:nx-2],conc.a[1, 1:nx-1],conc.a[1, 2:nx]), np.minimum(tau_up[1, 0:nx-2],tau_up[1, 1:nx-1],tau_up[1, 2:nx]))\n",
      "conc_do[0, 1:nx-1] = np.minimum( conc_do_dummy[0, :], conc_do_dummy[1, :])\n",
      "\n",
      "# z = zmax\n",
      "conc_up_dummy[0, :] = np.maximum( np.maximum(conc.a[nz-1, 0:nx-2],conc.a[nz-1, 1:nx-1],conc.a[nz-1, 2:nx]), np.maximum(tau_up[nz-1, 0:nx-2],tau_up[nz-1, 1:nx-1],tau_up[nz-1, 2:nx]))\n",
      "conc_up_dummy[1, :] = np.maximum( np.maximum(conc.a[nz-2, 0:nx-2],conc.a[nz-2, 1:nx-1],conc.a[nz-2, 2:nx]), np.maximum(tau_up[nz-2, 0:nx-2],tau_up[nz-2, 1:nx-1],tau_up[nz-2, 2:nx]))\n",
      "conc_up[nz-1, 1:nx-1] = np.maximum( conc_up_dummy[0, :], conc_up_dummy[1, :])\n",
      "conc_do_dummy[0, :] = np.minimum( np.minimum(conc.a[nz-1, 0:nx-2],conc.a[nz-1, 1:nx-1],conc.a[nz-1, 2:nx]), np.minimum(tau_up[nz-1, 0:nx-2],tau_up[nz-1, 1:nx-1],tau_up[nz-1, 2:nx]))\n",
      "conc_do_dummy[1, :] = np.minimum( np.minimum(conc.a[nz-2, 0:nx-2],conc.a[nz-2, 1:nx-1],conc.a[nz-2, 2:nx]), np.minimum(tau_up[nz-2, 0:nx-2],tau_up[nz-2, 1:nx-1],tau_up[nz-2, 2:nx]))\n",
      "conc_do[nz-1, 1:nx-1] = np.minimum( conc_up_dummy[0, :], conc_up_dummy[1, :])\n",
      "\n",
      "# max/min on corners\n",
      "conc_up[0, 0] = max( np.max(conc.a[0:2, 0:2]), np.max(tau_up[0:2, 0:2]))\n",
      "conc_up[0, nx-1] = max( np.max(conc.a[0:2, nx-2:nx]), np.max(tau_up[0:2, nx-2:nx]))\n",
      "conc_up[nz-1, 0] = max( np.max(conc.a[nz-2:nz, 0:2]), np.max(tau_up[nz-2:nz, 0:2]))\n",
      "conc_up[nz-1, nx-1] = max( np.max(conc.a[nz-2:nz, nx-2:nx]), np.max(tau_up[nz-2:nz, nx-2:nx]))\n",
      "\n",
      "conc_do[0, 0] = min( np.min(conc.a[0:2, 0:2]), np.min(tau_up[0:2, 0:2]))\n",
      "conc_do[0, nx-1] = min( np.min(conc.a[0:2, nx-2:nx]), np.min(tau_up[0:2, nx-2:nx]))\n",
      "conc_do[nz-1, 0] = min( np.min(conc.a[nz-2:nz, 0:2]), np.min(tau_up[nz-2:nz, 0:2]))\n",
      "conc_do[nz-1, nx-1] = min( np.min(conc.a[nz-2:nz, nx-2:nx]), np.min(tau_up[nz-2:nz, nx-2:nx]))\n",
      "print(sum(sum(np.isnan(conc_do))))\n",
      "print(sum(sum(np.isnan(conc_up))))"
     ],
     "language": "python",
     "metadata": {},
     "outputs": [
      {
       "output_type": "stream",
       "stream": "stdout",
       "text": [
        "0\n",
        "0\n"
       ]
      }
     ],
     "prompt_number": 80
    },
    {
     "cell_type": "code",
     "collapsed": false,
     "input": [
      "plt.subplots(1,2,figsize = (20, 5))\n",
      "plt.subplot(121)\n",
      "plt.pcolormesh(conc_up)\n",
      "plt.subplot(122)\n",
      "plt.pcolormesh(conc_do)"
     ],
     "language": "python",
     "metadata": {},
     "outputs": [
      {
       "metadata": {},
       "output_type": "pyout",
       "prompt_number": 81,
       "text": [
        "<matplotlib.collections.QuadMesh at 0x45482d0>"
       ]
      },
      {
       "metadata": {},
       "output_type": "display_data",
       "png": "[encoded data removed]",
       "text": [
        "<matplotlib.figure.Figure at 0x3e92210>"
       ]
      }
     ],
     "prompt_number": 81
    },
    {
     "cell_type": "markdown",
     "metadata": {},
     "source": [
      "Compare with the loop method results:"
     ]
    },
    {
     "cell_type": "code",
     "collapsed": false,
     "input": [
      "# max and min concentrations in region\n",
      "conc_up = np.empty_like(conc.a)\n",
      "xdo = np.empty_like(conc.a)\n",
      "conc_do = np.empty_like(conc.a)\n",
      "zdo = np.empty_like(conc.a)\n",
      "# max/min in middle domain\n",
      "j = 1\n",
      "i = 1\n",
      "while j < nx - 1:\n",
      "    while i < nz - 1:\n",
      "        conc_up[i, j] = max( np.max(conc.a[i-1:i+2, j-1:j+2]), np.max(tau_up[i-1:i+2, j-1:j+2]) ) \n",
      "        conc_do[i, j] = min( np.min(conc.a[i-1:i+2, j-1:j+2]), np.min(tau_up[i-1:i+2, j-1:j+2]) )\n",
      "        i += 1\n",
      "    j += 1\n",
      "\n",
      "# max/min on bounds\n",
      "i = 1\n",
      "while i < nz - 1:\n",
      "    conc_up[i, 0] = max( np.max(conc.a[i-1:i+2, 0:2]), np.max(tau_up[i-1:i+2, 0:2]))\n",
      "    conc_do[i, 0] = min( np.min(conc.a[i-1:i+2, 0:2]), np.min(tau_up[i-1:i+2, 0:2]))\n",
      "    conc_do[i, nx-1] = min( np.min(conc.a[i-1:i+2, nx-2:nx]), np.min(tau_up[i-1:i+2, nx-2:nx]))\n",
      "    conc_up[i, nx-1] = max( np.max(conc.a[i-1:i+2, nx-2:nx]), np.max(tau_up[i-1:i+2, nx-2:nx]))\n",
      "    i +=1 \n",
      "j = 1\n",
      "while j < nx - 1:\n",
      "    conc_up[nz-1, j] = max( np.max(conc.a[nz-2:nz, j-1:j+2]), np.max(tau_up[nz-2:nz, j-1:j+2]))\n",
      "    conc_do[nz-1, j] = min( np.min(conc.a[nz-2:nz, j-1:j+2]), np.min(tau_up[nz-2:nz, j-1:j+2]))\n",
      "    conc_do[0, j] = min( np.min(conc.a[0:2, j-1:j+2]), np.min(tau_up[0:2, j-1:j+2]))\n",
      "    conc_up[0, j] = max( np.max(conc.a[0:2, j-1:j+2]), np.max(tau_up[0:2, j-1:j+2]))\n",
      "    j+=1\n",
      "    \n",
      "# max/min on corners\n",
      "conc_up[0, 0] = max( np.max(conc.a[0:2, 0:2]), np.max(tau_up[0:2, 0:2]))\n",
      "conc_up[0, nx-1] = max( np.max(conc.a[0:2, nx-2:nx]), np.max(tau_up[0:2, nx-2:nx]))\n",
      "conc_up[nz-1, 0] = max( np.max(conc.a[nz-2:nz, 0:2]), np.max(tau_up[nz-2:nz, 0:2]))\n",
      "conc_up[nz-1, nx-1] = max( np.max(conc.a[nz-2:nz, nx-2:nx]), np.max(tau_up[nz-2:nz, nx-2:nx]))\n",
      "\n",
      "conc_do[0, 0] = min( np.min(conc.a[0:2, 0:2]), np.min(tau_up[0:2, 0:2]))\n",
      "conc_do[0, nx-1] = min( np.min(conc.a[0:2, nx-2:nx]), np.min(tau_up[0:2, nx-2:nx]))\n",
      "conc_do[nz-1, 0] = min( np.min(conc.a[nz-2:nz, 0:2]), np.min(tau_up[nz-2:nz, 0:2]))\n",
      "conc_do[nz-1, nx-1] = min( np.min(conc.a[nz-2:nz, nx-2:nx]), np.min(tau_up[nz-2:nz, nx-2:nx]))\n",
      "\n",
      "plt.subplots(1,2,figsize = (20, 5))\n",
      "plt.subplot(121)\n",
      "plt.pcolormesh(conc_up)\n",
      "plt.subplot(122)\n",
      "plt.pcolormesh(conc_do)"
     ],
     "language": "python",
     "metadata": {},
     "outputs": [
      {
       "metadata": {},
       "output_type": "pyout",
       "prompt_number": 82,
       "text": [
        "<matplotlib.collections.QuadMesh at 0x4986c50>"
       ]
      },
      {
       "metadata": {},
       "output_type": "display_data",
       "png": "[encoded data removed]",
       "text": [
        "<matplotlib.figure.Figure at 0x446f250>"
       ]
      }
     ],
     "prompt_number": 82
    },
    {
     "cell_type": "markdown",
     "metadata": {},
     "source": [
      "Same! Good. improved slowest part of code by factor of 15. Should still compare results to eye-picked values from conc.a and tau_up before putting into ThPa2D module."
     ]
    },
    {
     "cell_type": "code",
     "collapsed": false,
     "input": [
      "%%timeit\n",
      "# +/- adfx\n",
      "xpos = np.empty_like(conc.a)\n",
      "xneg = np.empty_like(conc.a) \n",
      "nfluxx = np.sign(adfx)*0.5*(np.sign(adfx) - 1)                                          # dimensionless\n",
      "pfluxx = np.sign(adfx)*0.5*(np.sign(adfx) + 1)\n",
      "xpos[:, 1:nx] = pfluxx[:, 0:nx-1] * adfx[:, 0:nx-1] - nfluxx[:, 1:] * adfx[:, 1:]   # conc*velocity\n",
      "xpos[:, 0] = - nfluxx[:, 0] * adfx[:, 0]\n",
      "xneg[:, 1:] = pfluxx[:, 1:] * adfx[:, 1:] - nfluxx[:, 0:nx-1] * adfx[:, 0:nx-1]\n",
      "xneg[:, 0] = pfluxx[:, 0] * adfx[:, 0] \n",
      "# +/- adfz\n",
      "zpos = np.empty_like(conc.a) \n",
      "zneg = np.empty_like(conc.a)\n",
      "nfluxz = np.sign(adfz)*0.5*(np.sign(adfz) - 1)\n",
      "pfluxz = np.sign(adfz)*0.5*(np.sign(adfz) + 1)\n",
      "zpos[1:, :] = pfluxz[0:nz-1, :] * adfz[0:nz-1, :] - nfluxz[1:, :] * adfz[1:, :]   # conc*velocity\n",
      "zpos[0, :] = - nfluxz[0, :] * adfz[0, :]\n",
      "zneg[1:, :] = pfluxz[1:, :] * adfz[1:, :] - nfluxz[0:nz-1, :] * adfz[0:nz-1, :]\n",
      "zneg[0, :] = pfluxz[0, :] * adfz[0, :]\n",
      "# +/- adf\n",
      "fpos = xpos/conc.dx + zpos/conc.dz                                                      # units: concentration/time\n",
      "fneg = xneg/conc.dx + zneg/conc.dz"
     ],
     "language": "python",
     "metadata": {},
     "outputs": [
      {
       "output_type": "stream",
       "stream": "stdout",
       "text": [
        "1000 loops, best of 3: 230 \u00b5s per loop\n"
       ]
      }
     ],
     "prompt_number": 20
    },
    {
     "cell_type": "code",
     "collapsed": false,
     "input": [
      "%%timeit\n",
      "# non dimensional Zalesak parameter \n",
      "vsmall = 1e-12\n",
      "# = (max_conc - upstream_conc) / influx\n",
      "fpos_i = fpos*dt + vsmall\n",
      "betaup = (conc_up - tau_up) * fpos_i\n",
      "# = (upstream_conc - min_conc) / outflux\n",
      "fneg_i = fneg*dt + vsmall\n",
      "betado = (tau_up - conc_do) * fneg_i"
     ],
     "language": "python",
     "metadata": {},
     "outputs": [
      {
       "output_type": "stream",
       "stream": "stdout",
       "text": [
        "10000 loops, best of 3: 56.5 \u00b5s per loop\n"
       ]
      },
      {
       "output_type": "stream",
       "stream": "stderr",
       "text": [
        "-c:261: RuntimeWarning: overflow encountered in multiply\n"
       ]
      }
     ],
     "prompt_number": 22
    },
    {
     "cell_type": "code",
     "collapsed": false,
     "input": [
      "%%timeit\n",
      "# flux limiters\n",
      "zaux = np.zeros((nz,nx))\n",
      "zaux[:,0:nx-1] = np.minimum(np.ones(nx-1), np.minimum(betado[:,:nx-1], betaup[:,1:]))\n",
      "zbux = np.zeros((nz,nx))\n",
      "zbux[:,0:nx-1] = np.minimum(np.ones(nx-1), np.minimum(betaup[:,:nx-1], betado[:,1:]))\n",
      "zcux = (0.5 + 0.5*np.sign(adfx))\n",
      "zauz = np.zeros((nz,nx))\n",
      "zauz[0:nz-1,:] = np.minimum(np.ones((nz-1, nx)),np.minimum(betado[0:nz-1,:], betaup[1:,:]))\n",
      "zbuz = np.zeros((nz,nx))\n",
      "zbuz[0:nz-1,:] = np.minimum(np.ones((nz-1, nx)),np.minimum(betaup[0:nz-1,:], betado[1:,:]))\n",
      "zcuz = (0.5 + 0.5*np.sign(adfz))"
     ],
     "language": "python",
     "metadata": {},
     "outputs": [
      {
       "output_type": "stream",
       "stream": "stdout",
       "text": [
        "10000 loops, best of 3: 120 \u00b5s per loop\n"
       ]
      }
     ],
     "prompt_number": 24
    },
    {
     "cell_type": "code",
     "collapsed": false,
     "input": [
      "%%timeit\n",
      "# calculate TVD flux in x and z\n",
      "aaz = adfz * (zcuz * zauz + (1-zcuz)*zbuz)                                                   # C m/s on flux points\n",
      "aax = adfx * (zcux * zaux + (1-zcux)*zbux)\n",
      "\n",
      "# final sol.\n",
      "adv = np.zeros((nz, nx))\n",
      "adv[1:nz, 1:nx] = dtau_up_dt[1:nz, 1:nx] +  (aax[1:nz, 0:nx-1] - aax[1:nz, 1:nx]) * conc.dx_i + (aaz[0:nz-1, 1:nx] - aaz[1:nz, 1:nx]) * conc.dz_i\n",
      "\n",
      "\n"
     ],
     "language": "python",
     "metadata": {},
     "outputs": [
      {
       "output_type": "stream",
       "stream": "stdout",
       "text": [
        "10000 loops, best of 3: 67.3 \u00b5s per loop\n"
       ]
      }
     ],
     "prompt_number": 26
    },
    {
     "cell_type": "markdown",
     "metadata": {},
     "source": [
      "All cells are measured in micro seconds except for the cell which calculates the max/min value on **bounds**."
     ]
    },
    {
     "cell_type": "code",
     "collapsed": false,
     "input": [],
     "language": "python",
     "metadata": {},
     "outputs": []
    }
   ],
   "metadata": {}
  }
 ]
}