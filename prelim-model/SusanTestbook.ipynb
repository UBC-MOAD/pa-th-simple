{
 "metadata": {
  "name": "",
  "signature": "sha256:ff69da620fc5c9b8f2c1d9dfe044bf29a2027035e21c8b9b8688268b18ec30fc"
 },
 "nbformat": 3,
 "nbformat_minor": 0,
 "worksheets": [
  {
   "cells": [
    {
     "cell_type": "code",
     "collapsed": false,
     "input": [
      "from __future__ import division\n",
      "import numpy as np\n",
      "import matplotlib.pyplot as plt\n",
      "from math import pi\n",
      "import profile_plots as pp\n",
      "%matplotlib inline"
     ],
     "language": "python",
     "metadata": {},
     "outputs": [],
     "prompt_number": 1
    },
    {
     "cell_type": "code",
     "collapsed": false,
     "input": [
      "def u_simple(xmin, xmax, zmin, zmax, nx, nz, V):\n",
      "    \"\"\" u_simple computes a simple rotational, divergenceless flow field on a specified grid\n",
      "\n",
      "    :arg xmin: minimum x on the grid\n",
      "    :arg xmax: maximum x on the grid\n",
      "    :arg zmin: minimum z on the grid\n",
      "    :arg zmax: maximum z on the grid\n",
      "    :arg nx: number of points in x dimension\n",
      "    :arg nz: number of points in z dimension\t\n",
      "\n",
      "    \"\"\"\n",
      "        # define velocity on square grid, then scale simulate rectangular grid. \n",
      "    a = zmax\n",
      "    b = zmax\n",
      "    x = np.linspace(-a/2, a/2, nx)\n",
      "    hdz = 0.5*b/nz\n",
      "    z = np.linspace(-b/2-hdz, b/2+hdz, nz+1)\n",
      "\n",
      "    [xx, zz] = np.meshgrid(x, z)\n",
      "    rr = np.sqrt(xx**2 + zz**2)\n",
      "\n",
      "    ux = np.zeros([nz+1, nx])\n",
      "    uz = np.zeros([nz+1, nx])\n",
      "    \n",
      "    idx = rr < a/2\n",
      "\n",
      "    ux[idx] = -np.sin(2*pi*rr[idx] / a) / rr[idx] * zz[idx]\n",
      "    uz[idx] = np.sin(2*pi*rr[idx] / a) / rr[idx] * xx[idx]\n",
      "    \n",
      "    # make sure top two and bottom two rows are zero\n",
      "    uz[0:2,:] = 0.\n",
      "    uz[nz-1:nz+1,:] = 0.\n",
      "    \n",
      "    \n",
      "    # scale & store the solution in a matrix, shifting up and down\n",
      "    u = np.zeros([nz, nx, 2])\n",
      "    u[:, :nx/2, 0] = uz[0:nz,:nx/2] / np.max(uz) * V * zmax/xmax\n",
      "    u[:, nx/2:, 0] = uz[1:,nx/2:] / np.max(uz) * V * zmax/xmax\n",
      "    u[:, :nx/2, 1] = ux[0:nz,:nx/2] / np.max(ux) * V \n",
      "    u[:, nx/2:, 1] = ux[1:,nx/2:] / np.max(ux) * V\n",
      "\n",
      "    return u"
     ],
     "language": "python",
     "metadata": {},
     "outputs": [],
     "prompt_number": 113
    },
    {
     "cell_type": "code",
     "collapsed": false,
     "input": [
      "# setup function adflow for Th \n",
      "V = 0.02/1000*365.*86400.\n",
      "xmin = 0\n",
      "xmax = 1e6\n",
      "zmin = 0\n",
      "zmax = 5e3\n",
      "nz = 20\n",
      "nx = 30              \n",
      "\n",
      "# velocity\n",
      "u = u_simple(xmin, xmax, zmin, zmax, nx, nz, V)\n",
      "fig, axs = plt.subplots(1,2,figsize=(10,5))\n",
      "axs[0].pcolormesh(u[:,:,0],vmax=0.5, vmin = -0.5,cmap='bwr')\n",
      "\n",
      "# difference between left and right\n",
      "diff = u[1:,:nx/2,0]+u[:-1,nx:nx/2-1:-1,0]\n",
      "mesh = axs[1].pcolormesh(diff, cmap='bwr')\n",
      "fig.colorbar(mesh)"
     ],
     "language": "python",
     "metadata": {},
     "outputs": [
      {
       "metadata": {},
       "output_type": "pyout",
       "prompt_number": 115,
       "text": [
        "<matplotlib.colorbar.Colorbar instance at 0xb472098>"
       ]
      },
      {
       "metadata": {},
       "output_type": "display_data",
       "png": "[encoded data removed]",
       "text": [
        "<matplotlib.figure.Figure at 0x9abf710>"
       ]
      }
     ],
     "prompt_number": 115
    },
    {
     "cell_type": "code",
     "collapsed": false,
     "input": [
      "from ThPa2D import divtest\n",
      "divtest (u, xmax, xmin, zmax, zmin, nx, nz)"
     ],
     "language": "python",
     "metadata": {},
     "outputs": [
      {
       "metadata": {},
       "output_type": "pyout",
       "prompt_number": 116,
       "text": [
        "<matplotlib.collections.QuadMesh at 0xb57cad0>"
       ]
      },
      {
       "metadata": {},
       "output_type": "display_data",
       "png": "[encoded data removed]",
       "text": [
        "<matplotlib.figure.Figure at 0xabd3210>"
       ]
      }
     ],
     "prompt_number": 116
    },
    {
     "cell_type": "code",
     "collapsed": false,
     "input": [
      "def u_simple_c(u, xmin, xmax, zmin, zmax, nx, nz):\n",
      "        \n",
      "        \"\"\"Correct the analytical solution to conserve mass discretely\n",
      "        \"\"\"\n",
      "        # extract velocity components\n",
      "        uz = u[:, :, 0]\n",
      "        ux = u[:, :, 1]\n",
      "        \n",
      "        # define upstream \n",
      "        p_upz = np.sign(uz[:-1]+uz[1:])*0.5*( np.sign(uz[:-1]+uz[1:]) - 1)\n",
      "        n_upz = np.sign(uz[:-1]+uz[1:])*0.5*( np.sign(uz[:-1]+uz[1:]) + 1)\n",
      "\n",
      "        # set up vectorized correction \n",
      "        dx = (xmax - xmin) / (nx - 1)\n",
      "        dz = (zmax - zmin) / (nz - 1)\n",
      "        ux = ux \n",
      "\n",
      "        # vectorize region where z > 0, ux > 0\n",
      "        i = np.arange(1, nz/2, 1, dtype = int)\n",
      "        j = 1\n",
      "        while j <= nx-2:\n",
      "            # note shift in p_upz and n_upz\n",
      "            ux[i, j] = ux[i, j - 1] + dx/dz* (( uz[i,j] - uz[i + 1, j])*p_upz[i, j] \n",
      "                                               + (uz[i - 1, j] - uz[i,j])*n_upz[i-1, j])\n",
      "            print j,ux[1,j],ux[1,j-1],uz[1,j],uz[2,j],p_upz[2,j],uz[0,j],n_upz[0,j]\n",
      "            j += 1\n",
      "\n",
      "        # vectorize region z < 0, ux < 0\n",
      "        i = np.arange(nz/2, nz - 1, 1, dtype = int)\n",
      "        j = nx - 2\n",
      "        while j >= 1:\n",
      "            \n",
      "            ux[i, j] = ux[i, j + 1] - dx/dz* ((uz[i,j] - uz[i + 1, j]) *p_upz[i, j] \n",
      "                                              + (uz[i - 1, j] - uz[i,j])*n_upz[i-1, j])\n",
      "            j -= 1\n",
      "\n",
      "        # store result\n",
      "        u[:, :, 1] = ux\n",
      "\n",
      "        return u"
     ],
     "language": "python",
     "metadata": {},
     "outputs": [],
     "prompt_number": 132
    },
    {
     "cell_type": "code",
     "collapsed": false,
     "input": [
      "unew = u_simple_c(u, xmin, xmax, zmin, zmax, nx, nz)\n",
      "divtest (unew, xmin, xmax, zmin, zmax, nx, nz)"
     ],
     "language": "python",
     "metadata": {},
     "outputs": [
      {
       "output_type": "stream",
       "stream": "stdout",
       "text": [
        "1 0.0 0.0 0.0 0.0 -0.0 0.0 0.0\n",
        "2 0.0 0.0 0.0 0.0 -0.0 0.0 0.0\n",
        "3 0.0 0.0 0.0 0.0 -0.0 0.0 0.0\n",
        "4 0.0 0.0 0.0 0.0 -0.0 0.0 0.0\n",
        "5 0.0 0.0 0.0 0.0 1.0 0.0 0.0\n",
        "6 0.0 0.0 0.0 0.0 1.0 0.0 0.0\n",
        "7 9.21507626714 0.0 0.0 -0.0703255820387 1.0 0.0 0.0\n",
        "8 38.4064924085 9.21507626714 0.0 -0.222776596868 1.0 0.0 0.0\n",
        "9 79.8954364104 38.4064924085 0.0 -0.316626151593 1.0 0.0 0.0\n",
        "10 126.140042766 79.8954364104 0.0 -0.352919364291 1.0 0.0 0.0\n",
        "11 170.212076703 126.140042766 0.0 -0.336339206363 1.0 0.0 0.0\n",
        "12 206.227456386 170.212076703 0.0 -0.274854213374 1.0 0.0 0.0\n",
        "13 229.707525063 206.227456386 0.0 -0.179189997792 1.0 0.0 0.0\n",
        "14 237.851778663 229.707525063 0.0 -0.0621535143224 1.0 0.0 0.0\n",
        "15 229.707525063 237.851778663 0.0621535143224 0.109216981738 0.0 0.0 1.0\n",
        "16 206.227456386 229.707525063 0.179189997792 0.31873768862 0.0 0.0 1.0\n",
        "17 170.212076703 206.227456386 0.274854213374 0.502019267097 0.0 0.0 1.0\n",
        "18 126.140042766 170.212076703 0.336339206363 0.643212050755 0.0 0.0 1.0\n",
        "19 79.8954364104 126.140042766 0.352919364291 0.728842260488 0.0 0.0 1.0\n",
        "20 38.4064924085 79.8954364104 0.316626151593 0.748589401132 0.0 0.0 1.0\n",
        "21 9.21507626714 38.4064924085 0.222776596868 0.695901033232 0.0 0.0 1.0\n",
        "22 -1.82964754458e-13 9.21507626714 0.0703255820387 0.5684126521 0.0 0.0 1.0\n",
        "23 -1.82964754458e-13 -1.82964754458e-13 0.0 0.368150093512 0.0 0.0 0.0\n",
        "24 -1.82964754458e-13 -1.82964754458e-13 0.0 0.10150271582 0.0 0.0 0.0\n",
        "25 -1.82964754458e-13 -1.82964754458e-13 0.0 0.0 0.0 0.0 0.0\n",
        "26 -1.82964754458e-13 -1.82964754458e-13 0.0 0.0 -0.0 0.0 0.0\n",
        "27 -1.82964754458e-13 -1.82964754458e-13 0.0 0.0 -0.0 0.0 0.0\n",
        "28 -1.82964754458e-13 -1.82964754458e-13 0.0 0.0 -0.0 0.0 0.0\n"
       ]
      },
      {
       "metadata": {},
       "output_type": "pyout",
       "prompt_number": 133,
       "text": [
        "<matplotlib.collections.QuadMesh at 0xb256fd0>"
       ]
      },
      {
       "metadata": {},
       "output_type": "display_data",
       "png": "[encoded data removed]",
       "text": [
        "<matplotlib.figure.Figure at 0xa796fd0>"
       ]
      }
     ],
     "prompt_number": 133
    },
    {
     "cell_type": "code",
     "collapsed": false,
     "input": [],
     "language": "python",
     "metadata": {},
     "outputs": []
    }
   ],
   "metadata": {}
  }
 ]
}