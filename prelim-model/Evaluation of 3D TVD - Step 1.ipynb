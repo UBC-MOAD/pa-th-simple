{
 "metadata": {
  "name": "",
  "signature": "sha256:5b06dd8b49b5d7ed3007e5e612fa2607c8339cdc9e2369b95cd526036252e3ee"
 },
 "nbformat": 3,
 "nbformat_minor": 0,
 "worksheets": []
}