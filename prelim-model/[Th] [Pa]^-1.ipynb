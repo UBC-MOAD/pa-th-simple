{
 "metadata": {
  "name": "",
  "signature": "sha256:ae9405f7269b26dd1984458a5a81fae67b0f8bf0e82b834c08c58c0f41ce6cb5"
 },
 "nbformat": 3,
 "nbformat_minor": 0,
 "worksheets": [
  {
   "cells": [
    {
     "cell_type": "markdown",
     "metadata": {},
     "source": [
      "Plots [Th]/[Pa] for three different velocity fields: stationary, single cell, and two cell overturning."
     ]
    },
    {
     "cell_type": "code",
     "collapsed": false,
     "input": [
      "from __future__ import division\n",
      "import numpy\n",
      "import pylab\n",
      "import math\n",
      "import matplotlib.pyplot as plt\n",
      "from math import pi\n",
      "import Th2D\n",
      "%matplotlib inline"
     ],
     "language": "python",
     "metadata": {},
     "outputs": [],
     "prompt_number": 1
    },
    {
     "cell_type": "code",
     "collapsed": false,
     "input": [
      "reload(Th2D)"
     ],
     "language": "python",
     "metadata": {},
     "outputs": [
      {
       "metadata": {},
       "output_type": "pyout",
       "prompt_number": 24,
       "text": [
        "<module 'Th2D' from 'Th2D.py'>"
       ]
      }
     ],
     "prompt_number": 24
    },
    {
     "cell_type": "heading",
     "level": 3,
     "metadata": {},
     "source": [
      "Zero Velocity"
     ]
    },
    {
     "cell_type": "code",
     "collapsed": false,
     "input": [
      "# set parameters\n",
      "\n",
      "T = 0.01\n",
      "V = 10\n",
      "xmin = 1\n",
      "xmax = 10000\n",
      "zmin = 0\n",
      "zmax = 5000\n",
      "nz = 20\n",
      "nx = 20\n",
      "\n",
      "# velocity field\n",
      "[u, flowfig] = Th2D.u_zero(xmin, xmax, zmin, zmax, nx, nz)\n",
      "\n",
      "# Th chemistry\n",
      "[Tk_ad, Tk_de, TQ] = Th2D.k_sorp('Th', xmin, xmax, zmin, zmax, nx, nz)\n",
      "\n",
      "# Pa chemistry\n",
      "[Pk_ad, Pk_de, PQ] = Th2D.k_sorp('Pa', xmin, xmax, zmin, zmax, nx, nz)\n",
      "\n",
      "# [Th] loop\n",
      "[flowfig, meshTh, DTh, PTh] = Th2D.adflow(T, V, u, nz, nx, Tk_ad, Tk_de, TQ, flowfig)\n",
      "pylab.close()\n",
      "pylab.close()\n",
      "\n",
      "# [Pa] loop\n",
      "[flowfig, meshTh, DPa, PPa] = Th2D.adflow(T, V, u, nz, nx, Pk_ad, Pk_de, PQ, flowfig)\n",
      "pylab.close()\n",
      "pylab.close()\n",
      "\n",
      "# plot ratio of [Th]/[Pa]\n",
      "ThPa = Th2D.plotratio(DTh, DPa, PTh, PPa, xmin, xmax, zmin, zmax, nx, nz)"
     ],
     "language": "python",
     "metadata": {},
     "outputs": [
      {
       "output_type": "stream",
       "stream": "stderr",
       "text": [
        "Th2D.py:517: RuntimeWarning: invalid value encountered in true_divide\n",
        "  ratio = PPa/PTh\n"
       ]
      },
      {
       "metadata": {},
       "output_type": "display_data",
       "png": "[encoded data removed]",
       "text": [
        "<matplotlib.figure.Figure at 0x3a94790>"
       ]
      }
     ],
     "prompt_number": 25
    },
    {
     "cell_type": "code",
     "collapsed": false,
     "input": [
      "T = 2\n",
      "\n",
      "# [Th] loop\n",
      "[flowfig, meshTh, DTh, PTh] = Th2D.adflow(T, V, u, nz, nx, Tk_ad, Tk_de, TQ, flowfig)\n",
      "pylab.close()\n",
      "pylab.close()\n",
      "\n",
      "# [Pa] loop\n",
      "[flowfig, meshTh, DPa, PPa] = Th2D.adflow(T, V, u, nz, nx, Pk_ad, Pk_de, PQ, flowfig)\n",
      "pylab.close()\n",
      "pylab.close()\n",
      "\n",
      "# plot ratio of [Th]/[Pa]\n",
      "ThParatio = Th2D.plotratio(DTh, DPa, PTh, PPa, xmin, xmax, zmin, zmax, nx, nz)"
     ],
     "language": "python",
     "metadata": {},
     "outputs": []
    },
    {
     "cell_type": "code",
     "collapsed": false,
     "input": [
      "T = 3\n",
      "\n",
      "# [Th] loop\n",
      "[flowfig, meshTh, DTh, PTh] = Th2D.adflow(T, V, u, nz, nx, Tk_ad, Tk_de, TQ, flowfig)\n",
      "pylab.close()\n",
      "pylab.close()\n",
      "\n",
      "# [Pa] loop\n",
      "[flowfig, meshTh, DPa, PPa] = Th2D.adflow(T, V, u, nz, nx, Pk_ad, Pk_de, PQ, flowfig)\n",
      "pylab.close()\n",
      "pylab.close()\n",
      "\n",
      "# plot ratio of [Th]/[Pa]\n",
      "ThParatio = Th2D.plotratio(DTh, DPa, PTh, PPa, xmin, xmax, zmin, zmax, nx, nz)"
     ],
     "language": "python",
     "metadata": {},
     "outputs": []
    },
    {
     "cell_type": "code",
     "collapsed": false,
     "input": [],
     "language": "python",
     "metadata": {},
     "outputs": []
    }
   ],
   "metadata": {}
  }
 ]
}