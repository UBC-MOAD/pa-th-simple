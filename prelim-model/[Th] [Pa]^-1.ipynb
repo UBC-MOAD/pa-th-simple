{
 "metadata": {
  "name": "",
  "signature": "sha256:dacc5a03e618d34ef66056f5d57751315e1890d4e620302b1049cb628f47e1c9"
 },
 "nbformat": 3,
 "nbformat_minor": 0,
 "worksheets": [
  {
   "cells": [
    {
     "cell_type": "markdown",
     "metadata": {},
     "source": [
      "Plots [Th]/[Pa] for three different velocity fields: stationary, single cell, and two cell overturning."
     ]
    },
    {
     "cell_type": "code",
     "collapsed": false,
     "input": [
      "from __future__ import division\n",
      "import numpy\n",
      "import pylab\n",
      "import math\n",
      "import matplotlib.pyplot as plt\n",
      "from math import pi\n",
      "import Th2D\n",
      "%matplotlib inline"
     ],
     "language": "python",
     "metadata": {},
     "outputs": [],
     "prompt_number": 1
    },
    {
     "cell_type": "code",
     "collapsed": false,
     "input": [
      "reload(Th2D)"
     ],
     "language": "python",
     "metadata": {},
     "outputs": [
      {
       "metadata": {},
       "output_type": "pyout",
       "prompt_number": 24,
       "text": [
        "<module 'Th2D' from 'Th2D.py'>"
       ]
      }
     ],
     "prompt_number": 24
    },
    {
     "cell_type": "heading",
     "level": 3,
     "metadata": {},
     "source": [
      "Zero Velocity"
     ]
    },
    {
     "cell_type": "code",
     "collapsed": false,
     "input": [
      "# set parameters\n",
      "\n",
      "T = 1\n",
      "V = 10\n",
      "xmin = 1\n",
      "xmax = 10000\n",
      "zmin = 0\n",
      "zmax = 5000\n",
      "nz = 20\n",
      "nx = 20\n",
      "\n",
      "# velocity field\n",
      "[u, flowfig] = Th2D.u_zero(xmin, xmax, zmin, zmax, nx, nz)\n",
      "\n",
      "# Th chemistry\n",
      "[Tk_ad, Tk_de, TQ] = Th2D.k_sorp('Th', xmin, xmax, zmin, zmax, nx, nz)\n",
      "\n",
      "# Pa chemistry\n",
      "[Pk_ad, Pk_de, PQ] = Th2D.k_sorp('Pa', xmin, xmax, zmin, zmax, nx, nz)\n",
      "\n",
      "# [Th] loop\n",
      "[flowfig, meshTh, DTh, PTh] = Th2D.adflow(T, V, u, nz, nx, Tk_ad, Tk_de, TQ, flowfig)\n",
      "pylab.close()\n",
      "pylab.close()\n",
      "\n",
      "# [Pa] loop\n",
      "[flowfig, meshTh, DPa, PPa] = Th2D.adflow(T, V, u, nz, nx, Pk_ad, Pk_de, PQ, flowfig)\n",
      "pylab.close()\n",
      "pylab.close()\n",
      "\n",
      "# plot ratio of [Th]/[Pa]\n",
      "ThPa = Th2D.plotratio(DTh, DPa, PTh, PPa, xmin, xmax, zmin, zmax, nx, nz)"
     ],
     "language": "python",
     "metadata": {},
     "outputs": []
    },
    {
     "cell_type": "code",
     "collapsed": false,
     "input": [
      "T = 2\n",
      "\n",
      "# [Th] loop\n",
      "[flowfig, meshTh, DTh, PTh] = Th2D.adflow(T, V, u, nz, nx, Tk_ad, Tk_de, TQ, flowfig)\n",
      "pylab.close()\n",
      "pylab.close()\n",
      "\n",
      "# [Pa] loop\n",
      "[flowfig, meshTh, DPa, PPa] = Th2D.adflow(T, V, u, nz, nx, Pk_ad, Pk_de, PQ, flowfig)\n",
      "pylab.close()\n",
      "pylab.close()\n",
      "\n",
      "# plot ratio of [Th]/[Pa]\n",
      "ThParatio = Th2D.plotratio(DTh, DPa, PTh, PPa, xmin, xmax, zmin, zmax, nx, nz)"
     ],
     "language": "python",
     "metadata": {},
     "outputs": [
      {
       "metadata": {},
       "output_type": "display_data",
       "png": "[encoded data removed]",
       "text": [
        "<matplotlib.figure.Figure at 0x5212e50>"
       ]
      }
     ]
    },
    {
     "cell_type": "code",
     "collapsed": false,
     "input": [
      "T = 3\n",
      "\n",
      "# [Th] loop\n",
      "[flowfig, meshTh, DTh, PTh] = Th2D.adflow(T, V, u, nz, nx, Tk_ad, Tk_de, TQ, flowfig)\n",
      "pylab.close()\n",
      "pylab.close()\n",
      "\n",
      "# [Pa] loop\n",
      "[flowfig, meshTh, DPa, PPa] = Th2D.adflow(T, V, u, nz, nx, Pk_ad, Pk_de, PQ, flowfig)\n",
      "pylab.close()\n",
      "pylab.close()\n",
      "\n",
      "# plot ratio of [Th]/[Pa]\n",
      "ThParatio = Th2D.plotratio(DTh, DPa, PTh, PPa, xmin, xmax, zmin, zmax, nx, nz)"
     ],
     "language": "python",
     "metadata": {},
     "outputs": []
    },
    {
     "cell_type": "code",
     "collapsed": false,
     "input": [],
     "language": "python",
     "metadata": {},
     "outputs": []
    }
   ],
   "metadata": {}
  }
 ]
}