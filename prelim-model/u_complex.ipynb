{
 "metadata": {
  "name": "",
  "signature": "sha256:957817e812ce901d2f7ad7804b19c530bb9d74337279134d0e23e604f6dd43b0"
 },
 "nbformat": 3,
 "nbformat_minor": 0,
 "worksheets": [
  {
   "cells": [
    {
     "cell_type": "code",
     "collapsed": false,
     "input": [
      "# define a grid that will produce downwelling\n",
      "a = g.xmax\n",
      "b = g.zmax\n",
      "x = numpy.empty(nx)\n",
      "z = numpy.empty(nz)\n",
      "x[:round(nx/4)] = numpy.linspace(-a/2, 0, len(x[:round(nx/4)]))\n",
      "x[round(nx/4) : round(nx/2)] = numpy.linspace(0, a/2, len(x[round(nx/4) : round(nx/2)]))\n",
      "x[round(nx/2) : round(3*nx/4)] = numpy.linspace(a/2, 0, len(x[round(nx/2) : round(3*nx/4)]))\n",
      "x[round(3*nx/4) : nx] = numpy.linspace(0, -a/2, len(x[round(3*nx/4) : nx]))\n",
      "z[:round(nz/2)] = numpy.linspace(-b/2, 0, len(z[:round(nz/2)]))\n",
      "z[round(nz/2) : nz] = numpy.linspace(0, b/2, len(z[round(nz/2) : nz]))\n",
      "[xx, zz] = numpy.meshgrid(x, z)\n",
      "zz[0:, nx/2:] = - zz[0:, nx/2:]  \n",
      "rr = numpy.sqrt(xx**2 + zz**2)\n",
      "ux = numpy.zeros([nz, nx])\n",
      "uz = numpy.zeros([nz, nx])\n",
      "\n",
      "# use logical indexing to define points of non-zero velocity\n",
      "theta = numpy.arctan(zz/xx)\n",
      "idx = rr < a*b/(4*numpy.sqrt(1/4 * ((b*numpy.cos(theta))**2 + (a*numpy.sin(theta))**2)))\n",
      "ux[idx] = numpy.sin(2*pi*rr[idx] / numpy.sqrt((a*numpy.cos(theta[idx])) ** 2 + \n",
      "                                        (b*numpy.sin(theta[idx]))**2))/rr[idx] * -zz[idx]\n",
      "uz[idx] = numpy.sin(2*pi*rr[idx] / numpy.sqrt((a*numpy.cos(theta[idx])) ** 2 + \n",
      "                                        (b*numpy.sin(theta[idx]))**2))/rr[idx] * xx[idx]\n",
      "\n",
      "pylab.subplots(1, 1, figsize = (10, 8))\n",
      "pylab.quiver(-ux, -uz)\n",
      "pylab.title('Downwelling Velocity field')"
     ],
     "language": "python",
     "metadata": {},
     "outputs": []
    }
   ],
   "metadata": {}
  }
 ]
}