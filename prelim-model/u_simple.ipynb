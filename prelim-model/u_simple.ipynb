{
 "metadata": {
  "name": "",
  "signature": "sha256:306802451a6deda6c183123e6ef35ea5c4c9aad1bde59a64c6e55cf21389fa75"
 },
 "nbformat": 3,
 "nbformat_minor": 0,
 "worksheets": [
  {
   "cells": [
    {
     "cell_type": "code",
     "collapsed": false,
     "input": [
      "\"\"\"\n",
      "u_simple computes a simple rotational, divergenceless flow field on a flexible domain\n",
      "\n",
      "\"\"\"\n",
      "def u_simple(a, b, theta, rr, xx, zz):\n",
      "    ux = numpy.zeros([nz, nx])\n",
      "    uz = numpy.zeros([nz, nx])\n",
      "    idx = rr < a*b/(4*numpy.sqrt(1/4 * ((b*numpy.cos(theta))**2 + (a*numpy.sin(theta))**2)))\n",
      "    ux[idx] = numpy.sin(2*pi*rr[idx] / numpy.sqrt((a*numpy.cos(theta[idx])) ** 2 + \n",
      "                                            (b*numpy.sin(theta[idx]))**2))/rr[idx] * -zz[idx]\n",
      "\n",
      "    uz[idx] = numpy.sin(2*pi*rr[idx] / numpy.sqrt((a*numpy.cos(theta[idx])) ** 2 + \n",
      "                                            (b*numpy.sin(theta[idx]))**2))/rr[idx] * xx[idx]\n",
      "    return ux, uz"
     ],
     "language": "python",
     "metadata": {},
     "outputs": []
    }
   ],
   "metadata": {}
  }
 ]
}