{
 "metadata": {
  "name": "",
  "signature": "sha256:dc6decd44201c3b6389bbc6e549a73cadb98f72af334bc490b16a3b516254b1d"
 },
 "nbformat": 3,
 "nbformat_minor": 0,
 "worksheets": [
  {
   "cells": [
    {
     "cell_type": "code",
     "collapsed": false,
     "input": [],
     "language": "python",
     "metadata": {},
     "outputs": []
    }
   ],
   "metadata": {}
  }
 ]
}