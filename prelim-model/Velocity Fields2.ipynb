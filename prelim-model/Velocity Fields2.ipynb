{
 "metadata": {
  "name": "",
  "signature": "sha256:f824fbffd4b7c77bae7a38379f5393fb05ca95a7ff2affc255e500d3e5c16a67"
 },
 "nbformat": 3,
 "nbformat_minor": 0,
 "worksheets": [
  {
   "cells": [
    {
     "cell_type": "markdown",
     "metadata": {},
     "source": [
      "I want this to show up as descrptive text beneath the nb veiwer link!"
     ]
    }
   ],
   "metadata": {}
  }
 ]
}